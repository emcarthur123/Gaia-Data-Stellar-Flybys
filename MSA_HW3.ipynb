{
 "cells": [
  {
   "cell_type": "code",
   "execution_count": 2,
   "id": "2812e244-0c72-423e-9754-70fcec7ebdcb",
   "metadata": {},
   "outputs": [
    {
     "name": "stdout",
     "output_type": "stream",
     "text": [
      "Requirement already satisfied: astropy in /opt/anaconda3/envs/Git_JupyterLab/lib/python3.9/site-packages (5.2.1)\n",
      "Requirement already satisfied: numpy>=1.20 in /opt/anaconda3/envs/Git_JupyterLab/lib/python3.9/site-packages (from astropy) (1.23.5)\n",
      "Requirement already satisfied: pyerfa>=2.0 in /opt/anaconda3/envs/Git_JupyterLab/lib/python3.9/site-packages (from astropy) (2.0.0.1)\n",
      "Requirement already satisfied: PyYAML>=3.13 in /opt/anaconda3/envs/Git_JupyterLab/lib/python3.9/site-packages (from astropy) (6.0)\n",
      "Requirement already satisfied: packaging>=19.0 in /opt/anaconda3/envs/Git_JupyterLab/lib/python3.9/site-packages (from astropy) (22.0)\n"
     ]
    }
   ],
   "source": [
    "import sys\n",
    "!{sys.executable} -m pip install astropy\n",
    "from astropy.table import Table\n",
    "import matplotlib.pyplot as plt\n",
    "import numpy as np\n",
    "import pandas as pd\n",
    "import scipy as scipy\n",
    "import scipy.stats as stats\n",
    "from scipy import optimize\n",
    "from astropy.io import fits\n",
    "from astropy.table import Table\n",
    "from scipy import interpolate\n",
    "%matplotlib inline\n",
    "from matplotlib.patches import Rectangle\n",
    "\n",
    "\n",
    "np.set_printoptions(threshold=np.inf)\n",
    "np.set_printoptions(precision = 40, suppress = True)"
   ]
  },
  {
   "cell_type": "code",
   "execution_count": 26,
   "id": "dd111a3c-4196-435d-b37c-72ab8389bf44",
   "metadata": {},
   "outputs": [],
   "source": [
    "Darwin_Sample = fits.open('/Users/edm/Desktop/MSA_Table_HW3')\n",
    "Darwin_Sample2 = Table(Darwin_Sample[1].data)"
   ]
  },
  {
   "cell_type": "code",
   "execution_count": 27,
   "id": "35f621cd-f7d2-420a-802d-f741cb39c17b",
   "metadata": {},
   "outputs": [
    {
     "data": {
      "text/html": [
       "<div><i>Table length=2120</i>\n",
       "<table id=\"table140293768598960\" class=\"table-striped table-bordered table-condensed\">\n",
       "<thead><tr><th>Mass</th><th>log(L)</th><th>Teff</th><th>Per</th><th>up</th><th>fl</th><th>log(nd/nH)</th><th>dM/dt</th><th>uinf</th><th>agr</th><th>fSi</th><th>gtd</th></tr></thead>\n",
       "<thead><tr><th>float32</th><th>float32</th><th>int16</th><th>int16</th><th>float32</th><th>float32</th><th>float32</th><th>float32</th><th>float32</th><th>float32</th><th>float32</th><th>float32</th></tr></thead>\n",
       "<tr><td>0.75</td><td>3.1</td><td>2200</td><td>130</td><td>4.0</td><td>2.0</td><td>-14.5</td><td>2.87e-08</td><td>0.5</td><td>0.49</td><td>0.56</td><td>498.9</td></tr>\n",
       "<tr><td>0.75</td><td>3.1</td><td>2200</td><td>130</td><td>3.0</td><td>2.0</td><td>-14.5</td><td>3.64e-08</td><td>1.2</td><td>0.49</td><td>0.57</td><td>498.8</td></tr>\n",
       "<tr><td>0.75</td><td>3.1</td><td>2200</td><td>130</td><td>2.0</td><td>2.0</td><td>-14.5</td><td>3.74e-08</td><td>2.1</td><td>0.49</td><td>0.57</td><td>494.7</td></tr>\n",
       "<tr><td>0.75</td><td>3.1</td><td>2300</td><td>130</td><td>2.0</td><td>2.0</td><td>-14.5</td><td>2.55e-08</td><td>1.4</td><td>0.48</td><td>0.56</td><td>506.3</td></tr>\n",
       "<tr><td>0.75</td><td>3.1</td><td>2300</td><td>130</td><td>3.0</td><td>2.0</td><td>-14.5</td><td>2.1e-08</td><td>0.7</td><td>0.48</td><td>0.56</td><td>507.7</td></tr>\n",
       "<tr><td>0.75</td><td>3.25</td><td>2200</td><td>168</td><td>3.0</td><td>2.0</td><td>-14.5</td><td>2.07e-07</td><td>4.3</td><td>0.44</td><td>0.43</td><td>662.6</td></tr>\n",
       "<tr><td>0.75</td><td>3.25</td><td>2200</td><td>168</td><td>2.0</td><td>2.0</td><td>-15.0</td><td>1.04e-07</td><td>2.9</td><td>0.63</td><td>0.42</td><td>669.8</td></tr>\n",
       "<tr><td>0.75</td><td>3.25</td><td>2200</td><td>168</td><td>4.0</td><td>2.0</td><td>-15.0</td><td>1.31e-07</td><td>1.5</td><td>0.63</td><td>0.41</td><td>683.8</td></tr>\n",
       "<tr><td>0.75</td><td>3.25</td><td>2200</td><td>168</td><td>4.0</td><td>2.0</td><td>-14.5</td><td>2.35e-07</td><td>3.6</td><td>0.44</td><td>0.42</td><td>669.9</td></tr>\n",
       "<tr><td>0.75</td><td>3.25</td><td>2200</td><td>168</td><td>3.0</td><td>2.0</td><td>-15.0</td><td>1.21e-07</td><td>2.3</td><td>0.63</td><td>0.42</td><td>676.3</td></tr>\n",
       "<tr><td>...</td><td>...</td><td>...</td><td>...</td><td>...</td><td>...</td><td>...</td><td>...</td><td>...</td><td>...</td><td>...</td><td>...</td></tr>\n",
       "<tr><td>3.0</td><td>4.6</td><td>2500</td><td>1760</td><td>4.0</td><td>2.0</td><td>-15.0</td><td>1.38e-05</td><td>31.3</td><td>0.56</td><td>0.29</td><td>959.3</td></tr>\n",
       "<tr><td>3.0</td><td>4.6</td><td>2500</td><td>1760</td><td>2.0</td><td>2.0</td><td>-15.0</td><td>4.45e-06</td><td>24.0</td><td>0.47</td><td>0.18</td><td>1605.6</td></tr>\n",
       "<tr><td>3.0</td><td>4.6</td><td>2600</td><td>1760</td><td>3.0</td><td>2.0</td><td>-14.5</td><td>5.86e-06</td><td>37.7</td><td>0.39</td><td>0.29</td><td>987.4</td></tr>\n",
       "<tr><td>3.0</td><td>4.6</td><td>2600</td><td>1760</td><td>4.0</td><td>2.0</td><td>-15.0</td><td>1.22e-05</td><td>21.5</td><td>0.46</td><td>0.16</td><td>1810.4</td></tr>\n",
       "<tr><td>3.0</td><td>4.6</td><td>2600</td><td>1760</td><td>3.0</td><td>2.0</td><td>-15.0</td><td>3.85e-06</td><td>32.6</td><td>0.5</td><td>0.2</td><td>1377.0</td></tr>\n",
       "<tr><td>3.0</td><td>4.6</td><td>2600</td><td>1760</td><td>4.0</td><td>2.0</td><td>-14.5</td><td>1.48e-05</td><td>23.3</td><td>0.34</td><td>0.2</td><td>1407.1</td></tr>\n",
       "<tr><td>3.0</td><td>4.6</td><td>2600</td><td>1760</td><td>2.0</td><td>2.0</td><td>-15.0</td><td>5.22e-08</td><td>4.2</td><td>0.37</td><td>0.08</td><td>3501.2</td></tr>\n",
       "<tr><td>3.0</td><td>4.6</td><td>2600</td><td>1760</td><td>2.0</td><td>2.0</td><td>-14.5</td><td>1.08e-06</td><td>18.4</td><td>0.32</td><td>0.15</td><td>1821.7</td></tr>\n",
       "<tr><td>3.0</td><td>4.6</td><td>2800</td><td>1760</td><td>4.0</td><td>2.0</td><td>-14.5</td><td>2.09e-06</td><td>24.5</td><td>0.32</td><td>0.16</td><td>1768.1</td></tr>\n",
       "<tr><td>3.0</td><td>4.6</td><td>2800</td><td>1760</td><td>4.0</td><td>2.0</td><td>-15.0</td><td>6.46e-07</td><td>20.9</td><td>0.41</td><td>0.12</td><td>2437.0</td></tr>\n",
       "</table></div>"
      ],
      "text/plain": [
       "<Table length=2120>\n",
       "  Mass   log(L)  Teff  Per     up   ...  dM/dt     uinf    agr     fSi     gtd  \n",
       "float32 float32 int16 int16 float32 ... float32  float32 float32 float32 float32\n",
       "------- ------- ----- ----- ------- ... -------- ------- ------- ------- -------\n",
       "   0.75     3.1  2200   130     4.0 ... 2.87e-08     0.5    0.49    0.56   498.9\n",
       "   0.75     3.1  2200   130     3.0 ... 3.64e-08     1.2    0.49    0.57   498.8\n",
       "   0.75     3.1  2200   130     2.0 ... 3.74e-08     2.1    0.49    0.57   494.7\n",
       "   0.75     3.1  2300   130     2.0 ... 2.55e-08     1.4    0.48    0.56   506.3\n",
       "   0.75     3.1  2300   130     3.0 ...  2.1e-08     0.7    0.48    0.56   507.7\n",
       "   0.75    3.25  2200   168     3.0 ... 2.07e-07     4.3    0.44    0.43   662.6\n",
       "   0.75    3.25  2200   168     2.0 ... 1.04e-07     2.9    0.63    0.42   669.8\n",
       "   0.75    3.25  2200   168     4.0 ... 1.31e-07     1.5    0.63    0.41   683.8\n",
       "   0.75    3.25  2200   168     4.0 ... 2.35e-07     3.6    0.44    0.42   669.9\n",
       "   0.75    3.25  2200   168     3.0 ... 1.21e-07     2.3    0.63    0.42   676.3\n",
       "    ...     ...   ...   ...     ... ...      ...     ...     ...     ...     ...\n",
       "    3.0     4.6  2500  1760     4.0 ... 1.38e-05    31.3    0.56    0.29   959.3\n",
       "    3.0     4.6  2500  1760     2.0 ... 4.45e-06    24.0    0.47    0.18  1605.6\n",
       "    3.0     4.6  2600  1760     3.0 ... 5.86e-06    37.7    0.39    0.29   987.4\n",
       "    3.0     4.6  2600  1760     4.0 ... 1.22e-05    21.5    0.46    0.16  1810.4\n",
       "    3.0     4.6  2600  1760     3.0 ... 3.85e-06    32.6     0.5     0.2  1377.0\n",
       "    3.0     4.6  2600  1760     4.0 ... 1.48e-05    23.3    0.34     0.2  1407.1\n",
       "    3.0     4.6  2600  1760     2.0 ... 5.22e-08     4.2    0.37    0.08  3501.2\n",
       "    3.0     4.6  2600  1760     2.0 ... 1.08e-06    18.4    0.32    0.15  1821.7\n",
       "    3.0     4.6  2800  1760     4.0 ... 2.09e-06    24.5    0.32    0.16  1768.1\n",
       "    3.0     4.6  2800  1760     4.0 ... 6.46e-07    20.9    0.41    0.12  2437.0"
      ]
     },
     "execution_count": 27,
     "metadata": {},
     "output_type": "execute_result"
    }
   ],
   "source": [
    "Darwin_Sample2"
   ]
  },
  {
   "cell_type": "code",
   "execution_count": 28,
   "id": "f604c15d-b151-4346-ae19-77640dc46225",
   "metadata": {},
   "outputs": [
    {
     "data": {
      "text/plain": [
       "['Mass',\n",
       " 'log(L)',\n",
       " 'Teff',\n",
       " 'Per',\n",
       " 'up',\n",
       " 'fl',\n",
       " 'log(nd/nH)',\n",
       " 'dM/dt',\n",
       " 'uinf',\n",
       " 'agr',\n",
       " 'fSi',\n",
       " 'gtd']"
      ]
     },
     "execution_count": 28,
     "metadata": {},
     "output_type": "execute_result"
    }
   ],
   "source": [
    "Darwin_Sample2.colnames"
   ]
  },
  {
   "cell_type": "code",
   "execution_count": 16,
   "id": "ab2792a9-4258-4489-bd22-5a0ff3def07c",
   "metadata": {
    "tags": []
   },
   "outputs": [],
   "source": [
    "#D is short hand for darwin\n",
    "D_Massrate = np.asarray(Darwin_Sample2[\"dM/dt\"])\n",
    "D_Luminosity = np.asarray(Darwin_Sample2[\"log(L)\"])\n",
    "D_Teff = np.asarray(Darwin_Sample2[\"Teff\"])\n",
    "D_Mass = np.asarray(Darwin_Sample2[\"Mass\"])"
   ]
  },
  {
   "cell_type": "code",
   "execution_count": 34,
   "id": "7f80bb5a-28ac-430d-ba55-839a9507db87",
   "metadata": {
    "collapsed": true,
    "jupyter": {
     "outputs_hidden": true
    },
    "tags": []
   },
   "outputs": [
    {
     "data": {
      "text/plain": [
       "array([3.1 , 3.1 , 3.1 , 3.1 , 3.1 , 3.25, 3.25, 3.25, 3.25, 3.25, 3.25,\n",
       "       3.25, 3.25, 3.25, 3.25, 3.25, 3.25, 3.25, 3.25, 3.25, 3.25, 3.25,\n",
       "       3.25, 3.25, 3.25, 3.25, 3.25, 3.25, 3.25, 3.25, 3.25, 3.25, 3.25,\n",
       "       3.25, 3.25, 3.25, 3.25, 3.25, 3.25, 3.25, 3.25, 3.25, 3.25, 3.25,\n",
       "       3.25, 3.25, 3.25, 3.25, 3.25, 3.25, 3.25, 3.25, 3.25, 3.25, 3.25,\n",
       "       3.4 , 3.4 , 3.4 , 3.4 , 3.4 , 3.4 , 3.4 , 3.4 , 3.4 , 3.4 , 3.4 ,\n",
       "       3.4 , 3.4 , 3.4 , 3.4 , 3.4 , 3.4 , 3.4 , 3.4 , 3.4 , 3.4 , 3.4 ,\n",
       "       3.4 , 3.4 , 3.4 , 3.4 , 3.4 , 3.4 , 3.4 , 3.4 , 3.4 , 3.4 , 3.4 ,\n",
       "       3.4 , 3.4 , 3.4 , 3.4 , 3.4 , 3.4 , 3.4 , 3.4 , 3.4 , 3.4 , 3.4 ,\n",
       "       3.4 , 3.4 , 3.4 , 3.4 , 3.4 , 3.4 , 3.4 , 3.4 , 3.4 , 3.4 , 3.4 ,\n",
       "       3.4 , 3.4 , 3.4 , 3.4 , 3.4 , 3.4 , 3.4 , 3.4 , 3.4 , 3.4 , 3.4 ,\n",
       "       3.4 , 3.4 , 3.4 , 3.4 , 3.4 , 3.4 , 3.4 , 3.4 , 3.4 , 3.4 , 3.4 ,\n",
       "       3.4 , 3.4 , 3.4 , 3.4 , 3.4 , 3.4 , 3.4 , 3.4 , 3.4 , 3.4 , 3.4 ,\n",
       "       3.4 , 3.4 , 3.4 , 3.4 , 3.4 , 3.4 , 3.4 , 3.4 , 3.4 , 3.4 , 3.4 ,\n",
       "       3.55, 3.55, 3.55, 3.55, 3.55, 3.55, 3.55, 3.55, 3.55, 3.55, 3.55,\n",
       "       3.55, 3.55, 3.55, 3.55, 3.55, 3.55, 3.55, 3.55, 3.55, 3.55, 3.55,\n",
       "       3.55, 3.55, 3.55, 3.55, 3.55, 3.55, 3.55, 3.55, 3.55, 3.55, 3.55,\n",
       "       3.55, 3.55, 3.55, 3.55, 3.55, 3.55, 3.55, 3.55, 3.55, 3.55, 3.7 ,\n",
       "       3.7 , 3.7 , 3.7 , 3.7 , 3.7 , 3.7 , 3.7 , 3.7 , 3.7 , 3.7 , 3.7 ,\n",
       "       3.7 , 3.7 , 3.7 , 3.7 , 3.7 , 3.7 , 3.7 , 3.7 , 3.7 , 3.7 , 3.7 ,\n",
       "       3.7 , 3.7 , 3.7 , 3.7 , 3.7 , 3.7 , 3.7 , 3.7 , 3.7 , 3.7 , 3.7 ,\n",
       "       3.7 , 3.7 , 3.7 , 3.7 , 3.7 , 3.7 , 3.7 , 3.7 , 3.7 , 3.7 , 3.7 ,\n",
       "       3.7 , 3.7 , 3.7 , 3.7 , 3.7 , 3.7 , 3.7 , 3.7 , 3.7 , 3.7 , 3.7 ,\n",
       "       3.7 , 3.7 , 3.7 , 3.7 , 3.7 , 3.7 , 3.7 , 3.7 , 3.7 , 3.7 , 3.7 ,\n",
       "       3.7 , 3.7 , 3.7 , 3.7 , 3.7 , 3.7 , 3.7 , 3.7 , 3.7 , 3.7 , 3.7 ,\n",
       "       3.7 , 3.7 , 3.7 , 3.7 , 3.7 , 3.7 , 3.7 , 3.7 , 3.7 , 3.7 , 3.7 ,\n",
       "       3.7 , 3.7 , 3.7 , 3.7 , 3.7 , 3.85, 3.85, 3.85, 3.85, 3.85, 3.85,\n",
       "       3.85, 3.85, 3.85, 3.85, 3.85, 3.85, 3.85, 3.85, 3.85, 3.85, 3.85,\n",
       "       3.85, 3.85, 3.85, 3.85, 3.85, 3.85, 3.85, 3.85, 3.85, 3.85, 3.85,\n",
       "       3.85, 3.85, 3.85, 3.85, 3.85, 3.85, 3.85, 3.85, 3.85, 3.85, 3.85,\n",
       "       3.85, 3.85, 3.85, 3.85, 3.85, 3.85, 3.85, 3.85, 3.85, 3.85, 3.85,\n",
       "       3.85, 3.85, 3.85, 3.85, 3.85, 3.85, 3.85, 3.85, 3.85, 3.85, 3.85,\n",
       "       3.85, 3.85, 3.85, 3.85, 3.85, 3.85, 3.85, 3.85, 3.85, 3.85, 3.85,\n",
       "       3.25, 3.25, 3.25, 3.25, 3.25, 3.25, 3.25, 3.25, 3.25, 3.25, 3.25,\n",
       "       3.25, 3.4 , 3.4 , 3.4 , 3.4 , 3.4 , 3.4 , 3.4 , 3.4 , 3.4 , 3.4 ,\n",
       "       3.4 , 3.4 , 3.4 , 3.4 , 3.4 , 3.4 , 3.4 , 3.4 , 3.4 , 3.4 , 3.4 ,\n",
       "       3.4 , 3.4 , 3.4 , 3.4 , 3.4 , 3.4 , 3.4 , 3.4 , 3.4 , 3.4 , 3.4 ,\n",
       "       3.4 , 3.4 , 3.4 , 3.4 , 3.4 , 3.4 , 3.4 , 3.4 , 3.4 , 3.4 , 3.4 ,\n",
       "       3.4 , 3.4 , 3.4 , 3.4 , 3.4 , 3.4 , 3.4 , 3.4 , 3.4 , 3.4 , 3.4 ,\n",
       "       3.4 , 3.4 , 3.4 , 3.4 , 3.4 , 3.4 , 3.4 , 3.4 , 3.4 , 3.55, 3.55,\n",
       "       3.55, 3.55, 3.55, 3.55, 3.55, 3.55, 3.55, 3.55, 3.55, 3.55, 3.55,\n",
       "       3.55, 3.55, 3.55, 3.55, 3.55, 3.55, 3.55, 3.55, 3.55, 3.55, 3.55,\n",
       "       3.55, 3.55, 3.55, 3.55, 3.55, 3.7 , 3.7 , 3.7 , 3.7 , 3.7 , 3.7 ,\n",
       "       3.7 , 3.7 , 3.7 , 3.7 , 3.7 , 3.7 , 3.7 , 3.7 , 3.7 , 3.7 , 3.7 ,\n",
       "       3.7 , 3.7 , 3.7 , 3.7 , 3.7 , 3.7 , 3.7 , 3.7 , 3.7 , 3.7 , 3.7 ,\n",
       "       3.7 , 3.7 , 3.7 , 3.7 , 3.7 , 3.7 , 3.7 , 3.7 , 3.7 , 3.7 , 3.7 ,\n",
       "       3.7 , 3.7 , 3.7 , 3.7 , 3.7 , 3.7 , 3.7 , 3.7 , 3.7 , 3.7 , 3.7 ,\n",
       "       3.7 , 3.7 , 3.7 , 3.7 , 3.7 , 3.7 , 3.7 , 3.7 , 3.7 , 3.7 , 3.7 ,\n",
       "       3.7 , 3.7 , 3.7 , 3.7 , 3.7 , 3.7 , 3.7 , 3.7 , 3.7 , 3.7 , 3.7 ,\n",
       "       3.7 , 3.7 , 3.7 , 3.7 , 3.7 , 3.7 , 3.7 , 3.7 , 3.7 , 3.7 , 3.7 ,\n",
       "       3.7 , 3.7 , 3.7 , 3.7 , 3.7 , 3.7 , 3.7 , 3.7 , 3.7 , 3.7 , 3.7 ,\n",
       "       3.7 , 3.7 , 3.7 , 3.7 , 3.7 , 3.7 , 3.7 , 3.7 , 3.7 , 3.7 , 3.7 ,\n",
       "       3.7 , 3.7 , 3.7 , 3.7 , 3.7 , 3.7 , 3.7 , 3.7 , 3.7 , 3.7 , 3.7 ,\n",
       "       3.7 , 3.85, 3.85, 3.85, 3.85, 3.85, 3.85, 3.85, 3.85, 3.85, 3.85,\n",
       "       3.85, 3.85, 3.85, 3.85, 3.85, 3.85, 3.85, 3.85, 3.85, 3.85, 3.85,\n",
       "       3.85, 3.85, 3.85, 3.85, 3.85, 3.85, 3.85, 3.85, 3.85, 3.85, 3.85,\n",
       "       3.85, 3.85, 3.85, 3.85, 3.85, 3.85, 3.85, 3.85, 3.85, 3.85, 3.85,\n",
       "       3.85, 3.85, 3.85, 3.85, 3.85, 3.85, 3.85, 3.85, 3.85, 3.85, 3.85,\n",
       "       3.85, 3.85, 3.85, 3.85, 3.85, 3.85, 3.85, 3.85, 3.85, 3.85, 3.85,\n",
       "       3.85, 3.85, 3.85, 3.85, 3.85, 3.85, 3.85, 3.85, 3.85, 3.85, 3.85,\n",
       "       3.85, 3.85, 3.85, 3.85, 3.85, 3.85, 3.85, 3.85, 3.85, 3.85, 4.  ,\n",
       "       4.  , 4.  , 4.  , 4.  , 4.  , 4.  , 4.  , 4.  , 4.  , 4.  , 4.  ,\n",
       "       4.  , 4.  , 4.  , 4.  , 4.  , 4.  , 4.  , 4.  , 4.  , 4.  , 4.  ,\n",
       "       4.  , 4.  , 4.  , 4.  , 4.  , 4.  , 4.  , 4.  , 4.  , 4.  , 4.  ,\n",
       "       4.  , 4.  , 4.  , 4.  , 4.  , 4.  , 4.  , 4.  , 4.  , 4.  , 4.  ,\n",
       "       4.  , 4.  , 4.  , 4.  , 4.  , 4.  , 4.  , 4.  , 4.  , 4.  , 4.  ,\n",
       "       4.  , 4.  , 4.  , 4.  , 4.  , 4.  , 4.  , 4.  , 4.  , 4.  , 4.  ,\n",
       "       4.  , 4.  , 4.  , 4.  , 4.  , 4.  , 4.  , 4.  , 4.  , 4.  , 4.  ,\n",
       "       4.  , 4.  , 4.  , 4.  , 4.  , 4.  , 4.  , 4.  , 4.  , 4.  , 4.  ,\n",
       "       4.  , 4.  , 4.  , 4.  , 4.  , 4.  , 4.  , 4.  , 4.  , 4.  , 4.  ,\n",
       "       4.  , 4.  , 4.  , 4.  , 4.  , 4.  , 4.  , 4.  , 4.  , 4.  , 4.  ,\n",
       "       4.  , 4.  , 4.  , 4.  , 4.  , 4.  , 4.  , 4.  , 4.  , 4.  , 4.  ,\n",
       "       4.  , 4.  , 4.  , 4.  , 4.  , 4.  , 4.  , 4.  , 4.  , 4.  , 4.  ,\n",
       "       4.  , 4.  , 4.  , 4.  , 4.  , 4.  , 4.  , 4.  , 4.  , 4.  , 4.  ,\n",
       "       4.  , 4.  , 4.  , 4.  , 4.  , 4.  , 4.  , 4.  , 4.  , 4.  , 4.  ,\n",
       "       4.  , 4.  , 4.  , 4.  , 4.  , 4.  , 4.  , 4.  , 4.  , 4.15, 4.15,\n",
       "       4.15, 4.15, 4.15, 4.15, 4.15, 4.15, 4.15, 4.15, 4.15, 4.15, 4.15,\n",
       "       4.15, 4.15, 4.15, 4.15, 4.15, 4.15, 4.15, 4.15, 4.15, 4.15, 4.15,\n",
       "       4.15, 4.15, 4.15, 4.15, 4.15, 4.15, 4.15, 4.15, 4.15, 4.15, 4.15,\n",
       "       4.15, 4.15, 4.15, 4.15, 4.15, 4.15, 4.15, 4.15, 4.15, 4.15, 4.15,\n",
       "       4.15, 4.15, 4.15, 4.15, 4.15, 4.15, 4.15, 4.15, 4.15, 4.15, 4.15,\n",
       "       4.15, 4.15, 4.15, 4.15, 4.15, 4.15, 4.15, 4.15, 4.15, 4.15, 4.15,\n",
       "       4.15, 4.15, 4.15, 4.15, 4.15, 4.15, 4.15, 4.15, 4.15, 4.15, 4.15,\n",
       "       4.15, 4.15, 4.15, 4.15, 4.15, 4.15, 3.4 , 3.55, 3.55, 3.55, 3.55,\n",
       "       3.55, 3.55, 3.55, 3.55, 3.7 , 3.7 , 3.7 , 3.7 , 3.7 , 3.7 , 3.7 ,\n",
       "       3.7 , 3.7 , 3.7 , 3.7 , 3.7 , 3.7 , 3.7 , 3.7 , 3.7 , 3.7 , 3.7 ,\n",
       "       3.7 , 3.7 , 3.7 , 3.7 , 3.7 , 3.7 , 3.7 , 3.7 , 3.7 , 3.7 , 3.7 ,\n",
       "       3.7 , 3.7 , 3.7 , 3.7 , 3.7 , 3.85, 3.85, 3.85, 3.85, 3.85, 3.85,\n",
       "       3.85, 3.85, 3.85, 3.85, 3.85, 3.85, 3.85, 3.85, 3.85, 3.85, 3.85,\n",
       "       3.85, 3.85, 3.85, 3.85, 3.85, 3.85, 3.85, 3.85, 4.  , 4.  , 4.  ,\n",
       "       4.  , 4.  , 4.  , 4.  , 4.  , 4.  , 4.  , 4.  , 4.  , 4.  , 4.  ,\n",
       "       4.  , 4.  , 4.  , 4.  , 4.  , 4.  , 4.  , 4.  , 4.  , 4.  , 4.  ,\n",
       "       4.  , 4.  , 4.  , 4.  , 4.  , 4.  , 4.  , 4.  , 4.  , 4.  , 4.  ,\n",
       "       4.  , 4.  , 4.  , 4.  , 4.  , 4.  , 4.  , 4.  , 4.  , 4.  , 4.  ,\n",
       "       4.  , 4.  , 4.  , 4.  , 4.  , 4.  , 4.  , 4.  , 4.  , 4.  , 4.  ,\n",
       "       4.  , 4.  , 4.  , 4.  , 4.  , 4.  , 4.  , 4.  , 4.  , 4.  , 4.15,\n",
       "       4.15, 4.15, 4.15, 4.15, 4.15, 4.15, 4.15, 4.15, 4.15, 4.15, 4.15,\n",
       "       4.15, 4.15, 4.15, 4.15, 4.15, 4.15, 4.15, 4.15, 4.15, 4.15, 4.15,\n",
       "       4.15, 4.15, 4.15, 4.15, 4.15, 4.15, 4.15, 4.15, 4.15, 4.15, 4.15,\n",
       "       4.15, 4.15, 4.15, 4.15, 4.15, 4.15, 4.15, 4.15, 4.15, 4.15, 4.15,\n",
       "       4.15, 4.15, 4.15, 4.15, 4.15, 4.15, 4.15, 4.15, 4.15, 4.15, 4.15,\n",
       "       4.15, 4.15, 4.15, 4.15, 4.15, 4.15, 4.15, 4.15, 4.15, 4.15, 4.15,\n",
       "       4.15, 4.15, 4.15, 4.15, 4.15, 4.15, 4.15, 4.15, 4.15, 4.15, 4.15,\n",
       "       4.15, 4.15, 4.15, 4.15, 4.15, 4.15, 4.15, 4.15, 4.15, 4.15, 4.15,\n",
       "       4.15, 4.15, 4.15, 4.15, 4.15, 4.15, 4.15, 4.15, 4.15, 4.15, 4.15,\n",
       "       4.15, 4.15, 4.15, 4.15, 4.15, 4.15, 4.15, 4.15, 4.15, 4.15, 4.15,\n",
       "       4.15, 4.15, 4.15, 4.15, 4.15, 4.15, 4.15, 4.15, 4.15, 4.15, 4.15,\n",
       "       4.15, 4.15, 4.15, 4.15, 4.15, 4.15, 4.15, 4.15, 4.15, 4.15, 4.15,\n",
       "       4.15, 4.15, 4.15, 4.15, 4.15, 4.15, 4.15, 4.15, 4.15, 4.15, 4.15,\n",
       "       4.15, 4.15, 4.15, 4.15, 4.15, 4.15, 4.15, 4.15, 4.15, 4.15, 4.15,\n",
       "       4.15, 4.15, 4.15, 4.15, 4.15, 4.15, 4.15, 4.15, 4.15, 4.15, 4.15,\n",
       "       4.15, 4.15, 4.15, 4.15, 4.15, 4.15, 4.15, 4.15, 4.15, 4.15, 4.15,\n",
       "       4.15, 4.15, 4.15, 4.3 , 4.3 , 4.3 , 4.3 , 4.3 , 4.3 , 4.3 , 4.3 ,\n",
       "       4.3 , 4.3 , 4.3 , 4.3 , 4.3 , 4.3 , 4.3 , 4.3 , 4.3 , 4.3 , 4.3 ,\n",
       "       4.3 , 4.3 , 4.3 , 4.3 , 4.3 , 4.3 , 4.3 , 4.3 , 4.3 , 4.3 , 4.3 ,\n",
       "       4.3 , 4.3 , 4.3 , 4.3 , 4.3 , 4.3 , 4.3 , 4.3 , 4.3 , 4.3 , 4.3 ,\n",
       "       4.3 , 4.3 , 4.3 , 4.3 , 4.3 , 4.3 , 4.3 , 4.3 , 4.3 , 4.3 , 4.3 ,\n",
       "       4.3 , 4.3 , 4.3 , 4.3 , 4.3 , 4.3 , 4.3 , 4.3 , 4.3 , 4.3 , 4.3 ,\n",
       "       4.3 , 4.3 , 4.3 , 4.3 , 4.3 , 4.3 , 4.3 , 4.3 , 4.3 , 4.3 , 4.3 ,\n",
       "       4.3 , 4.3 , 4.3 , 4.3 , 4.3 , 4.3 , 4.3 , 4.3 , 4.3 , 4.3 , 4.3 ,\n",
       "       4.3 , 4.3 , 4.3 , 4.3 , 4.3 , 4.3 , 4.3 , 4.3 , 4.3 , 4.3 , 4.3 ,\n",
       "       4.3 , 4.3 , 4.3 , 4.3 , 4.3 , 4.3 , 4.3 , 4.3 , 4.3 , 4.3 , 4.3 ,\n",
       "       4.3 , 4.3 , 4.3 , 4.3 , 4.3 , 4.3 , 4.3 , 4.3 , 4.3 , 4.3 , 4.3 ,\n",
       "       4.3 , 4.3 , 4.3 , 4.3 , 4.3 , 4.3 , 4.3 , 4.3 , 4.3 , 4.3 , 4.3 ,\n",
       "       4.3 , 4.3 , 4.3 , 4.3 , 4.3 , 4.3 , 4.3 , 4.3 , 4.3 , 4.3 , 4.3 ,\n",
       "       4.3 , 4.3 , 4.3 , 4.3 , 4.3 , 4.3 , 4.3 , 4.3 , 4.3 , 4.3 , 4.3 ,\n",
       "       4.3 , 4.3 , 4.3 , 4.3 , 4.3 , 4.3 , 4.3 , 4.3 , 4.3 , 4.3 , 4.3 ,\n",
       "       4.3 , 4.3 , 4.3 , 4.3 , 4.3 , 4.3 , 4.3 , 4.3 , 4.3 , 4.3 , 4.3 ,\n",
       "       4.3 , 4.3 , 3.7 , 3.7 , 3.7 , 3.85, 3.85, 3.85, 3.85, 3.85, 3.85,\n",
       "       3.85, 3.85, 3.85, 3.85, 3.85, 4.  , 4.  , 4.  , 4.  , 4.  , 4.  ,\n",
       "       4.  , 4.  , 4.  , 4.  , 4.  , 4.  , 4.  , 4.  , 4.  , 4.  , 4.  ,\n",
       "       4.  , 4.  , 4.  , 4.  , 4.  , 4.  , 4.  , 4.  , 4.  , 4.  , 4.  ,\n",
       "       4.  , 4.  , 4.  , 4.  , 4.  , 4.  , 4.  , 4.  , 4.  , 4.  , 4.15,\n",
       "       4.15, 4.15, 4.15, 4.15, 4.15, 4.15, 4.15, 4.15, 4.15, 4.15, 4.15,\n",
       "       4.15, 4.15, 4.15, 4.15, 4.15, 4.15, 4.15, 4.15, 4.15, 4.15, 4.15,\n",
       "       4.15, 4.15, 4.15, 4.15, 4.15, 4.15, 4.15, 4.15, 4.15, 4.15, 4.15,\n",
       "       4.15, 4.15, 4.15, 4.15, 4.15, 4.15, 4.15, 4.15, 4.15, 4.15, 4.15,\n",
       "       4.15, 4.15, 4.15, 4.15, 4.15, 4.15, 4.15, 4.15, 4.15, 4.15, 4.15,\n",
       "       4.15, 4.15, 4.15, 4.15, 4.15, 4.15, 4.15, 4.15, 4.15, 4.15, 4.15,\n",
       "       4.15, 4.15, 4.15, 4.15, 4.15, 4.15, 4.15, 4.15, 4.15, 4.15, 4.15,\n",
       "       4.15, 4.15, 4.15, 4.15, 4.15, 4.15, 4.15, 4.15, 4.15, 4.3 , 4.3 ,\n",
       "       4.3 , 4.3 , 4.3 , 4.3 , 4.3 , 4.3 , 4.3 , 4.3 , 4.3 , 4.3 , 4.3 ,\n",
       "       4.3 , 4.3 , 4.3 , 4.3 , 4.3 , 4.3 , 4.3 , 4.3 , 4.3 , 4.3 , 4.3 ,\n",
       "       4.3 , 4.3 , 4.3 , 4.3 , 4.3 , 4.3 , 4.3 , 4.3 , 4.3 , 4.3 , 4.3 ,\n",
       "       4.3 , 4.3 , 4.3 , 4.3 , 4.3 , 4.3 , 4.3 , 4.3 , 4.3 , 4.3 , 4.3 ,\n",
       "       4.3 , 4.3 , 4.3 , 4.3 , 4.3 , 4.3 , 4.3 , 4.3 , 4.3 , 4.3 , 4.3 ,\n",
       "       4.3 , 4.3 , 4.3 , 4.3 , 4.3 , 4.3 , 4.3 , 4.3 , 4.3 , 4.3 , 4.3 ,\n",
       "       4.3 , 4.3 , 4.3 , 4.3 , 4.3 , 4.3 , 4.3 , 4.3 , 4.3 , 4.3 , 4.3 ,\n",
       "       4.3 , 4.3 , 4.3 , 4.3 , 4.3 , 4.3 , 4.3 , 4.3 , 4.3 , 4.3 , 4.3 ,\n",
       "       4.3 , 4.3 , 4.3 , 4.3 , 4.3 , 4.3 , 4.3 , 4.3 , 4.3 , 4.3 , 4.3 ,\n",
       "       4.3 , 4.3 , 4.3 , 4.3 , 4.3 , 4.3 , 4.3 , 4.45, 4.45, 4.45, 4.45,\n",
       "       4.45, 4.45, 4.45, 4.45, 4.45, 4.45, 4.45, 4.45, 4.45, 4.45, 4.45,\n",
       "       4.45, 4.45, 4.45, 4.45, 4.45, 4.45, 4.45, 4.45, 4.45, 4.45, 4.45,\n",
       "       4.45, 4.45, 4.45, 4.45, 4.45, 4.45, 4.45, 4.45, 4.45, 4.45, 4.45,\n",
       "       4.45, 4.45, 4.45, 4.45, 4.45, 4.45, 4.45, 4.45, 4.45, 4.45, 4.45,\n",
       "       4.45, 4.45, 4.45, 4.45, 4.45, 4.45, 4.45, 4.45, 4.45, 4.45, 4.45,\n",
       "       4.45, 4.45, 4.45, 4.45, 4.45, 4.45, 4.45, 4.45, 4.45, 4.45, 4.45,\n",
       "       4.45, 4.45, 4.45, 4.45, 4.6 , 4.6 , 4.6 , 4.6 , 4.6 , 4.6 , 4.6 ,\n",
       "       4.6 , 4.6 , 4.6 , 4.6 , 4.6 , 4.6 , 4.6 , 4.6 , 4.6 , 4.6 , 4.6 ,\n",
       "       4.6 , 4.6 , 4.6 , 4.6 , 4.6 , 4.6 , 4.6 , 4.6 , 4.6 , 4.6 , 4.6 ,\n",
       "       4.6 , 4.6 , 4.6 , 4.6 , 4.6 , 4.6 , 4.6 , 4.6 , 4.6 , 4.6 , 4.6 ,\n",
       "       4.6 , 4.6 , 4.6 , 4.6 , 4.6 , 4.6 , 4.6 , 4.6 , 4.6 , 4.6 , 4.6 ,\n",
       "       4.6 , 4.6 , 4.6 , 4.6 , 4.6 , 4.6 , 4.6 , 4.6 , 4.6 , 4.6 , 4.6 ,\n",
       "       4.6 , 4.6 , 4.6 , 4.6 , 4.6 , 4.6 , 4.6 , 4.6 , 4.6 , 4.6 , 3.85,\n",
       "       3.85, 3.85, 4.  , 4.  , 4.  , 4.  , 4.  , 4.  , 4.  , 4.  , 4.  ,\n",
       "       4.15, 4.15, 4.15, 4.15, 4.15, 4.15, 4.15, 4.15, 4.15, 4.15, 4.15,\n",
       "       4.15, 4.15, 4.15, 4.15, 4.15, 4.15, 4.15, 4.15, 4.15, 4.15, 4.15,\n",
       "       4.15, 4.15, 4.15, 4.15, 4.15, 4.15, 4.15, 4.15, 4.15, 4.15, 4.15,\n",
       "       4.15, 4.3 , 4.3 , 4.3 , 4.3 , 4.3 , 4.3 , 4.3 , 4.3 , 4.3 , 4.3 ,\n",
       "       4.3 , 4.3 , 4.3 , 4.3 , 4.3 , 4.3 , 4.3 , 4.3 , 4.3 , 4.3 , 4.3 ,\n",
       "       4.3 , 4.3 , 4.3 , 4.3 , 4.3 , 4.3 , 4.3 , 4.3 , 4.3 , 4.3 , 4.3 ,\n",
       "       4.3 , 4.3 , 4.3 , 4.3 , 4.3 , 4.3 , 4.3 , 4.3 , 4.3 , 4.3 , 4.3 ,\n",
       "       4.3 , 4.3 , 4.3 , 4.45, 4.45, 4.45, 4.45, 4.45, 4.45, 4.45, 4.45,\n",
       "       4.45, 4.45, 4.45, 4.45, 4.45, 4.45, 4.45, 4.45, 4.45, 4.45, 4.45,\n",
       "       4.45, 4.45, 4.45, 4.45, 4.45, 4.45, 4.45, 4.45, 4.6 , 4.6 , 4.6 ,\n",
       "       4.6 , 4.6 , 4.6 , 4.6 , 4.6 , 4.6 , 4.6 , 4.6 , 4.6 , 4.6 , 4.6 ,\n",
       "       4.6 , 4.6 , 4.6 , 4.6 , 4.6 , 4.6 , 4.6 , 4.6 , 4.6 , 4.6 , 4.6 ,\n",
       "       4.6 , 4.6 , 4.6 , 4.6 , 4.6 , 4.6 , 4.6 , 4.6 , 4.6 , 4.6 , 4.6 ,\n",
       "       4.6 , 4.6 , 4.6 , 4.6 , 4.6 , 4.6 , 4.6 , 4.6 , 4.6 , 4.6 , 4.6 ,\n",
       "       4.6 , 4.6 , 4.6 , 4.6 , 4.6 , 4.6 , 4.6 , 4.6 , 4.6 , 4.6 , 4.6 ,\n",
       "       4.6 , 4.6 , 4.6 , 4.6 , 4.6 , 4.6 , 4.6 , 4.6 , 4.6 , 4.6 , 4.6 ,\n",
       "       4.6 , 4.6 , 4.6 , 4.6 , 4.6 , 4.6 , 4.6 , 4.6 , 4.6 , 4.6 , 4.6 ,\n",
       "       4.6 , 4.6 , 4.6 , 4.6 , 4.6 , 4.6 , 4.6 , 4.6 , 4.6 , 4.6 , 4.6 ,\n",
       "       4.6 , 4.6 , 4.  , 4.  , 4.  , 4.15, 4.15, 4.15, 4.15, 4.15, 4.15,\n",
       "       4.15, 4.3 , 4.3 , 4.3 , 4.3 , 4.3 , 4.3 , 4.3 , 4.3 , 4.3 , 4.3 ,\n",
       "       4.3 , 4.3 , 4.3 , 4.3 , 4.3 , 4.3 , 4.3 , 4.3 , 4.3 , 4.3 , 4.3 ,\n",
       "       4.3 , 4.3 , 4.3 , 4.3 , 4.3 , 4.3 , 4.3 , 4.3 , 4.3 , 4.3 , 4.3 ,\n",
       "       4.3 , 4.3 , 4.45, 4.45, 4.45, 4.45, 4.45, 4.45, 4.45, 4.45, 4.45,\n",
       "       4.45, 4.45, 4.45, 4.45, 4.45, 4.45, 4.45, 4.45, 4.45, 4.45, 4.45,\n",
       "       4.45, 4.6 , 4.6 , 4.6 , 4.6 , 4.6 , 4.6 , 4.6 , 4.6 , 4.6 , 4.6 ,\n",
       "       4.6 , 4.6 , 4.6 , 4.6 , 4.6 , 4.6 , 4.6 , 4.6 , 4.6 , 4.6 , 4.6 ,\n",
       "       4.6 , 4.6 , 4.6 , 4.6 , 4.6 , 4.6 , 4.6 , 4.6 , 4.6 , 4.6 , 4.6 ,\n",
       "       4.6 , 4.6 , 4.6 , 4.6 , 4.6 , 4.6 , 4.6 , 4.6 ], dtype=float32)"
      ]
     },
     "execution_count": 34,
     "metadata": {},
     "output_type": "execute_result"
    }
   ],
   "source": [
    "D_Luminosity"
   ]
  },
  {
   "cell_type": "code",
   "execution_count": 70,
   "id": "5eaec171-8617-4625-acf9-94baa346b3fb",
   "metadata": {},
   "outputs": [],
   "source": [
    "L = 10**D_Luminosity"
   ]
  },
  {
   "cell_type": "code",
   "execution_count": 71,
   "id": "9fd1423d-bc80-46ee-8436-816215a2b947",
   "metadata": {},
   "outputs": [],
   "source": [
    "L_sun = L*3.86*10**26"
   ]
  },
  {
   "cell_type": "code",
   "execution_count": 128,
   "id": "3f10974e-c3e5-4318-8775-ca56e4ee239a",
   "metadata": {},
   "outputs": [],
   "source": [
    "radius = np.sqrt((6.67e-11*D_Mass)/9.81)"
   ]
  },
  {
   "cell_type": "code",
   "execution_count": 129,
   "id": "d51cb577-6d00-4ec4-aa37-e400418f2cef",
   "metadata": {
    "tags": []
   },
   "outputs": [
    {
     "data": {
      "text/plain": [
       "2.2581823e-06"
      ]
     },
     "execution_count": 129,
     "metadata": {},
     "output_type": "execute_result"
    }
   ],
   "source": [
    "radius[50]"
   ]
  },
  {
   "cell_type": "code",
   "execution_count": 130,
   "id": "c5159377-fe81-4753-9b28-9e8f794b4c22",
   "metadata": {},
   "outputs": [
    {
     "data": {
      "text/plain": [
       "2120"
      ]
     },
     "execution_count": 130,
     "metadata": {},
     "output_type": "execute_result"
    }
   ],
   "source": [
    "len(radius)"
   ]
  },
  {
   "cell_type": "code",
   "execution_count": 131,
   "id": "7b39f87b-600f-46c5-90d1-2c12c19aa6c0",
   "metadata": {},
   "outputs": [
    {
     "data": {
      "text/plain": [
       "2120"
      ]
     },
     "execution_count": 131,
     "metadata": {},
     "output_type": "execute_result"
    }
   ],
   "source": [
    "len(D_Luminosity)"
   ]
  },
  {
   "cell_type": "code",
   "execution_count": 132,
   "id": "238fe5d2-39c0-48d9-a9d0-b48c6ac8c958",
   "metadata": {},
   "outputs": [],
   "source": [
    "Massrate_reimer=(4e-13)*(5.7)*(D_Luminosity/(3.846e26))*(radius/696340000)*(1.98e30/D_Mass)"
   ]
  },
  {
   "cell_type": "code",
   "execution_count": 141,
   "id": "dcef2d5a-19c9-44ae-9347-52f376d7a6e6",
   "metadata": {},
   "outputs": [
    {
     "data": {
      "text/plain": [
       "(array([ 10.,  37.,  30.,  77.,  58., 166., 121., 108., 251., 180., 238.,\n",
       "         34., 167., 185., 207., 179.,  72.]),\n",
       " array([-50.64191179693547 , -50.60338674461435 , -50.56486169229322 ,\n",
       "        -50.5263366399721  , -50.48781158765098 , -50.449286535329854,\n",
       "        -50.410761483008734, -50.372236430687614, -50.33371137836649 ,\n",
       "        -50.29518632604537 , -50.25666127372424 , -50.21813622140312 ,\n",
       "        -50.179611169082   , -50.141086116760874, -50.102561064439755,\n",
       "        -50.064036012118635, -50.02551095979751 , -49.98698590747639 ]),\n",
       " <BarContainer object of 17 artists>)"
      ]
     },
     "execution_count": 141,
     "metadata": {},
     "output_type": "execute_result"
    },
    {
     "data": {
      "image/png": "[encoded data removed]",
      "text/plain": [
       "<Figure size 640x480 with 1 Axes>"
      ]
     },
     "metadata": {},
     "output_type": "display_data"
    }
   ],
   "source": [
    "plt.hist(np.log(Massrate_reimer), bins = 'auto')"
   ]
  },
  {
   "cell_type": "code",
   "execution_count": 108,
   "id": "acec0ea7-2ef1-461a-a293-4ef4a6097884",
   "metadata": {},
   "outputs": [
    {
     "data": {
      "text/plain": [
       "(array([  3.,   5.,  16.,  22.,  30.,  33.,  59.,  34.,  73.,  55.,  66.,\n",
       "         68.,  77., 120., 119., 133., 188., 174., 244., 170., 132., 135.,\n",
       "         78.,  44.,  30.,  12.]),\n",
       " array([-18.221830368041992, -17.885038375854492, -17.548246383666992,\n",
       "        -17.211454391479492, -16.874662399291992, -16.53786849975586 ,\n",
       "        -16.20107650756836 , -15.86428451538086 , -15.52749252319336 ,\n",
       "        -15.19070053100586 , -14.85390853881836 , -14.517115592956543,\n",
       "        -14.180323600769043, -13.843531608581543, -13.506739616394043,\n",
       "        -13.169947624206543, -12.833154678344727, -12.496362686157227,\n",
       "        -12.159570693969727, -11.822778701782227, -11.48598575592041 ,\n",
       "        -11.14919376373291 , -10.81240177154541 , -10.47560977935791 ,\n",
       "        -10.138816833496094,  -9.802024841308594,  -9.465232849121094]),\n",
       " <BarContainer object of 26 artists>)"
      ]
     },
     "execution_count": 108,
     "metadata": {},
     "output_type": "execute_result"
    },
    {
     "data": {
      "image/png": "[encoded data removed]",
      "text/plain": [
       "<Figure size 640x480 with 1 Axes>"
      ]
     },
     "metadata": {},
     "output_type": "display_data"
    }
   ],
   "source": [
    "plt.hist(np.log(D_Massrate), bins = 'auto')"
   ]
  },
  {
   "cell_type": "code",
   "execution_count": 138,
   "id": "9ab35261-d76e-45ad-adcb-cafbbb605eb5",
   "metadata": {},
   "outputs": [],
   "source": [
    "van_mass = -5.64 + (1.05*np.log(D_Luminosity/(10000*(3.846e26))))+(-6.3*np.log(D_Teff/3500))"
   ]
  },
  {
   "cell_type": "code",
   "execution_count": 140,
   "id": "5c3956ba-927d-4f09-a630-0bdd8f70bc62",
   "metadata": {},
   "outputs": [
    {
     "data": {
      "text/plain": [
       "(array([  4.,  30.,  23.,  51.,  58.,  50.,  98.,  99.,  74., 135., 136.,\n",
       "        165., 160., 154., 197., 106., 242., 174., 164.]),\n",
       " array([-77.7996387121602 , -77.65535912267997, -77.51107953319973,\n",
       "        -77.36679994371951, -77.22252035423928, -77.07824076475904,\n",
       "        -76.93396117527881, -76.78968158579858, -76.64540199631836,\n",
       "        -76.50112240683812, -76.35684281735789, -76.21256322787765,\n",
       "        -76.06828363839743, -75.9240040489172 , -75.77972445943696,\n",
       "        -75.63544486995673, -75.4911652804765 , -75.34688569099627,\n",
       "        -75.20260610151604, -75.0583265120358 ]),\n",
       " <BarContainer object of 19 artists>)"
      ]
     },
     "execution_count": 140,
     "metadata": {},
     "output_type": "execute_result"
    },
    {
     "data": {
      "image/png": "[encoded data removed]",
      "text/plain": [
       "<Figure size 640x480 with 1 Axes>"
      ]
     },
     "metadata": {},
     "output_type": "display_data"
    }
   ],
   "source": [
    "plt.hist(van_mass, bins = 'auto')"
   ]
  },
  {
   "cell_type": "code",
   "execution_count": 151,
   "id": "b04ca309-d8aa-415f-a65d-2c6f66418751",
   "metadata": {},
   "outputs": [
    {
     "data": {
      "text/plain": [
       "<matplotlib.collections.PathCollection at 0x7f9891d6a160>"
      ]
     },
     "execution_count": 151,
     "metadata": {},
     "output_type": "execute_result"
    },
    {
     "data": {
      "image/png": "[encoded data removed]",
      "text/plain": [
       "<Figure size 640x480 with 1 Axes>"
      ]
     },
     "metadata": {},
     "output_type": "display_data"
    }
   ],
   "source": [
    "plt.scatter(np.log(Massrate_reimer), van_mass)"
   ]
  },
  {
   "cell_type": "code",
   "execution_count": null,
   "id": "53898338-8df7-489c-aea9-c9b5a42a26a7",
   "metadata": {},
   "outputs": [],
   "source": []
  },
  {
   "cell_type": "code",
   "execution_count": null,
   "id": "4954f54f-0335-43c5-95e9-fc2822f7dd22",
   "metadata": {},
   "outputs": [],
   "source": []
  }
 ],
 "metadata": {
  "kernelspec": {
   "display_name": "Python 3 (ipykernel)",
   "language": "python",
   "name": "python3"
  },
  "language_info": {
   "codemirror_mode": {
    "name": "ipython",
    "version": 3
   },
   "file_extension": ".py",
   "mimetype": "text/x-python",
   "name": "python",
   "nbconvert_exporter": "python",
   "pygments_lexer": "ipython3",
   "version": "3.9.16"
  }
 },
 "nbformat": 4,
 "nbformat_minor": 5
}
