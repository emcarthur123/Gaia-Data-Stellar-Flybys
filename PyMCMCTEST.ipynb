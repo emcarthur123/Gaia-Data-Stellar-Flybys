{
 "cells": [
  {
   "cell_type": "code",
   "execution_count": 2,
   "id": "0113343f-0b92-4550-8586-d8aeec286734",
   "metadata": {},
   "outputs": [
    {
     "name": "stdout",
     "output_type": "stream",
     "text": [
      "Collecting astropy\n",
      "  Using cached astropy-5.2.2-cp310-cp310-macosx_10_9_x86_64.whl (7.0 MB)\n",
      "Collecting pyerfa>=2.0\n",
      "  Using cached pyerfa-2.0.0.3-cp310-cp310-macosx_10_9_x86_64.whl (342 kB)\n",
      "Collecting PyYAML>=3.13\n",
      "  Using cached PyYAML-6.0-cp310-cp310-macosx_10_9_x86_64.whl (197 kB)\n",
      "Requirement already satisfied: numpy>=1.20 in /opt/anaconda3/envs/MCMC_PY/lib/python3.10/site-packages (from astropy) (1.24.2)\n",
      "Requirement already satisfied: packaging>=19.0 in /opt/anaconda3/envs/MCMC_PY/lib/python3.10/site-packages (from astropy) (23.1)\n",
      "Installing collected packages: PyYAML, pyerfa, astropy\n",
      "Successfully installed PyYAML-6.0 astropy-5.2.2 pyerfa-2.0.0.3\n"
     ]
    }
   ],
   "source": [
    "import sys\n",
    "!{sys.executable} -m pip install astropy\n",
    "from astropy.table import Table\n",
    "import matplotlib.pyplot as plt\n",
    "import numpy as np\n",
    "import pandas as pd\n",
    "import scipy as scipy\n",
    "import scipy.stats as stats\n",
    "import statistics\n",
    "from scipy import optimize\n",
    "from astropy.io import fits\n",
    "from astropy.table import Table\n",
    "from scipy import interpolate\n",
    "%matplotlib inline\n",
    "from matplotlib.patches import Rectangle\n",
    "\n",
    "\n",
    "np.set_printoptions(threshold=np.inf)\n",
    "np.set_printoptions(precision = 40, suppress = True) #prevents scientific notation for 40 character numbers"
   ]
  },
  {
   "cell_type": "code",
   "execution_count": 3,
   "id": "1c768894-0ec0-475e-8ed3-994a055ca9e2",
   "metadata": {},
   "outputs": [],
   "source": [
    "# cuts the histogras down to only contain values in the range of -100 to 100\n",
    "n_sample = 913\n",
    "amin, amax = 0, 100\n",
    "sample = np.zeros((0,))    # empty for now\n",
    "while sample.shape[0] < n_sample: \n",
    "    s = np.random.normal(100, 35.0237, size=(n_sample))\n",
    "    Constraint = s[(s >= amin) & (s <= amax)]\n",
    "    sample = np.concatenate([sample, Constraint])\n",
    "sample = sample[:n_sample]"
   ]
  },
  {
   "cell_type": "code",
   "execution_count": 4,
   "id": "71e86e60-c578-4512-bf8b-3f93a4bbb27c",
   "metadata": {},
   "outputs": [],
   "source": [
    "# cuts the histogras down to only contain values in the range of -100 to 100\n",
    "n_samples = 914\n",
    "amin, amax = -100, 0\n",
    "samples2 = np.zeros((0,))    # empty for now\n",
    "while samples2.shape[0] < n_samples: \n",
    "    s = np.random.normal(-100, 35.0237, size=(n_samples))\n",
    "    Constraint2 = s[(s >= amin) & (s <= amax)]\n",
    "    samples2 = np.concatenate([samples2, Constraint2])\n",
    "samples2 = samples2[:n_samples]"
   ]
  },
  {
   "cell_type": "code",
   "execution_count": 5,
   "id": "afb38dbf-0b1e-4b6c-858a-3df9efa17a0f",
   "metadata": {},
   "outputs": [],
   "source": [
    "Bimodal_RV_dist = np.concatenate([sample, samples2])"
   ]
  },
  {
   "cell_type": "code",
   "execution_count": 1,
   "id": "1ba35090-3687-4d91-86c9-c5113a1dd437",
   "metadata": {},
   "outputs": [
    {
     "name": "stdout",
     "output_type": "stream",
     "text": [
      "1.9.1\n"
     ]
    }
   ],
   "source": [
    "import numpy as np\n",
    "import scipy.optimize\n",
    "from pymcmcstat.MCMC import MCMC\n",
    "import matplotlib.pyplot as plt\n",
    "import pymcmcstat\n",
    "print(pymcmcstat.__version__)"
   ]
  },
  {
   "cell_type": "code",
   "execution_count": null,
   "id": "3011a482-20ab-42d0-9109-5fa06566435d",
   "metadata": {},
   "outputs": [],
   "source": []
  }
 ],
 "metadata": {
  "kernelspec": {
   "display_name": "Python 3 (ipykernel)",
   "language": "python",
   "name": "python3"
  },
  "language_info": {
   "codemirror_mode": {
    "name": "ipython",
    "version": 3
   },
   "file_extension": ".py",
   "mimetype": "text/x-python",
   "name": "python",
   "nbconvert_exporter": "python",
   "pygments_lexer": "ipython3",
   "version": "3.9.13"
  }
 },
 "nbformat": 4,
 "nbformat_minor": 5
}
