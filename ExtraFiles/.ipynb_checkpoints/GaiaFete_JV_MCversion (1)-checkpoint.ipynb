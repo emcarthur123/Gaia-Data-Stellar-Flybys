{
 "cells": [
  {
   "cell_type": "markdown",
   "id": "7c6e3efa-f6b7-46ff-a871-865f3c010431",
   "metadata": {
    "tags": []
   },
   "source": [
    "# Importing Packages"
   ]
  },
  {
   "cell_type": "code",
   "execution_count": 1,
   "id": "5f22e3b8",
   "metadata": {
    "tags": [
     "Imports"
    ]
   },
   "outputs": [
    {
     "name": "stdout",
     "output_type": "stream",
     "text": [
      "Requirement already satisfied: astropy in /opt/anaconda3/envs/Git_JupyterLab/lib/python3.9/site-packages (5.2.1)\r\n",
      "Requirement already satisfied: packaging>=19.0 in /opt/anaconda3/envs/Git_JupyterLab/lib/python3.9/site-packages (from astropy) (22.0)\r\n",
      "Requirement already satisfied: numpy>=1.20 in /opt/anaconda3/envs/Git_JupyterLab/lib/python3.9/site-packages (from astropy) (1.23.5)\r\n",
      "Requirement already satisfied: pyerfa>=2.0 in /opt/anaconda3/envs/Git_JupyterLab/lib/python3.9/site-packages (from astropy) (2.0.0.1)\r\n",
      "Requirement already satisfied: PyYAML>=3.13 in /opt/anaconda3/envs/Git_JupyterLab/lib/python3.9/site-packages (from astropy) (6.0)\r\n"
     ]
    },
    {
     "name": "stderr",
     "output_type": "stream",
     "text": [
      "/opt/anaconda3/envs/Git_JupyterLab/lib/python3.9/site-packages/scipy/__init__.py:146: UserWarning: A NumPy version >=1.16.5 and <1.23.0 is required for this version of SciPy (detected version 1.23.5\n",
      "  warnings.warn(f\"A NumPy version >={np_minversion} and <{np_maxversion}\"\n"
     ]
    }
   ],
   "source": [
    "import sys\n",
    "!{sys.executable} -m pip install astropy\n",
    "from astropy.table import Table\n",
    "import matplotlib.pyplot as plt\n",
    "import numpy as np\n",
    "import pandas as pd\n",
    "import scipy as scipy\n",
    "from scipy import optimize\n",
    "from astropy.io import fits\n",
    "from astropy.table import Table\n",
    "from scipy import interpolate\n",
    "%matplotlib inline\n",
    "from matplotlib.patches import Rectangle\n",
    "\n",
    "\n",
    "np.set_printoptions(threshold=np.inf)\n",
    "np.set_printoptions(precision = 40, suppress = True) #prevents scientific notation for 40 character numbers"
   ]
  },
  {
   "cell_type": "code",
   "execution_count": 2,
   "id": "af4dd090",
   "metadata": {},
   "outputs": [],
   "source": [
    "### Read in data file\n",
    "\n",
    "GSample = fits.open('/Users/edm/Library/CloudStorage/Dropbox/Data/100pc_rvnotnull-Matched-Best.fits')\n",
    "GSample_A3 = Table(GSample[1].data)"
   ]
  },
  {
   "cell_type": "code",
   "execution_count": 3,
   "id": "9cfe8f75-dfdb-46a2-8241-c28ccb292f5d",
   "metadata": {},
   "outputs": [
    {
     "data": {
      "text/plain": [
       "astropy.table.table.Table"
      ]
     },
     "execution_count": 3,
     "metadata": {},
     "output_type": "execute_result"
    }
   ],
   "source": [
    "type(GSample_A3)"
   ]
  },
  {
   "cell_type": "code",
   "execution_count": 4,
   "id": "65c10ced",
   "metadata": {},
   "outputs": [
    {
     "data": {
      "text/plain": [
       "167020"
      ]
     },
     "execution_count": 4,
     "metadata": {},
     "output_type": "execute_result"
    }
   ],
   "source": [
    "## print length of table\n",
    "\n",
    "len(GSample_A3)"
   ]
  },
  {
   "cell_type": "code",
   "execution_count": 5,
   "id": "5c3be2a4",
   "metadata": {
    "scrolled": true
   },
   "outputs": [],
   "source": [
    "## take a look at columns\n",
    "\n",
    "#GSample_A3.show_in_browser(jsviewer=True)"
   ]
  },
  {
   "cell_type": "code",
   "execution_count": 6,
   "id": "0c1031f4",
   "metadata": {},
   "outputs": [
    {
     "name": "stderr",
     "output_type": "stream",
     "text": [
      "/var/folders/p7/1jqm_mnx32q55mjfkdmwpm5h0000gn/T/ipykernel_6714/3725340212.py:5: FutureWarning: The frame.append method is deprecated and will be removed from pandas in a future version. Use pandas.concat instead.\n",
      "  GSample_A2 = df.append(new_row, ignore_index = True)\n"
     ]
    }
   ],
   "source": [
    "#added in kinematics for brown dwarf 1227133699053734528 from eileen's paper\n",
    "\n",
    "df = GSample_A3.to_pandas()\n",
    "new_row = {'source_id_2':1227133699053734528, 'SOURCE_ID_1':1227133699053734528, 'RA_1':214.10070487061, 'DEC_1':13.80784459098, 'PARALLAX_1':107.7375, 'PARALLAX_ERROR_1':0.2163, 'PMRA_1':86.670, 'PMRA_ERROR_1':0.291, 'PMDEC_1':127.953, 'PMDEC_ERROR_1':0.198, 'PHOT_BP_MEAN_MAG_1':21.552280, 'PHOT_BP_MEAN_FLUX_OVER_ERROR_1':0.204305, 'PHOT_RP_MEAN_MAG_1':16.681887, 'PHOT_RP_MEAN_FLUX_OVER_ERROR_1':0.009775, 'parallax_2':107.7375, 'phot_g_mean_mag_2':18.353840, 'phot_bp_mean_mag_2':21.552280, 'phot_rp_mean_mag_2':16.681887, 'radial_velocity':-42.38, 'radial_velocity_error':0.5399999999999991, 'teff_gspphot':np.nan}\n",
    "GSample_A2 = df.append(new_row, ignore_index = True)\n",
    "GSample_A2 = Table.from_pandas(GSample_A2)"
   ]
  },
  {
   "cell_type": "code",
   "execution_count": 7,
   "id": "df8a864c",
   "metadata": {},
   "outputs": [],
   "source": [
    "GSample_A2.show_in_browser(jsviewer=True)"
   ]
  },
  {
   "cell_type": "markdown",
   "id": "f8dfc11e-708e-47de-b35e-404bdd977886",
   "metadata": {
    "tags": []
   },
   "source": [
    "### gaia source kinematic values"
   ]
  },
  {
   "cell_type": "code",
   "execution_count": 8,
   "id": "1c39ef9a",
   "metadata": {},
   "outputs": [],
   "source": [
    "## pull out variables on interest\n",
    "\n",
    "#radial velocity\n",
    "Rvel = np.asarray(GSample_A2[\"radial_velocity\"])\n",
    "rv = Rvel\n",
    "rv_e = np.asarray(GSample_A2[\"radial_velocity_error\"]) \n",
    "\n",
    "\n",
    "# PM RA and Dec\n",
    "PMD = np.asarray(GSample_A2['PMDEC_1'])\n",
    "PMR = np.asarray(GSample_A2['PMRA_1'])\n",
    "PMR_e = np.asarray(GSample_A2['PMRA_ERROR_1'])\n",
    "PMD_e = np.asarray(GSample_A2['PMDEC_ERROR_1'])\n",
    "\n",
    "#RA and DEc ICRS\n",
    "ra = np.asarray(GSample_A2['RA_1'])\n",
    "dec = np.asarray(GSample_A2['DEC_1'])\n",
    "\n",
    "#galactic coords\n",
    "y = np.asarray(GSample_A2['YCOORD_50'])\n",
    "x = np.asarray(GSample_A2['XCOORD_50'])\n",
    "z = np.asarray(GSample_A2['ZCOORD_50'])\n",
    "\n",
    "#parallax\n",
    "plx = np.asarray(GSample_A2['PARALLAX_1'])\n",
    "plx_e = np.asarray(GSample_A2['PARALLAX_ERROR_1'])\n",
    "\n",
    "#median distance\n",
    "\n",
    "## read in temperature\n",
    "teff=np.asarray(GSample_A2['teff_gspphot'])\n",
    "## temperature has no error\n",
    "\n",
    "source_id = np.asarray(GSample_A2[\"source_id_2\"])\n",
    "\n",
    "## read in mags\n",
    "phot_bp_mean_mag = np.asarray(GSample_A2['PHOT_BP_MEAN_MAG_1'])\n",
    "phot_bp_mean_mag_err = np.asarray(1/GSample_A2['PHOT_BP_MEAN_FLUX_OVER_ERROR_1']) * phot_bp_mean_mag\n",
    "\n",
    "phot_rp_mean_mag = np.asarray(GSample_A2['PHOT_RP_MEAN_MAG_1'])\n",
    "phot_rp_mean_mag_err = np.asarray(1/GSample_A2['PHOT_RP_MEAN_FLUX_OVER_ERROR_1']) * phot_rp_mean_mag\n",
    "\n",
    "## for zero point \n",
    "ecl_lat = np.asarray(GSample_A2['ecl_lat'])\n"
   ]
  },
  {
   "cell_type": "code",
   "execution_count": 9,
   "id": "8b71cf19-cdf9-4bc3-9a81-3717e6a485c7",
   "metadata": {},
   "outputs": [
    {
     "data": {
      "text/plain": [
       "167021"
      ]
     },
     "execution_count": 9,
     "metadata": {},
     "output_type": "execute_result"
    }
   ],
   "source": [
    "len(plx_e)"
   ]
  },
  {
   "cell_type": "code",
   "execution_count": 10,
   "id": "eaecd98f",
   "metadata": {},
   "outputs": [
    {
     "data": {
      "text/plain": [
       "9.281819236570367"
      ]
     },
     "execution_count": 10,
     "metadata": {},
     "output_type": "execute_result"
    }
   ],
   "source": [
    "1/107.7375 *1000"
   ]
  },
  {
   "cell_type": "code",
   "execution_count": 11,
   "id": "5a091cef",
   "metadata": {},
   "outputs": [
    {
     "data": {
      "text/plain": [
       "107.7375"
      ]
     },
     "execution_count": 11,
     "metadata": {},
     "output_type": "execute_result"
    }
   ],
   "source": [
    "plx[167020] #checks the parallax of 167020 (J1416AB)"
   ]
  },
  {
   "cell_type": "markdown",
   "id": "2ad44de6-6d88-42f0-8bfb-8b2241f16b89",
   "metadata": {
    "tags": []
   },
   "source": [
    "# Gaia Monte Carlo"
   ]
  },
  {
   "cell_type": "markdown",
   "id": "682c1683-8542-48dd-9f21-8fd638fda148",
   "metadata": {
    "tags": []
   },
   "source": [
    "### J1416 AB Kinematic Values and Photometric Values"
   ]
  },
  {
   "cell_type": "code",
   "execution_count": 12,
   "id": "10457652",
   "metadata": {},
   "outputs": [],
   "source": [
    "# Variables for Brown Dwarfs (J1416AB)\n",
    "\n",
    "#radial velocity\n",
    "#BD_rv=np.asarray(-86.95241909233778)\n",
    "BD_rv=np.asarray(-42.38)\n",
    "BD_rv_e=np.asarray(0.5399999999999991)\n",
    "\n",
    "BD_ras = np.asarray(214.10070487061)\n",
    "BD_ras_err = np.asarray(0.1901)\n",
    "BD_decs = np.asarray(13.80784459098)\n",
    "BD_decs_err = np.asarray(0.1510)\n",
    "# PM RA and Dec\n",
    "BD_PMD = np.asarray(127.953)\n",
    "BD_PMD_err = np.asarray(0.198)\n",
    "BD_PMR = np.asarray(86.670)\n",
    "BD_PMR_err = np.asarray(0.291)\n",
    "\n",
    "#parallax\n",
    "BD_plx = np.asarray(107.7375)\n",
    "BD_plx_err = np.asarray(0.2163)\n",
    "\n",
    "## temperature has no error\n",
    "BD_Bp_Rp = np.asarray(4.870394)\n",
    "\n",
    "BD_PHOT_BP_MEAN_MAG_1 = np.asarray(21.552280)\n",
    "BD_PHOT_BP_MEAN_MAG_1_err = np.asarray(0.204305)\n",
    "BD_PHOT_RP_MEAN_MAG_1 = np.asarray(16.681887)\n",
    "BD_PHOT_RP_MEAN_MAG_1_err = np.asarray(0.009775)\n"
   ]
  },
  {
   "cell_type": "markdown",
   "id": "cbff9900-c4f1-4f1c-a019-1452984c76b3",
   "metadata": {
    "tags": []
   },
   "source": [
    "### Creating histograms based on errors"
   ]
  },
  {
   "cell_type": "code",
   "execution_count": 13,
   "id": "9ccc33a2",
   "metadata": {},
   "outputs": [],
   "source": [
    "### Create arrays for everything\n",
    "npts        = 1000\n",
    "rv_array    = np.zeros((len(GSample_A2),npts))\n",
    "pmra_array  = rv_array*0\n",
    "pmdec_array = rv_array*0\n",
    "plx_array   = rv_array*0\n",
    "bp_array    = rv_array*0\n",
    "rp_array    = rv_array*0\n",
    "\n",
    "#Creates a guassian distribbution from the error bars provided\n",
    "for i in range(0,len(GSample_A2)):\n",
    "    rv_array[i,:] = np.random.normal(rv[i],rv_e[i],npts)\n",
    "    pmra_array[i,:] = np.random.normal(PMR[i],PMR_e[i],npts)\n",
    "    pmdec_array[i,:] = np.random.normal(PMD[i],PMD_e[i],npts)\n",
    "    plx_array[i,:] = np.random.normal(plx[i],plx_e[i],npts)\n",
    "    bp_array[i,:] = np.random.normal(phot_bp_mean_mag[i],phot_bp_mean_mag_err[i],npts)\n",
    "    rp_array[i,:] = np.random.normal(phot_rp_mean_mag[i],phot_rp_mean_mag_err[i],npts)\n",
    "\n",
    "#period_dist = np.random.normal(period, period_e, 10000)"
   ]
  },
  {
   "cell_type": "code",
   "execution_count": 14,
   "id": "118bb02f",
   "metadata": {},
   "outputs": [
    {
     "name": "stdout",
     "output_type": "stream",
     "text": [
      "Parallax:\n",
      "52.39678116544553\n"
     ]
    },
    {
     "data": {
      "image/png": "[encoded data removed]",
      "text/plain": [
       "<Figure size 1500x1000 with 6 Axes>"
      ]
     },
     "metadata": {},
     "output_type": "display_data"
    }
   ],
   "source": [
    "## plot the input arrays for GL710 to make sure we're using the right numbers\n",
    "\n",
    "ID = int(np.where(source_id==4270814637616488064)[0])\n",
    "\n",
    "\n",
    "fig, ((ax1, ax2, ax3), (ax4, ax5, ax6)) = plt.subplots(2, 3, figsize=(15,10))\n",
    "fig.suptitle('Input Distributions', fontsize=16)\n",
    "ax1.hist(rv_array[ID,:],bins=50,color='royalblue')\n",
    "ax2.hist(pmra_array[ID,:],bins=50,color='indianred')\n",
    "ax3.hist(pmdec_array[ID,:],bins=50,color='seagreen')\n",
    "ax4.hist(plx_array[ID,:],bins=50,color='royalblue')\n",
    "ax5.hist(bp_array[ID,:],bins=50,color='indianred')\n",
    "ax6.hist(rp_array[ID,:],bins=50,color='seagreen')\n",
    "\n",
    "ax1.axvline(np.median(rv_array[ID,:]),color='black')\n",
    "ax2.axvline(np.median(pmra_array[ID,:]),color='black')\n",
    "ax3.axvline(np.median(pmdec_array[ID,:]),color='black')\n",
    "ax4.axvline(np.median(plx_array[ID,:]),color='black')\n",
    "ax5.axvline(np.median(bp_array[ID,:]),color='black')\n",
    "ax6.axvline(np.median(rp_array[ID,:]),color='black')\n",
    "\n",
    "\n",
    "\n",
    "ax1.set_xlabel('RV (km/s)', fontsize=16)\n",
    "ax2.set_xlabel('PM RA', fontsize=16)\n",
    "ax3.set_xlabel('PM Dec', fontsize=16)\n",
    "ax4.set_xlabel('Parallax', fontsize=16)\n",
    "ax5.set_xlabel('Bp', fontsize=16)\n",
    "ax6.set_xlabel('Rp', fontsize=16)\n",
    "\n",
    "\n",
    "print(\"Parallax:\")\n",
    "print(np.median(plx_array[ID,:]))"
   ]
  },
  {
   "cell_type": "code",
   "execution_count": 15,
   "id": "3e863895",
   "metadata": {},
   "outputs": [
    {
     "name": "stdout",
     "output_type": "stream",
     "text": [
      "-413.2679940079758\n"
     ]
    }
   ],
   "source": [
    "# This is a white dwarf whose RV needs to be corrected -- I have hard-coded 39.4 value. \n",
    "# Should update this! Via: \n",
    "\n",
    "# calculation here: https://www.wolframalpha.com/input?i=%28speed+of+light%29*%28%281-2*%28gravitational+constant%29*%280.7*%28mass+of+the+Sun%29%29%2F%28%281.234*%28radius+of+the+Earth%29%29*%28speed+of+light%29%5E2%29%29%5E%28-1%2F2%29-1%29\n",
    "\n",
    "# and Here’s how I got the radius from log g and mass:\n",
    "#https://www.wolframalpha.com/input?i=sqrt%280.7*%28mass+of+the+Sun%29%2F%28%2810%5E%288.177%29++centimeters%2Fsecond%5E2%29%2F%28gravitational+constant%29%29%29%2F%28radius+of+the+Earth%29\n",
    "\n",
    "object_of_interest = np.where(source_id==5544743925212648320)\n",
    "rv_array[object_of_interest,:] = rv_array[object_of_interest,:] - 39.4\n",
    "\n",
    "## sanity check that this worked\n",
    "\n",
    "print(np.mean(rv_array[object_of_interest,:]))"
   ]
  },
  {
   "cell_type": "code",
   "execution_count": 16,
   "id": "1463cd58",
   "metadata": {},
   "outputs": [],
   "source": [
    "# Calculate Bp_Rp color for each object in sample\n",
    "\n",
    "Bp_Rp = phot_bp_mean_mag - phot_rp_mean_mag"
   ]
  },
  {
   "cell_type": "code",
   "execution_count": null,
   "id": "e8397996",
   "metadata": {},
   "outputs": [],
   "source": [
    "### calculate pmtot, vtan, vtot arrays: (takes a long time with MC sampling)\n",
    "c1 = 0.9779*10**9\n",
    "c2 = 4.74047\n",
    "\n",
    "pmtot_array = np.sqrt(pmra_array**2+pmdec_array**2)\n",
    "vtan_array = (c2/plx_array)*pmtot_array\n",
    "vtot_array = (np.sqrt(vtan_array**2+rv_array**2))"
   ]
  },
  {
   "cell_type": "code",
   "execution_count": null,
   "id": "667ff106",
   "metadata": {},
   "outputs": [],
   "source": [
    "fig, ((ax1, ax2), (ax3,ax4)) = plt.subplots(2, 2, figsize=(15,10))\n",
    "fig.suptitle('Input Distributions', fontsize=16)\n",
    "ax1.hist(pmtot_array[ID,:],bins=50,color='royalblue')\n",
    "ax2.hist(vtan_array[ID,:],bins=50,color='indianred')\n",
    "ax3.hist(vtot_array[ID,:],bins=50,color='seagreen')\n",
    "ax4.hist(rv_array[ID,:]/vtan_array[ID,:],bins=50,color='seagreen')\n",
    "\n",
    " \n",
    "ax1.axvline(np.median(pmtot_array[ID,:]),color='black')\n",
    "ax2.axvline(np.median(vtan_array[ID,:]),color='black')\n",
    "ax3.axvline(np.median(vtot_array[ID,:]),color='black')\n",
    "ax4.axvline(np.median(rv_array[ID,:]/vtan_array[ID,:]),color='black')\n",
    "\n",
    "\n",
    "ax1.set_xlabel('Total PM', fontsize=16)\n",
    "ax2.set_xlabel('Transverse Velocity', fontsize=16)\n",
    "ax3.set_xlabel('V total', fontsize=16)\n",
    "ax4.set_xlabel('v$_r$/v$_t$', fontsize=16)\n"
   ]
  },
  {
   "cell_type": "markdown",
   "id": "e31337dd-8035-41b6-aa95-7e1fc6444821",
   "metadata": {
    "tags": []
   },
   "source": [
    "### Resampling on perihelion time and distance"
   ]
  },
  {
   "cell_type": "code",
   "execution_count": null,
   "id": "77f4486f-d4a7-4d3d-b546-e3cf145f4a7d",
   "metadata": {},
   "outputs": [],
   "source": [
    "### calculate pmtot, vtan, vtot arrays: (takes a long time with MC sampling)\n",
    "c1 = 0.9779*10**9\n",
    "c2 = 4.74047\n",
    "\n",
    "pmtot_array = np.sqrt(pmra_array**2+pmdec_array**2)\n",
    "vtan_array = (c2/plx_array)*pmtot_array\n",
    "vtot_array = (np.sqrt(vtan_array**2+rv_array**2))\n",
    "\n",
    "\n"
   ]
  },
  {
   "cell_type": "code",
   "execution_count": null,
   "id": "8f8c2866",
   "metadata": {},
   "outputs": [],
   "source": [
    "##### Caalculate the perihelion distance and perihelion time for our sample:\n",
    "\n",
    "\n",
    "#t = -c1*(1/plx)*(rv/vtot**2)\n",
    "#d = 10**3*(1/plx)*(vtan/vtot)\n",
    "\n",
    "print(plx_array.shape)\n",
    "print(rv_array.shape)\n",
    "print(vtot_array.shape)\n",
    "print(vtan_array.shape)\n",
    "\n",
    "## set up arrays for perihelion distance and time\n",
    "t_per=plx_array * 0\n",
    "d_per=plx_array * 0\n",
    "\n",
    "for i in range(0,len(source_id)):\n",
    "    t_per[i,:] = -c1*(1/plx_array[i,:])*(rv_array[i,:]/vtot_array[i,:]**2)\n",
    "    d_per[i,:] = 10**3*(1/plx_array[i,:])*(vtan_array[i,:]/vtot_array[i,:])\n",
    "\n",
    "#t = -c1*(1/plx)*(rv/vtot**2)\n",
    "#d = 10**3*(1/plx)*(vtan/vtot)"
   ]
  },
  {
   "cell_type": "code",
   "execution_count": null,
   "id": "834880e6",
   "metadata": {},
   "outputs": [],
   "source": [
    "### plot a results for G710 to make sure we're getting the right numbers\n",
    "\n",
    "ID = int(np.where(source_id==4270814637616488064)[0])\n",
    "\n",
    "\n",
    "fig, ((ax1, ax2)) = plt.subplots(1, 2, figsize=(15,10))\n",
    "fig.suptitle('Output Distributions', fontsize=16)\n",
    "ax1.hist(t_per[ID,:]/10**6,bins=50,color='royalblue')\n",
    "ax2.hist(d_per[ID,:],bins=50,color='indianred')\n",
    "\n",
    "\n",
    " \n",
    "ax1.set_xlabel('Perihelion Time (Myr)', fontsize=16)\n",
    "ax2.set_xlabel('Perihelion Distance (pc)', fontsize=16)\n",
    "\n",
    "\n",
    "ax1.axvline(np.median(t_per[ID,:]/10**6),color='black')\n",
    "ax1.axvline(np.percentile(t_per[ID,:]/10**6,[16]),color='black',linestyle='dashed')\n",
    "ax1.axvline(np.percentile(t_per[ID,:]/10**6,[84]),color='black',linestyle='dashed')\n",
    "\n",
    "\n",
    "ax2.axvline(np.median(d_per[ID,:]),color='black')\n",
    "ax2.axvline(np.percentile(d_per[ID,:],[16]),color='black',linestyle='dashed')\n",
    "ax2.axvline(np.percentile(d_per[ID,:],[84]),color='black',linestyle='dashed')\n",
    "\n",
    "print(\"Source ID: \")\n",
    "print(source_id[ID])\n",
    "print(\"Perihelion Time (Myr) = %8.3f \\n Range: %8.3f - %8.3f Myr\" % (np.median(t_per[ID,:]/10**6), np.percentile(t_per[ID,:]/10**6,[16]), np.percentile(t_per[ID,:]/10**6,[84])))\n",
    "print(\"Perihelion Distance (pc) = %8.3f \\n Range: %8.3f - %8.3f pc\"% (np.median(d_per[ID,:]), np.percentile(d_per[ID,:],[16]), np.percentile(d_per[ID,:],[84])))"
   ]
  },
  {
   "cell_type": "markdown",
   "id": "0669f991-742a-4fea-a1a3-71bceb232dda",
   "metadata": {
    "tags": []
   },
   "source": [
    "### J1416AB perihelion time calculation and impulse"
   ]
  },
  {
   "cell_type": "code",
   "execution_count": null,
   "id": "181690a6",
   "metadata": {},
   "outputs": [],
   "source": [
    "#Calculates brown dwarf J1416AB perihelion values\n",
    "BD_pmtot_array = np.sqrt(BD_PMR**2+BD_PMD**2)\n",
    "BD_vtan_array = (4.74/BD_plx)*BD_pmtot_array\n",
    "BD_vtot_array = (np.sqrt(BD_vtan_array**2+BD_rv**2))\n",
    "c1 = 0.9779*10**9\n",
    "c2 = 4.74047"
   ]
  },
  {
   "cell_type": "code",
   "execution_count": null,
   "id": "d600c761",
   "metadata": {
    "tags": []
   },
   "outputs": [],
   "source": [
    "c1 = 0.9779*10**9\n",
    "c2 = 4.74047\n",
    "\n",
    "BD_pmtot_array = np.sqrt(BD_PMR**2+BD_PMD**2)\n",
    "BD_vtan_array = (c2/BD_plx)*BD_pmtot_array\n",
    "BD_vtot_array = (np.sqrt(BD_vtan_array**2+BD_rv**2))"
   ]
  },
  {
   "cell_type": "markdown",
   "id": "6d33781b-bf70-45b9-ba49-cfc3dcc01e2d",
   "metadata": {},
   "source": [
    "### Error calculation for time and distance"
   ]
  },
  {
   "cell_type": "code",
   "execution_count": null,
   "id": "48d4c8a5",
   "metadata": {},
   "outputs": [],
   "source": [
    "#Creates an empty array so the upper quartile from the vtan mc has a place to put new values\n",
    "empty_vtan_array = []\n",
    "for i in range(0,len(source_id)):\n",
    "    high = np.quantile(vtan_array[i], [.5])\n",
    "    \n",
    "    empty_vtan_array.append(high)\n",
    "\n",
    "vtan = np.hstack(empty_vtan_array)"
   ]
  },
  {
   "cell_type": "code",
   "execution_count": null,
   "id": "508f4a55",
   "metadata": {},
   "outputs": [],
   "source": [
    "vtan[167020]"
   ]
  },
  {
   "cell_type": "code",
   "execution_count": null,
   "id": "eff45d99-2200-450a-8510-1e7b7e88340e",
   "metadata": {},
   "outputs": [],
   "source": [
    "#Creates empty arrayes to put the upper quartile and lower quantile for the perihelion distance\n",
    "upper_d_quantile_array = []\n",
    "lower_d_quantile_array = []\n",
    "for i in range(0,len(source_id)):\n",
    "    high = np.quantile(d_per[i], [.95])\n",
    "    low = np.quantile(d_per[i], [.05])\n",
    "    \n",
    "    upper_d_quantile_array.append(high)\n",
    "    lower_d_quantile_array.append(low)\n",
    "\n",
    "high_err = np.hstack(upper_d_quantile_array)\n",
    "low_err = np.hstack(lower_d_quantile_array)\n",
    "\n"
   ]
  },
  {
   "cell_type": "code",
   "execution_count": null,
   "id": "1bc28450",
   "metadata": {},
   "outputs": [],
   "source": [
    "#upper limit of brown dwarf distance \n",
    "high_err[167020]"
   ]
  },
  {
   "cell_type": "code",
   "execution_count": null,
   "id": "7f9f1a64",
   "metadata": {},
   "outputs": [],
   "source": [
    "low_err[167020] #lower limit of brown dwarf distance"
   ]
  },
  {
   "cell_type": "code",
   "execution_count": null,
   "id": "69e57e3c",
   "metadata": {},
   "outputs": [],
   "source": [
    "high_err[1561] #gliese 710"
   ]
  },
  {
   "cell_type": "code",
   "execution_count": null,
   "id": "5465b505",
   "metadata": {},
   "outputs": [],
   "source": [
    "low_err[1561] # gliese 710"
   ]
  },
  {
   "cell_type": "code",
   "execution_count": null,
   "id": "79b71c44",
   "metadata": {},
   "outputs": [],
   "source": [
    "y_err = high_err - low_err"
   ]
  },
  {
   "cell_type": "code",
   "execution_count": null,
   "id": "69de9c0a",
   "metadata": {},
   "outputs": [],
   "source": [
    "y_err[167020] #brown dwarf"
   ]
  },
  {
   "cell_type": "code",
   "execution_count": null,
   "id": "3fda02aa",
   "metadata": {},
   "outputs": [],
   "source": [
    "#Creates empty arrayes to put the upper quartile and lower quantile for the perihelion time\n",
    "upper_t_quantile_array = []\n",
    "lower_t_quantile_array = []\n",
    "for i in range(0,len(source_id)):\n",
    "    high = np.quantile(t_per[i], [.95])\n",
    "    low = np.quantile(t_per[i], [.05])\n",
    "    \n",
    "    upper_t_quantile_array.append(high)\n",
    "    lower_t_quantile_array.append(low)\n",
    "\n",
    "th_err = np.hstack(upper_t_quantile_array)\n",
    "tl_err = np.hstack(lower_t_quantile_array)"
   ]
  },
  {
   "cell_type": "code",
   "execution_count": null,
   "id": "d24fd392",
   "metadata": {},
   "outputs": [],
   "source": [
    "th_err[167020]/10**6 #this is the upper limit of brown dwarf time "
   ]
  },
  {
   "cell_type": "code",
   "execution_count": null,
   "id": "bdc95764",
   "metadata": {},
   "outputs": [],
   "source": [
    "tl_err[167020]/10**6 #this is the lower limit of brown dwarf time"
   ]
  },
  {
   "cell_type": "code",
   "execution_count": null,
   "id": "515061d6",
   "metadata": {
    "scrolled": true
   },
   "outputs": [],
   "source": [
    "th_err[1561]/10**6 #gliese 710"
   ]
  },
  {
   "cell_type": "code",
   "execution_count": null,
   "id": "0645b95b",
   "metadata": {
    "scrolled": true
   },
   "outputs": [],
   "source": [
    "tl_err[1561]/10**6 #this is for gliese 710"
   ]
  },
  {
   "cell_type": "code",
   "execution_count": null,
   "id": "bbe40727",
   "metadata": {},
   "outputs": [],
   "source": [
    "x_err = th_err - tl_err"
   ]
  },
  {
   "cell_type": "code",
   "execution_count": null,
   "id": "95660991",
   "metadata": {},
   "outputs": [],
   "source": [
    "high_err[1561]"
   ]
  },
  {
   "cell_type": "code",
   "execution_count": null,
   "id": "2761e20d",
   "metadata": {},
   "outputs": [],
   "source": [
    "## calculate medians:\n",
    "med_t_per = np.mean(t_per,axis=1)/10**6\n",
    "med_d_per = np.mean(d_per,axis=1)\n",
    "med_v_per = np.mean(vtot_array,axis=1)"
   ]
  },
  {
   "cell_type": "code",
   "execution_count": null,
   "id": "188e90df",
   "metadata": {
    "scrolled": true
   },
   "outputs": [],
   "source": [
    "plt.scatter(med_t_per[np.argsort(med_d_per)[0:25]], med_d_per[np.argsort(med_d_per)[0:25]], facecolor = 'none', edgecolor = 'black', marker = \".\")\n",
    "plt.errorbar(med_t_per[np.argsort(med_d_per)[0:25]], med_d_per[np.argsort(med_d_per)[0:25]], y_err[np.argsort(med_d_per)[0:25]], x_err[np.argsort(med_d_per)[0:25]]/10**6, ecolor='black', fmt='ko', label='label',color=\"#8da0cb\", capthick=2, elinewidth=2, markersize = 2,capsize=3)\n",
    "\n",
    "xmin, xmax = plt.xlim(-5,5)\n",
    "ymin, ymax = plt.ylim(0,1)\n",
    "\n",
    "plt.xlabel(\"perihelion time ($t^{med}_{ph}$ / Myr)\", fontsize = 15)\n",
    "plt.ylabel(\"perihelion distance ($d^{med}_{ph}$/pc)\", fontsize = 15)\n",
    "\n",
    "plt.xticks(fontsize = 15)\n",
    "plt.yticks(fontsize = 15)\n",
    "\n",
    "plt.savefig('DR3_StellarEncounters(Errors)_with_impulse.png', bbox_inches = \"tight\", facecolor='White')\n",
    "\n",
    "plt.show()"
   ]
  },
  {
   "cell_type": "markdown",
   "id": "0297c4c3",
   "metadata": {},
   "source": [
    "# BD Monte Carlo"
   ]
  },
  {
   "cell_type": "code",
   "execution_count": null,
   "id": "1bfdb102",
   "metadata": {},
   "outputs": [],
   "source": [
    "### Read in data file\n",
    "\n",
    "\n",
    "GSampleBD = fits.open('/Users/edm/Desktop/Stellar Flybys/Gaia Data/Mass Bd sampls (dino).fits')\n",
    "GSample_BD2 = Table(GSampleBD[1].data)"
   ]
  },
  {
   "cell_type": "code",
   "execution_count": null,
   "id": "97c9710d",
   "metadata": {},
   "outputs": [],
   "source": [
    "GSample_BD2"
   ]
  },
  {
   "cell_type": "code",
   "execution_count": null,
   "id": "a6744aff",
   "metadata": {},
   "outputs": [],
   "source": [
    "#dfBD = GSample_BD2.to_pandas()"
   ]
  },
  {
   "cell_type": "code",
   "execution_count": null,
   "id": "988e007f",
   "metadata": {
    "scrolled": true
   },
   "outputs": [],
   "source": [
    "#dfBD"
   ]
  },
  {
   "cell_type": "code",
   "execution_count": null,
   "id": "aa801240",
   "metadata": {},
   "outputs": [],
   "source": [
    "## pull out variables on interest from the brown dwarf file\n",
    "\n",
    "#radial velocity\n",
    "rvbd = np.asarray(GSample_BD2[\"RV\"])\n",
    "\n",
    "rv_ebd = np.asarray(GSample_BD2[\"e_RV\"]) \n",
    "\n",
    "\n",
    "# PM RA and Dec\n",
    "PMDbd = np.asarray(GSample_BD2['pmDE'])\n",
    "PMRbd = np.asarray(GSample_BD2['pmRA'])\n",
    "PMR_ebd = np.asarray(GSample_BD2['e_pmRA'])\n",
    "PMD_ebd = np.asarray(GSample_BD2['e_pmDE'])\n",
    "\n",
    "#RA and DEc ICRS\n",
    "dbd = np.asarray(GSample_BD2['Dist'])\n",
    "plxbd = (1/dbd)*1000\n",
    "d_ebd = np.asarray(GSample_BD2['e_Dist'])\n",
    "#parallax\n",
    "plxbd = np.asarray(plxbd)\n",
    "\n",
    "#median distanc\n",
    "\n",
    "## read in temperature\n",
    "#teff=np.asarray(GSample_A2['teff_gspphot'])\n",
    "## temperature has no error\n",
    "\n",
    "source_idbd = np.asarray(GSample_BD2[\"Name\"])\n",
    "\n",
    "#name colomn\n",
    "#Namebd = np.asarray(GSample_BD2['Name'])\n",
    "\n",
    "Massbd = np.asarray(GSample_BD2['Mass'])"
   ]
  },
  {
   "cell_type": "code",
   "execution_count": null,
   "id": "e6bb5ab5-ba95-44a7-a605-6612cfb520b0",
   "metadata": {},
   "outputs": [],
   "source": []
  },
  {
   "cell_type": "code",
   "execution_count": null,
   "id": "1db64c8c-9bd3-418f-9b18-9101d5d258cb",
   "metadata": {},
   "outputs": [],
   "source": [
    "sdbd = dbd+d_ebd\n",
    "splxbd = (1/sdbd)*1000"
   ]
  },
  {
   "cell_type": "code",
   "execution_count": null,
   "id": "bf332cd8-c25d-4508-8714-a0065ddc84ab",
   "metadata": {},
   "outputs": [],
   "source": [
    "plx_ebd = -splxbd + plxbd"
   ]
  },
  {
   "cell_type": "code",
   "execution_count": null,
   "id": "67c2d859",
   "metadata": {},
   "outputs": [],
   "source": [
    "### Create arrays for everything\n",
    "npts        = 1000\n",
    "rv_arraybd    = np.zeros((len(GSample_BD2),npts))\n",
    "pmra_arraybd  = rv_arraybd*0\n",
    "pmdec_arraybd = rv_arraybd*0\n",
    "plx_arraybd   = rv_arraybd*0\n",
    "bp_arraybd    = rv_arraybd*0\n",
    "rp_arraybd    = rv_arraybd*0\n",
    "\n",
    "for i in range(0,len(GSample_BD2)):\n",
    "    rv_arraybd[i,:] = np.random.normal(rvbd[i],rv_ebd[i],npts)\n",
    "    pmra_arraybd[i,:] = np.random.normal(PMRbd[i],PMR_ebd[i],npts)\n",
    "    pmdec_arraybd[i,:] = np.random.normal(PMDbd[i],PMD_ebd[i],npts)\n",
    "    plx_arraybd[i,:] = np.random.normal(plxbd[i],plx_ebd[i],npts)"
   ]
  },
  {
   "cell_type": "code",
   "execution_count": null,
   "id": "ee7013ad",
   "metadata": {},
   "outputs": [],
   "source": [
    "## plot the input arrays for GL710 to make sure we're using the right numbers\n",
    "\n",
    "ID = int(np.where(source_idbd=='J0109-0343')[0])\n",
    "\n",
    "\n",
    "fig, ((ax1, ax2, ax3), (ax4, ax5, ax6)) = plt.subplots(2, 3, figsize=(15,10))\n",
    "fig.suptitle('Input Distributions', fontsize=16)\n",
    "ax1.hist(rv_array[ID,:],bins=50,color='royalblue')\n",
    "ax2.hist(pmra_array[ID,:],bins=50,color='indianred')\n",
    "ax3.hist(pmdec_array[ID,:],bins=50,color='seagreen')\n",
    "ax4.hist(plx_array[ID,:],bins=50,color='royalblue')\n",
    "\n",
    "ax1.axvline(np.median(rv_array[ID,:]),color='black')\n",
    "ax2.axvline(np.median(pmra_array[ID,:]),color='black')\n",
    "ax3.axvline(np.median(pmdec_array[ID,:]),color='black')\n",
    "ax4.axvline(np.median(plx_array[ID,:]),color='black')\n",
    "\n",
    "ax1.set_xlabel('RV (km/s)', fontsize=16)\n",
    "ax2.set_xlabel('PM RA', fontsize=16)\n",
    "ax3.set_xlabel('PM Dec', fontsize=16)\n",
    "ax4.set_xlabel('Parallax', fontsize=16)\n",
    "ax5.set_xlabel('Bp', fontsize=16)\n",
    "ax6.set_xlabel('Rp', fontsize=16)\n",
    "\n",
    "print(\"Parallax:\")\n",
    "print(np.median(plx_array[ID,:]))"
   ]
  },
  {
   "cell_type": "code",
   "execution_count": null,
   "id": "3aea54db",
   "metadata": {},
   "outputs": [],
   "source": [
    "### calculate pmtot, vtan, vtot arrays: (takes a long time with MC sampling)\n",
    "c1 = 0.9779*10**9\n",
    "c2 = 4.74047\n",
    "\n",
    "pmtot_arraybd = np.sqrt(pmra_arraybd**2+pmdec_arraybd**2)\n",
    "vtan_arraybd = (c2/plx_arraybd)*pmtot_arraybd\n",
    "vtot_arraybd = (np.sqrt(vtan_arraybd**2+rv_arraybd**2))\n",
    "\n",
    "\n",
    "\n"
   ]
  },
  {
   "cell_type": "code",
   "execution_count": null,
   "id": "39357d63",
   "metadata": {},
   "outputs": [],
   "source": [
    "##### Caalculate the perihelion distance and perihelion time for our sample:\n",
    "\n",
    "\n",
    "#t = -c1*(1/plx)*(rv/vtot**2)\n",
    "#d = 10**3*(1/plx)*(vtan/vtot)\n",
    "\n",
    "print(plx_arraybd.shape)\n",
    "print(rv_arraybd.shape)\n",
    "print(vtot_arraybd.shape)\n",
    "print(vtan_arraybd.shape)\n",
    "\n",
    "## set up arrays for perihelion distance and time\n",
    "t_perbd=plx_arraybd * 0\n",
    "d_perbd=plx_arraybd * 0\n",
    "\n",
    "for i in range(0,len(source_idbd)):\n",
    "    t_perbd[i,:] = -c1*(1/plx_arraybd[i,:])*(rv_arraybd[i,:]/vtot_arraybd[i,:]**2)\n",
    "    d_perbd[i,:] = 10**3*(1/plx_arraybd[i,:])*(vtan_arraybd[i,:]/vtot_arraybd[i,:])\n",
    "\n",
    "#t = -c1*(1/plx)*(rv/vtot**2)\n",
    "#d = 10**3*(1/plx)*(vtan/vtot)"
   ]
  },
  {
   "cell_type": "code",
   "execution_count": null,
   "id": "7429d785",
   "metadata": {},
   "outputs": [],
   "source": [
    "#Same as last time creates empty arrays from brown dwarf sample\n",
    "\n",
    "high_d_bd_quantile = []\n",
    "low_d_bd_quantile = []\n",
    "for i in range(0,len(source_idbd)):\n",
    "    highbd = np.quantile(d_perbd[i], [.95])\n",
    "    lowbd = np.quantile(d_perbd[i], [.05])\n",
    "    \n",
    "    high_d_bd_quantile.append(highbd)\n",
    "    low_d_bd_quantile.append(lowbd)\n",
    "\n",
    "high_errbd = np.hstack(high_d_bd_quantile)\n",
    "low_errbd = np.hstack(low_d_bd_quantile)\n"
   ]
  },
  {
   "cell_type": "code",
   "execution_count": null,
   "id": "6fe27b04",
   "metadata": {},
   "outputs": [],
   "source": [
    "y_errbd = high_errbd - low_errbd"
   ]
  },
  {
   "cell_type": "code",
   "execution_count": null,
   "id": "0eed937b",
   "metadata": {},
   "outputs": [],
   "source": [
    "\n",
    "high_t_bd_quantile = []\n",
    "low_t_bd_quantile = []\n",
    "for i in range(0,len(source_idbd)):\n",
    "    highbd = np.quantile(t_perbd[i], [.95])\n",
    "    lowbd = np.quantile(t_perbd[i], [.05])\n",
    "    \n",
    "    high_t_bd_quantile.append(highbd)\n",
    "    low_t_bd_quantile.append(lowbd)\n",
    "\n",
    "th_errbd = np.hstack(high_t_bd_quantile)\n",
    "tl_errbd = np.hstack(low_t_bd_quantile)"
   ]
  },
  {
   "cell_type": "code",
   "execution_count": null,
   "id": "8fde5d63",
   "metadata": {},
   "outputs": [],
   "source": [
    "x_errbd = th_errbd - tl_errbd"
   ]
  },
  {
   "cell_type": "code",
   "execution_count": null,
   "id": "c7317e18",
   "metadata": {},
   "outputs": [],
   "source": [
    "rv[np.argsort(med_d_per)[0:10]]"
   ]
  },
  {
   "cell_type": "code",
   "execution_count": null,
   "id": "14ffd179",
   "metadata": {},
   "outputs": [],
   "source": [
    "med_d_per[np.argsort(med_d_per)[0:10]]"
   ]
  },
  {
   "cell_type": "code",
   "execution_count": null,
   "id": "a361a9ea",
   "metadata": {},
   "outputs": [],
   "source": [
    "## calculate medians: from brown dwarf sample\n",
    "med_t_perbd = np.mean(t_perbd,axis=1)/10**6\n",
    "med_d_perbd = np.mean(d_perbd,axis=1)\n",
    "med_v_perbd = np.mean(vtot_arraybd,axis=1)"
   ]
  },
  {
   "cell_type": "code",
   "execution_count": null,
   "id": "ea10498a",
   "metadata": {
    "scrolled": true,
    "tags": []
   },
   "outputs": [],
   "source": [
    "plt.scatter(med_t_perbd[np.argsort(med_d_perbd)[0:25]], med_d_perbd[np.argsort(med_d_perbd)[0:25]], facecolor = 'red', edgecolor = 'black')\n",
    "plt.errorbar(med_t_perbd[np.argsort(med_d_perbd)[0:25]], med_d_perbd[np.argsort(med_d_perbd)[0:25]], y_errbd[np.argsort(med_d_perbd)[0:25]], x_errbd[np.argsort(med_d_perbd)[0:25]]/10**6, ecolor='red', fmt='ko', label='label',color=\"#8da0cb\", capthick=2, elinewidth=2, markersize = 2,capsize=3)\n",
    "\n",
    "xmin, xmax = plt.xlim(-5,5)\n",
    "ymin, ymax = plt.ylim(-1,1)\n",
    "\n",
    "plt.xlabel(\"perihelion time ($t^{med}_{ph}$ / Myr)\", fontsize = 15)\n",
    "plt.ylabel(\"perihelion distance ($d^{med}_{ph}$/pc)\", fontsize = 15)\n",
    "\n",
    "plt.xticks(fontsize = 15)\n",
    "plt.yticks(fontsize = 15)\n",
    "\n",
    "plt.show()"
   ]
  },
  {
   "cell_type": "markdown",
   "id": "edbe710f-5eda-479b-b940-0f13fc7f963f",
   "metadata": {},
   "source": [
    "A brown dwarf in our very own solar system??????\n",
    "The lower limit of the source is NAN this is more than likely a computational error but still worth the follow up."
   ]
  },
  {
   "cell_type": "code",
   "execution_count": null,
   "id": "1356d2e6-a354-4640-bd8b-934cf9b5a650",
   "metadata": {},
   "outputs": [],
   "source": [
    "#rv of brown dwrf\n",
    "rvbd[135]"
   ]
  },
  {
   "cell_type": "code",
   "execution_count": null,
   "id": "d704e332-55dd-4e91-b9a0-2de9973876b7",
   "metadata": {},
   "outputs": [],
   "source": [
    "#error of brown dwarf\n",
    "rv_ebd[135]"
   ]
  },
  {
   "cell_type": "code",
   "execution_count": null,
   "id": "188ff83e-cf7a-4ecc-be65-b9a3323cfc2d",
   "metadata": {},
   "outputs": [],
   "source": [
    "PMDbd[135]"
   ]
  },
  {
   "cell_type": "code",
   "execution_count": null,
   "id": "89f5440d-68a5-4f7a-8704-08b34279b99e",
   "metadata": {},
   "outputs": [],
   "source": [
    "high_errbd"
   ]
  },
  {
   "cell_type": "code",
   "execution_count": null,
   "id": "acb15128-24f1-465e-8fb8-8f7bc9dc7e83",
   "metadata": {},
   "outputs": [],
   "source": [
    "x_errbd"
   ]
  },
  {
   "cell_type": "code",
   "execution_count": null,
   "id": "46436538-8e8b-4d59-a00b-d7f63d07274c",
   "metadata": {},
   "outputs": [],
   "source": []
  },
  {
   "cell_type": "code",
   "execution_count": null,
   "id": "b6129682",
   "metadata": {},
   "outputs": [],
   "source": [
    "source_idbd[np.argsort(med_d_perbd)[0:10]]"
   ]
  },
  {
   "cell_type": "code",
   "execution_count": null,
   "id": "9f5fd889-1232-4fb2-bf18-05a3981aaa21",
   "metadata": {},
   "outputs": [],
   "source": [
    "[np.argsort(med_d_perbd)[0:10]]"
   ]
  },
  {
   "cell_type": "code",
   "execution_count": null,
   "id": "e1bdcb52-72f0-43e2-9f54-acf131668f8c",
   "metadata": {},
   "outputs": [],
   "source": [
    "med_d_perbd[130]"
   ]
  },
  {
   "cell_type": "markdown",
   "id": "df60e8e6",
   "metadata": {},
   "source": [
    "### Ta dah! Now we have calculated the perihelion distance and times for all the stars in our sample\n",
    "\n",
    "### Next we need to estimate masses for everything so that we can calculate impulses for each target:"
   ]
  },
  {
   "cell_type": "code",
   "execution_count": null,
   "id": "f53f757d",
   "metadata": {},
   "outputs": [],
   "source": [
    "def value(s):\n",
    "    try:\n",
    "        return float(s)\n",
    "    except ValueError:\n",
    "        return 0"
   ]
  },
  {
   "cell_type": "code",
   "execution_count": null,
   "id": "eeadf9ca",
   "metadata": {},
   "outputs": [],
   "source": [
    "## Read in Bp-Rp from Mamajek file.\n",
    "M_bprp = np.loadtxt('/Users/edm/Desktop/Stellar Flybys/Gaia Data/EEM_dwarf_UBVIJHK_colors_Teff.txt', usecols=(11), comments='#', dtype='str',  converters={11: value})\n",
    "M_bprp = M_bprp.astype('float64')\n",
    "print(len(M_bprp))\n",
    "\n",
    "## read in mass from Mamajek file\n",
    "M_mass = np.loadtxt('/Users/edm/Desktop/Stellar Flybys/Gaia Data/EEM_dwarf_UBVIJHK_colors_Teff.txt',usecols=(30), comments='#',dtype='str',  converters={30: value})\n",
    "M_mass = M_mass.astype('float64')\n",
    "print(len(M_mass))\n",
    "\n",
    "## read in teff from Mamajek file\n",
    "M_teff = np.loadtxt('/Users/edm/Desktop/Stellar Flybys/Gaia Data/EEM_dwarf_UBVIJHK_colors_Teff.txt',usecols=(1), comments='#',dtype='str',  converters={1: value})\n",
    "M_teff = M_teff.astype('float64')\n",
    "print(len(M_teff))\n"
   ]
  },
  {
   "cell_type": "code",
   "execution_count": null,
   "id": "28be3963",
   "metadata": {},
   "outputs": [],
   "source": [
    "M_mass=M_mass[6:87]\n",
    "M_teff=M_teff[6:87]\n",
    "M_bprp=M_bprp[6:87]"
   ]
  },
  {
   "cell_type": "code",
   "execution_count": null,
   "id": "e59c6ade",
   "metadata": {},
   "outputs": [],
   "source": [
    "#concatanating 1d arrays code does not iterate over float\n",
    "#scatter = plt.scatter(new_data2,new_data)\n",
    "\n",
    "scatter = plt.scatter(M_teff,M_mass)\n",
    "plt.xlabel('Teff')\n",
    "plt.ylabel('Mass')\n",
    "plt.show()\n",
    "\n",
    "\n"
   ]
  },
  {
   "cell_type": "code",
   "execution_count": null,
   "id": "40dbb318",
   "metadata": {},
   "outputs": [],
   "source": [
    "## plot Gaia teff values to understand their range etc.\n",
    "\n",
    "plt.plot(teff,marker='.',linestyle='None')\n",
    "plt.ylabel('Teff')"
   ]
  },
  {
   "cell_type": "code",
   "execution_count": null,
   "id": "55184ef6",
   "metadata": {},
   "outputs": [],
   "source": [
    "## use interpolation to figure out the match between T and M\n",
    "\n",
    "f = interpolate.interp1d(M_teff,M_mass)\n",
    "#top_press_P1 - top_press_P2\n",
    "\n",
    "\n",
    "#xnew = np.log10(top_press_P1)\n",
    "new_mass=f(M_teff)\n",
    "\n",
    "\n",
    "scatter = plt.scatter(M_teff,M_mass,label='Mamajek pts')\n",
    "plt.plot(M_teff,f(M_teff),color='red',label='Mamajek interpolation')\n",
    "plt.plot(teff,f(teff),color='orange',label='Gaia Interpolated Masses',linestyle='None',marker='.')\n",
    "plt.xlabel('Teff')\n",
    "plt.ylabel('Mass')\n",
    "plt.legend()\n",
    "plt.ylim(0,4)\n",
    "plt.xlim(0,max(teff))\n",
    "plt.show()\n",
    "\n"
   ]
  },
  {
   "cell_type": "code",
   "execution_count": null,
   "id": "3ccc7487",
   "metadata": {},
   "outputs": [],
   "source": [
    "## use interpolated function to calculate masses from temperatures:\n",
    "Mass = f(teff)\n",
    "\n",
    "\n"
   ]
  },
  {
   "cell_type": "code",
   "execution_count": null,
   "id": "6c201bc5",
   "metadata": {},
   "outputs": [],
   "source": [
    "Bp_Rp.shape"
   ]
  },
  {
   "cell_type": "code",
   "execution_count": null,
   "id": "9bb21cfa",
   "metadata": {},
   "outputs": [],
   "source": [
    "## Gliese 710 doesn't have a teff, so therefore the mass\n",
    "G710 = np.where(source_id==4270814637616488064)\n",
    "\n",
    "\n",
    "print(Mass[G710])\n",
    "print(teff[G710])\n",
    "print((Bp_Rp[G710]))\n",
    "#print(Bp_Rp.shape)"
   ]
  },
  {
   "cell_type": "code",
   "execution_count": null,
   "id": "87059ab0",
   "metadata": {},
   "outputs": [],
   "source": [
    "print(np.count_nonzero(np.isnan(Mass)))\n",
    "\n",
    "print(np.count_nonzero(np.isnan((Bp_Rp))))\n",
    "\n",
    "## ok there are a lot of nans!!! for objects with nan Teff values, use Bp_Rp to calculate Mass\n",
    "\n",
    "\n"
   ]
  },
  {
   "cell_type": "code",
   "execution_count": null,
   "id": "25a93fd0",
   "metadata": {},
   "outputs": [],
   "source": [
    "## have to trim arrays again because BP_Rp has zeros at beginning\n",
    "\n",
    "M_bprp=M_bprp[18:]\n",
    "M_teff=M_teff[18:]\n",
    "M_mass=M_mass[18:]\n",
    "\n",
    "nans = np.where(np.isnan(teff))\n"
   ]
  },
  {
   "cell_type": "code",
   "execution_count": null,
   "id": "73173489",
   "metadata": {},
   "outputs": [],
   "source": [
    "### do the same interpolation with Bp_Rp for objects with nans:\n",
    "\n",
    "scatter = plt.scatter(M_bprp,M_mass)\n",
    "plt.xlabel('Bp-Rp')\n",
    "plt.ylabel('Mass')\n",
    "plt.show()\n",
    "\n",
    "print(max(M_mass))\n"
   ]
  },
  {
   "cell_type": "code",
   "execution_count": null,
   "id": "af2123b5",
   "metadata": {},
   "outputs": [],
   "source": [
    "#interpolation will only work where Bp_Rp is within range of Mamajek values, so remove any\n",
    "\n",
    "print(min(Bp_Rp))\n",
    "print(min(M_bprp))\n",
    "\n",
    "\n",
    "\n",
    "nans_bprp = np.where((np.isnan(teff)) & (Bp_Rp > min(M_bprp)))\n",
    "#print(nans_bprp)"
   ]
  },
  {
   "cell_type": "code",
   "execution_count": null,
   "id": "13afcb13",
   "metadata": {},
   "outputs": [],
   "source": [
    "## use interpolation to figure out the match between T and M\n",
    "\n",
    "f2 = interpolate.interp1d(M_bprp,M_mass)\n",
    "#top_press_P1 - top_press_P2\n",
    "\n",
    "\n",
    "#xnew = np.log10(top_press_P1)\n",
    "#new_mass=f2(M_bprp)\n",
    "\n",
    "\n",
    "scatter = plt.scatter(M_bprp,M_mass,label='Mamajek pts')\n",
    "plt.plot(M_bprp,f2(M_bprp),color='red',label='Mamajek interpolation')\n",
    "plt.plot(Bp_Rp[nans_bprp],f2(Bp_Rp[nans_bprp]),color='orange',label='Gaia Interpolated Masses',linestyle='None',marker='.')\n",
    "plt.xlabel('Bp-Rp')\n",
    "plt.ylabel('Mass')\n",
    "plt.legend()\n",
    "plt.ylim(0,4)\n",
    "#plt.xlim(0,max(bprp))\n",
    "plt.show()\n",
    "\n",
    "\n",
    "\n",
    "\n",
    "\n",
    "Mass[nans_bprp] = f2(Bp_Rp[nans_bprp])\n",
    "\n"
   ]
  },
  {
   "cell_type": "code",
   "execution_count": null,
   "id": "fd402124",
   "metadata": {},
   "outputs": [],
   "source": [
    "## How many objects without masses are left???\n",
    "\n",
    "print(np.count_nonzero(np.isnan(Mass)))\n",
    "print(Mass[G710])"
   ]
  },
  {
   "cell_type": "code",
   "execution_count": null,
   "id": "d623318a",
   "metadata": {},
   "outputs": [],
   "source": [
    "Mass[167020] # mass of the brown dwarf system in kilograms"
   ]
  },
  {
   "cell_type": "code",
   "execution_count": null,
   "id": "58dddf69",
   "metadata": {},
   "outputs": [],
   "source": [
    "#np.argmax(y_err[np.argsort(med_d_per)[0:10]])"
   ]
  },
  {
   "cell_type": "code",
   "execution_count": null,
   "id": "7462d99f",
   "metadata": {},
   "outputs": [],
   "source": [
    "np.where(y_err == 4.9858768445550385)"
   ]
  },
  {
   "cell_type": "code",
   "execution_count": null,
   "id": "1b6b5cf5",
   "metadata": {},
   "outputs": [],
   "source": [
    "### calculate impulses for each target using the median values for t_per, d_per and v_per:\n",
    "\n",
    "## set up impulse arrays:\n",
    "impulse1 = np.zeros(len(source_id))\n",
    "impulse2 = impulse1 * 0\n",
    "\n",
    "\n",
    "## calculate impulse values:\n",
    "for i in range(0,len(source_id)):\n",
    "    impulse1[i] = Mass[i]/(med_d_per[i]*med_v_per[i])\n",
    "\n"
   ]
  },
  {
   "cell_type": "code",
   "execution_count": null,
   "id": "ab1d5ba8",
   "metadata": {},
   "outputs": [],
   "source": [
    "impulse1bd = Massbd/(med_d_perbd*med_v_perbd)"
   ]
  },
  {
   "cell_type": "code",
   "execution_count": null,
   "id": "bcd0f87f",
   "metadata": {},
   "outputs": [],
   "source": [
    "### calculate impulses for each target using the median values for t_per, d_per and v_per:\n",
    "### Distant tide approximation\n",
    "## set up impulse arrays:\n",
    "impulse3 = np.zeros(len(source_id))\n",
    "impulse4 = impulse3 * 0\n",
    "\n",
    "med_d_per2 = med_d_per**2\n",
    "\n",
    "## calculate impulse values:\n",
    "for i in range(0,len(source_id)):\n",
    "    impulse3[i] = Mass[i]/(med_d_per2[i]*med_v_per[i])"
   ]
  },
  {
   "cell_type": "code",
   "execution_count": null,
   "id": "132c3636",
   "metadata": {},
   "outputs": [],
   "source": [
    "BD_t = (-c1*(1/BD_plx)*(BD_rv/BD_vtot_array**2))\n",
    "BD_d = 10**3*(1/BD_plx)*(BD_vtan_array/BD_vtot_array)"
   ]
  },
  {
   "cell_type": "code",
   "execution_count": null,
   "id": "b0460699",
   "metadata": {},
   "outputs": [],
   "source": [
    "med_d_per[167020]"
   ]
  },
  {
   "cell_type": "code",
   "execution_count": null,
   "id": "a5d58d0a",
   "metadata": {},
   "outputs": [],
   "source": [
    "med_t_per[167020]"
   ]
  },
  {
   "cell_type": "code",
   "execution_count": null,
   "id": "4f17a789",
   "metadata": {},
   "outputs": [],
   "source": [
    "impulse1[167020]"
   ]
  },
  {
   "cell_type": "code",
   "execution_count": null,
   "id": "266a0d8b",
   "metadata": {},
   "outputs": [],
   "source": [
    "BD_MASS = (20.38*np.exp(-2.92*BD_Bp_Rp) + .48)"
   ]
  },
  {
   "cell_type": "code",
   "execution_count": null,
   "id": "b385384f",
   "metadata": {},
   "outputs": [],
   "source": [
    "BD_abs_mag = 18.353840 + 5*(np.log10(BD_plx))\n",
    "BD_abs_mag"
   ]
  },
  {
   "cell_type": "code",
   "execution_count": null,
   "id": "da55fc74",
   "metadata": {},
   "outputs": [],
   "source": [
    "np.argmax(y_err)"
   ]
  },
  {
   "cell_type": "code",
   "execution_count": null,
   "id": "7c9bc28f",
   "metadata": {},
   "outputs": [],
   "source": [
    "source_id[161120]"
   ]
  },
  {
   "cell_type": "code",
   "execution_count": null,
   "id": "d41d0cbe",
   "metadata": {},
   "outputs": [],
   "source": [
    "source_id[np.argsort(med_d_per)[0:10]]"
   ]
  },
  {
   "cell_type": "markdown",
   "id": "9ca18646-e82d-4818-955c-80cc21ac3bce",
   "metadata": {},
   "source": [
    "# Plots after Monte Carlo"
   ]
  },
  {
   "cell_type": "code",
   "execution_count": null,
   "id": "5f6ef90e",
   "metadata": {
    "scrolled": true
   },
   "outputs": [],
   "source": [
    "plt.scatter(med_t_per[np.argsort(med_d_per)[0:30]], med_d_per[np.argsort(med_d_per)[0:30]], facecolor = 'none', edgecolor = 'black')\n",
    "plt.errorbar(med_t_per[np.argsort(med_d_per)[0:30]], med_d_per[np.argsort(med_d_per)[0:30]], y_err[np.argsort(med_d_per)[0:30]], alpha = .5, ecolor='black', fmt='ko', markersize = 2)\n",
    "\n",
    "xmin, xmax = plt.xlim(-5,5)\n",
    "ymin, ymax = plt.ylim(0,1)\n",
    "\n",
    "plt.xlabel(\"t/Myr\")\n",
    "plt.ylabel(\"d/pc\")\n",
    "plt.show()"
   ]
  },
  {
   "cell_type": "code",
   "execution_count": null,
   "id": "8abb81c2",
   "metadata": {
    "scrolled": true
   },
   "outputs": [],
   "source": [
    "\n",
    "plt.scatter(med_t_per, med_d_per, s = 1000*impulse1, alpha = .5, facecolor = 'none', edgecolor = 'black')\n",
    "plt.scatter(med_t_per, med_d_per, s = 1000*impulse1, alpha = .5, facecolor = 'black', edgecolor = 'black', marker = '+')\n",
    "\n",
    "ymin, ymax = plt.ylim(0,1)\n",
    "xmin, xmax = plt.xlim(-5,5)\n",
    "\n",
    "plt.xlabel(\"perihelion time ($t^{med}_{ph}$ / Myr)\", fontsize = 15)\n",
    "plt.ylabel(\"perihelion distance ($d^{med}_{ph}$/pc)\", fontsize = 15)\n",
    "\n",
    "plt.xticks(fontsize = 15)\n",
    "plt.yticks(fontsize = 15)\n",
    "\n",
    "plt.savefig('DR3_StellarEncounters(noBD)_with_impulse.png', bbox_inches = \"tight\", facecolor='White')\n",
    "\n",
    "\n",
    "plt.show()"
   ]
  },
  {
   "cell_type": "code",
   "execution_count": null,
   "id": "1184b8f3",
   "metadata": {},
   "outputs": [],
   "source": [
    "plt.scatter(med_t_perbd[med_d_perbd <= 1], med_d_perbd[med_d_perbd <= 1], facecolor = 'red', edgecolor = 'red', label='UCD')\n",
    "plt.legend()\n",
    "plt.errorbar(med_t_perbd[med_d_perbd <= 1], med_d_perbd[med_d_perbd <= 1], y_errbd[med_d_perbd <= 1], x_errbd[med_d_perbd <= 1]/10**6, ecolor='red', fmt='ko', label='label',color=\"#8da0cb\", capthick=2, elinewidth=2, markersize = 2,capsize=3)\n",
    "\n",
    "plt.scatter(med_t_per[med_d_per <= 1], med_d_per[med_d_per < 1], facecolor = 'none', edgecolor = 'black')\n",
    "plt.errorbar(med_t_per[med_d_per <= 1], med_d_per[med_d_per <= 1], y_err[med_d_per <= 1], x_err[med_d_per <= 1]/10**6, ecolor='black', fmt='ko', label='label',color=\"#8da0cb\", capthick=2, elinewidth=2, markersize = 2,capsize=3)\n",
    "\n",
    "xmin, xmax = plt.xlim(-5,5)\n",
    "ymin, ymax = plt.ylim(0,1)\n",
    "\n",
    "plt.xlabel(\"perihelion time ($t^{med}_{ph}$ / Myr)\", fontsize = 15)\n",
    "plt.ylabel(\"perihelion distance ($d^{med}_{ph}$/pc)\", fontsize = 15)\n",
    "\n",
    "plt.savefig('DR3_StellarEncounters_no_impulse.png', bbox_inches = \"tight\", facecolor='White')\n",
    "\n",
    "plt.xticks(fontsize = 15)\n",
    "plt.yticks(fontsize = 15)"
   ]
  },
  {
   "cell_type": "code",
   "execution_count": null,
   "id": "23ebfd1d-4aee-4b98-a716-8a238a740e87",
   "metadata": {},
   "outputs": [],
   "source": [
    "np.argmin(med_d_perbd)"
   ]
  },
  {
   "cell_type": "code",
   "execution_count": null,
   "id": "9b646f5f-bd02-401d-8c0c-5382231e4d74",
   "metadata": {},
   "outputs": [],
   "source": [
    "np.nanargmin(med_d_perbd)"
   ]
  },
  {
   "cell_type": "code",
   "execution_count": null,
   "id": "765ac01a-2e11-4c6b-80ac-15e86e8ecfc5",
   "metadata": {},
   "outputs": [],
   "source": [
    "med_d_perbd[130]"
   ]
  },
  {
   "cell_type": "code",
   "execution_count": null,
   "id": "e7e91ac6-0e4d-47a9-9c82-9a1489f9e380",
   "metadata": {},
   "outputs": [],
   "source": [
    "y_errbd[130]"
   ]
  },
  {
   "cell_type": "code",
   "execution_count": null,
   "id": "24933aac-8d13-421b-8804-4eb8215c7372",
   "metadata": {},
   "outputs": [],
   "source": [
    "high_errbd[130]"
   ]
  },
  {
   "cell_type": "code",
   "execution_count": null,
   "id": "bc574e4d-ad3b-49f2-b4af-bdc3aa335211",
   "metadata": {},
   "outputs": [],
   "source": [
    "low_errbd[130]"
   ]
  },
  {
   "cell_type": "code",
   "execution_count": null,
   "id": "b74a7b5b",
   "metadata": {},
   "outputs": [],
   "source": [
    "\n",
    "plt.scatter(med_t_per[1561], med_d_per[1561], s = 1000*impulse3[1561], alpha = .5, facecolor = 'red', edgecolor = 'red')\n",
    "plt.scatter(med_t_per, med_d_per, s = 1000*impulse3, alpha = .5, facecolor = 'none', edgecolor = 'black')\n",
    "plt.scatter(med_t_per, med_d_per, s = 500*impulse3, alpha = .5, facecolor = 'black', edgecolor = 'black', marker = 'x')\n",
    "\n",
    "xmin, xmax = plt.xlim(-15,15)\n",
    "ymin, ymax = plt.ylim(0,5)\n",
    "\n",
    "plt.xlabel(\"perihelion time ($t^{med}_{ph}$ / Myr)\")\n",
    "plt.ylabel(\"perihelion distance ($d^{med}_{ph}$/pc)\")\n",
    "plt.show()"
   ]
  },
  {
   "cell_type": "code",
   "execution_count": null,
   "id": "4bcd1ed9",
   "metadata": {},
   "outputs": [],
   "source": [
    "### Read in data file\n",
    "\n",
    "GSample1bd = fits.open('/Users/edm/Desktop/Stellar Flybys/Gaia Data/Mass Bd sampls (dino).fits')\n",
    "GSample_A2bd = Table(GSample1bd[1].data)"
   ]
  },
  {
   "cell_type": "code",
   "execution_count": null,
   "id": "dad7aafb",
   "metadata": {},
   "outputs": [],
   "source": []
  },
  {
   "cell_type": "code",
   "execution_count": null,
   "id": "c02d32fb",
   "metadata": {},
   "outputs": [],
   "source": [
    "## pull out variables on interest\n",
    "\n",
    "#radial velocity\n",
    "Rvelbd = np.asarray(GSample_A2bd[\"RV\"])\n",
    "rvbd=Rvelbd\n",
    "\n",
    "rv_ebd = np.asarray(GSample_A2bd[\"e_RV\"]) \n",
    "\n",
    "\n",
    "# PM RA and Dec\n",
    "bdPMD = np.asarray(GSample_A2bd['pmDE'])\n",
    "bdPMR = np.asarray(GSample_A2bd['pmRA'])\n",
    "bdPMR_e = np.asarray(GSample_A2bd['e_pmRA'])\n",
    "bdPMD_e = np.asarray(GSample_A2bd['e_pmDE'])\n",
    "\n",
    "#parallax\n",
    "bdplx = 1000/np.asarray(GSample_A2bd['Dist'])\n",
    "bdplx_e = 1/np.asarray(GSample_A2bd['e_Dist'])\n",
    "\n",
    "bdMass = np.asarray(GSample_A2bd['Mass'])"
   ]
  },
  {
   "cell_type": "code",
   "execution_count": null,
   "id": "ce02fdc2",
   "metadata": {},
   "outputs": [],
   "source": [
    "#uses new median values for the arrays\n",
    "BD1_pmtot_array = np.sqrt(bdPMR**2+bdPMD**2)\n",
    "BD1_vtan_array = (4.74/bdplx)*BD1_pmtot_array\n",
    "BD1_vtot_array = (np.sqrt(BD1_vtan_array**2+rvbd**2))\n",
    "c1 = 0.9779*10**9\n",
    "c2 = 4.74047"
   ]
  },
  {
   "cell_type": "code",
   "execution_count": null,
   "id": "56cc83d2",
   "metadata": {},
   "outputs": [],
   "source": [
    "BD_t = (-c1*(1/bdplx)*(rvbd/BD1_vtot_array**2))/10**6\n",
    "BD_d = 10**3*(1/bdplx)*(BD1_vtan_array/BD1_vtot_array)"
   ]
  },
  {
   "cell_type": "code",
   "execution_count": null,
   "id": "29d73b14",
   "metadata": {},
   "outputs": [],
   "source": [
    "BDimpulse1 = bdMass/(BD_d**2*BD1_vtot_array)"
   ]
  },
  {
   "cell_type": "code",
   "execution_count": null,
   "id": "d03475a5",
   "metadata": {},
   "outputs": [],
   "source": [
    "BDimpulse1"
   ]
  },
  {
   "cell_type": "code",
   "execution_count": null,
   "id": "61aad996",
   "metadata": {},
   "outputs": [],
   "source": [
    "\n",
    "plt.scatter(BD_t/10**6, BD_d, s = 1000*BDimpulse1, alpha = .5, facecolor = 'red', edgecolor = 'red')\n",
    "plt.scatter(BD_t/10**6, BD_d, s = 500*BDimpulse1, alpha = .5, facecolor = 'red', edgecolor = 'red', marker = 'x')\n",
    "plt.scatter(med_t_per[1561], med_d_per[1561], s = 1000*impulse1[1561], alpha = .5, facecolor = 'none', edgecolor = 'red')\n",
    "plt.scatter(med_t_per, med_d_per, s = 1000*impulse1, alpha = .5, facecolor = 'none', edgecolor = 'black')\n",
    "plt.scatter(med_t_per, med_d_per, s = 500*impulse1, alpha = .5, facecolor = 'black', edgecolor = 'black', marker = 'x')\n",
    "plt.scatter(med_t_per[167020], med_d_per[167020], s = 1000*impulse1[167020], alpha = .5, facecolor = 'none', edgecolor = 'red')\n",
    "xmin, xmax = plt.xlim(-15,15)\n",
    "ymin, ymax = plt.ylim(0,5)\n",
    "\n",
    "plt.xlabel(\"perihelion time ($t^{med}_{ph}$ / Myr)\")\n",
    "plt.ylabel(\"perihelion distance ($d^{med}_{ph}$/pc)\")\n",
    "plt.show()"
   ]
  },
  {
   "cell_type": "code",
   "execution_count": null,
   "id": "89aad8c8",
   "metadata": {},
   "outputs": [],
   "source": [
    "GSample_A2.loc[np.argsort(med_d_per)[0:10]]"
   ]
  },
  {
   "cell_type": "code",
   "execution_count": null,
   "id": "bf649646",
   "metadata": {
    "scrolled": true
   },
   "outputs": [],
   "source": [
    "\n",
    "plt.figure(figsize=(10, 10))\n",
    "plt.scatter(med_t_per[167020], med_d_per[167020], s = 10000*impulse3[167020], alpha = .5, facecolor = 'red', edgecolor = 'red', marker = 'x')\n",
    "plt.scatter(BD_t[BD_d >= 1], BD_d[BD_d >= 1], s = 1000*BDimpulse1[BD_d >= 1], alpha = .5, facecolor = 'none', edgecolor = 'red')\n",
    "plt.scatter(BD_t[BD_d >= 1], BD_d[BD_d >= 1], s = 500*BDimpulse1[BD_d >= 1], alpha = .5, facecolor = 'red', edgecolor = 'red', marker = 'x')\n",
    "plt.scatter(med_t_per, med_d_per, s = 1000*impulse3, alpha = 1, edgecolor = 'none', facecolor = 'none', c = med_v_per, vmin=0, vmax=100, cmap='viridis')\n",
    "\n",
    "plt.plot(np.arange(-20,20,1), np.zeros(40)+med_d_per[0],color='black')\n",
    "plt.text(-14.8,1,'Oort Cloud Outer Radius')\n",
    "plt.plot(np.arange(-20,20,1), np.zeros(40)+1.3,color='black')\n",
    "plt.text(-14.8,1.4,'Proxima Cen Today')\n",
    "plt.plot(np.arange(-20,20,1), np.zeros(40)+1.3,color='black')\n",
    "plt.text(-14.8,1.4,'Proxima Cen Today')\n",
    "cbartitle = plt.colorbar()\n",
    "cbartitle.set_label('total $velocity^{med}_{ph}$(km/s)')\n",
    "\n",
    "xmin, xmax = plt.xlim(-15,15)\n",
    "ymin, ymax = plt.ylim(0.04,10)\n",
    "plt.xlabel(\"perihelion time ($t^{med}_{ph}$ / Myr)\", fontsize = 15)\n",
    "plt.ylabel(\"perihelion distance ($d^{med}_{ph}$/pc)\", fontsize = 15)\n",
    "plt.yscale('log')\n",
    "\n",
    "plt.xticks(fontsize = 15)\n",
    "plt.yticks(fontsize = 15)\n",
    "\n",
    "\n"
   ]
  },
  {
   "cell_type": "markdown",
   "id": "d11757a4",
   "metadata": {},
   "source": [
    "### Done!!"
   ]
  },
  {
   "cell_type": "code",
   "execution_count": null,
   "id": "fe2dec75",
   "metadata": {
    "scrolled": true
   },
   "outputs": [],
   "source": [
    "#### overplot an object of interest if you know the Gaia DR3 ID\n",
    "\n",
    "#object_of_interest = np.where(source_id==5853498713190525696)\n",
    "\n",
    "plt.figure(figsize=(10, 10))\n",
    "\n",
    "\n",
    "plt.plot(np.arange(-20,20,1), np.zeros(40)+1.3,color='black')\n",
    "plt.plot(np.zeros(100), np.arange(0,100),color='black')\n",
    "\n",
    "plt.scatter(med_t_per, med_d_per, s = 1000*impulse1, alpha = 1, edgecolor = 'none', facecolor = 'none', c = med_v_per, vmin=0, vmax=100, cmap='viridis')\n",
    "#plt.scatter(t[0]/10**6, d[0], s = 1000*area[0], alpha = 1, edgecolor = 'none', facecolor = 'none', c = 'green')\n",
    "plt.plot(med_t_per[object_of_interest]/10**6, med_d_per[object_of_interest],marker='o',color='red')\n",
    "\n",
    "\n",
    "plt.text(-2.8,1.4,'Proxima Centauri Today')\n",
    "\n",
    "for i in range(0,100):\n",
    "    plt.plot([0, med_t_per[np.argsort(-1*plx)[i]]], [1/(plx[np.argsort(-1*plx)[i]]/1000),med_d_per[np.argsort(-1*plx)[i]]],marker='.',color='red',alpha=0.1,linestyle='-')\n",
    "\n",
    "    \n",
    "    1/(plx[np.argsort(-1*plx)[0:10]]/1000)\n",
    "\n",
    "\n",
    "cbartitle = plt.colorbar()\n",
    "cbartitle.set_label('transverse $velocity^{med}_{ph}$(km/s)')\n",
    "#plt.scatter(tph/10**3, dph, s = 500*area, alpha = .5, edgecolor = 'black', facecolor = 'black', marker = 'x')\n",
    "xmin, xmax = plt.xlim(-3,3)\n",
    "ymin, ymax = plt.ylim(0.04,10)\n",
    "plt.xlabel(\"perihelion time ($t^{med}_{ph}$ / Myr)\")\n",
    "plt.ylabel(\"perihelion distance ($d^{med}_{ph}$/pc)\")\n",
    "plt.yscale('log')\n",
    "#plt.xscale('log')\n",
    "plt.legend()\n",
    "\n"
   ]
  },
  {
   "cell_type": "code",
   "execution_count": null,
   "id": "9352d8d4",
   "metadata": {
    "scrolled": true
   },
   "outputs": [],
   "source": [
    "med_d_per[1561]"
   ]
  },
  {
   "cell_type": "code",
   "execution_count": null,
   "id": "6111b320",
   "metadata": {},
   "outputs": [],
   "source": [
    "source_id[167020]"
   ]
  },
  {
   "cell_type": "code",
   "execution_count": null,
   "id": "b0ab5500",
   "metadata": {},
   "outputs": [],
   "source": [
    "med_t_per[1561]"
   ]
  },
  {
   "cell_type": "code",
   "execution_count": null,
   "id": "39221874",
   "metadata": {},
   "outputs": [],
   "source": [
    "#### overplot an object of interest if you know the Gaia DR3 ID\n",
    "\n",
    "#object_of_interest = np.where(source_id==5544743925212648320)\n",
    "\n",
    "fig = plt.figure(figsize=(2,2))\n",
    "plt.figure(figsize=(10, 10))\n",
    "\n",
    "#area = (Mass)/(d*vtot)\n",
    "\n",
    "plt.plot(np.arange(-20,20,1), np.zeros(40)+1.3,color='black',linestyle='dashed',zorder=0)\n",
    "plt.plot(np.arange(-20,20,1), np.zeros(40)+0.969627362,color='black',linestyle='dashed',zorder=0)\n",
    "plt.plot(np.arange(-20,20,1), np.zeros(40)+2,color='black',linestyle='dashed',zorder=0)\n",
    "#plt.plot(np.zeros(100), np.arange(0,100),color='black',linestyle='dashed',zorder=0)\n",
    "\n",
    "\n",
    "#plt.gca().add_patch(Rectangle((-0.5,1),1,3,fill=False, color='black', linestyle = 'solid'))\n",
    "#plt.annotate(\"J1416AB\", (4.85,0.0512), color='black', weight='bold', fontsize=10, ha='center', va='center')\n",
    "plt.scatter(med_t_perbd, med_d_perbd, s = 1000*impulse1bd, facecolor = 'red', edgecolor = 'red', label='UCD Sample')\n",
    "#plt.scatter(med_t_perbd[130], med_d_perbd[130], s = 1000*impulse1bd[130], facecolor = 'red', edgecolor = 'red', label='UCD Sample')\n",
    "plt.scatter(med_t_per, med_d_per, s = 1000*impulse1, alpha = 1, edgecolor = 'none', facecolor = 'none', c = np.abs(rv), vmin=0, vmax=100, cmap='viridis')\n",
    "plt.scatter(med_t_per[167020], med_d_per[167020], s = 1000*impulse1[167020], alpha = 1, edgecolor = 'red', facecolor = 'none', c = np.abs(rv[167020]), vmin=0, vmax=100, cmap='viridis', marker = 'X')\n",
    "#plt.scatter(t[0]/10**6, d[0], s = 1000*area[0], alpha = 1, edgecolor = 'none', facecolor = 'none', c = 'green')\n",
    "#plt.plot(t[object_of_interest]/10**6, d[object_of_interest],marker='o',color='red')\n",
    "\n",
    "\n",
    "plt.text(-14.8,1.4,'Proxima Centauri Today')\n",
    "plt.text(-14.8,1,'Oort Cloud Outer Radius')\n",
    "\n",
    "COLOR = 'black'\n",
    "plt.rcParams['xtick.color'] = COLOR\n",
    "plt.rcParams['ytick.color'] = COLOR\n",
    "\n",
    "cbartitle = plt.colorbar()\n",
    "cbartitle.set_label('radial $velocity^{med}_{ph}$(km/s)')\n",
    "#plt.scatter(tph/10**3, dph, s = 500*area, alpha = .5, edgecolor = 'black', facecolor = 'black', marker = 'x')\n",
    "plt.legend()\n",
    "xmin, xmax = plt.xlim(-15,15)\n",
    "ymin, ymax = plt.ylim(0.04,10)\n",
    "plt.xlabel(\"perihelion time ($t^{med}_{ph}$ / Myr)\", fontsize = 15)\n",
    "plt.ylabel(\"perihelion distance ($d^{med}_{ph}$/pc)\", fontsize = 15)\n",
    "plt.yscale('log')\n",
    "\n",
    "plt.xticks(fontsize = 15)\n",
    "plt.yticks(fontsize = 15)\n",
    "#plt.xscale('log')\n",
    "#plt.legend()\n",
    "plt.savefig('DR3_StellarEncounters(logscale).png', bbox_inches = \"tight\", dpi=300, facecolor='White')\n",
    "\n"
   ]
  },
  {
   "cell_type": "code",
   "execution_count": null,
   "id": "45415b92",
   "metadata": {
    "scrolled": true
   },
   "outputs": [],
   "source": [
    "med_d_per[object_of_interest]"
   ]
  },
  {
   "cell_type": "code",
   "execution_count": null,
   "id": "9543d73b",
   "metadata": {},
   "outputs": [],
   "source": [
    "#source_id = np.asarray(GSample_A[\"source_id_2\"])\n",
    "source_id[np.argsort(med_d_per)[0:20]]"
   ]
  },
  {
   "cell_type": "code",
   "execution_count": null,
   "id": "39a5c493",
   "metadata": {},
   "outputs": [],
   "source": [
    "source_id[np.argsort(-1*impulse1)[0:10]]"
   ]
  },
  {
   "cell_type": "code",
   "execution_count": null,
   "id": "e1e586b0",
   "metadata": {},
   "outputs": [],
   "source": [
    "impulse1[np.argsort(-1*impulse1)[0:10]]"
   ]
  },
  {
   "cell_type": "code",
   "execution_count": null,
   "id": "1140a20a-28da-4a92-87f9-4e3a956f0618",
   "metadata": {},
   "outputs": [],
   "source": [
    "GSample_A3[np.argsort(med_d_per)[0:10]]"
   ]
  },
  {
   "cell_type": "markdown",
   "id": "54b7f194-a132-4576-ba1f-9281c3b7261a",
   "metadata": {},
   "source": [
    "_____________________________________"
   ]
  },
  {
   "cell_type": "markdown",
   "id": "611a9a0d-f8a8-403a-821a-72cec1b2b0c1",
   "metadata": {
    "tags": []
   },
   "source": [
    "# Brown Dwarf check \n",
    "These next cells are to check the value of index 135 when you look at its missing values on simbad"
   ]
  },
  {
   "cell_type": "code",
   "execution_count": null,
   "id": "b2b3ab5d-5813-4849-88df-fea12d83ec3e",
   "metadata": {},
   "outputs": [],
   "source": [
    "#uses new median values for the arrays\n",
    "BDpmtot_check = np.sqrt((-414.209)**2+(-1041.278)**2)\n",
    "BD1_vtan_array_check = (4.74/47.1264)*BDpmtot_check\n",
    "BD1_vtot_array_check = (np.sqrt(BD1_vtan_array_check**2+rvbd[135]**2))\n",
    "c1 = 0.9779*10**9\n",
    "c2 = 4.74047"
   ]
  },
  {
   "cell_type": "code",
   "execution_count": null,
   "id": "20288338-de18-44e5-aa0e-38e2bcb2d7c4",
   "metadata": {},
   "outputs": [],
   "source": [
    "BD1_vtan_array_check"
   ]
  },
  {
   "cell_type": "code",
   "execution_count": null,
   "id": "733f6867-1f5d-411c-8a71-ef7a31fbbf91",
   "metadata": {},
   "outputs": [],
   "source": [
    "rvbd[135]"
   ]
  },
  {
   "cell_type": "code",
   "execution_count": null,
   "id": "30c132ab-61a1-4d9e-a92a-9fb61553cb8e",
   "metadata": {},
   "outputs": [],
   "source": [
    "rvbd[53]"
   ]
  },
  {
   "cell_type": "code",
   "execution_count": null,
   "id": "08ae460b",
   "metadata": {},
   "outputs": [],
   "source": [
    "BD_t_check = (-c1*(1/47.1264)*(rvbd[135]/BD1_vtot_array_check**2))\n",
    "BD_d_check = 10**3*(1/47.1264)*(BD1_vtan_array_check/BD1_vtot_array_check)"
   ]
  },
  {
   "cell_type": "code",
   "execution_count": null,
   "id": "85e6c538-8a51-4ad5-8fc9-fa0898071b8d",
   "metadata": {},
   "outputs": [],
   "source": [
    "BD_d_check"
   ]
  },
  {
   "cell_type": "code",
   "execution_count": null,
   "id": "76f85abf-c360-4d6b-bcb9-f3ade0afd895",
   "metadata": {},
   "outputs": [],
   "source": [
    "BD_t_check/10**6"
   ]
  },
  {
   "cell_type": "markdown",
   "id": "31e3339e-16c5-42d4-a689-f268da0a3fd3",
   "metadata": {},
   "source": [
    "The new values used from simbad put the brown dwarf J1331-0116 at least twice the distance its original value was. This, therefore proves that J1331 is not a stellar flyby and the sample from Dino does not give us any stellar flybys."
   ]
  },
  {
   "cell_type": "code",
   "execution_count": null,
   "id": "2469d8ac-9712-4f4e-a450-ff3ba1c7456f",
   "metadata": {},
   "outputs": [],
   "source": [
    "plt.scatter(med_t_per[med_d_per <= 1], med_d_per[med_d_per < 1], facecolor = 'none', edgecolor = 'black',label='DR3 Sources')\n",
    "plt.scatter(med_t_perbd[med_d_perbd > 1], med_d_perbd[med_d_perbd > 1], facecolor = 'red', edgecolor = 'red', label='UCD Sample')\n",
    "plt.scatter(med_t_perbd[135], med_d_perbd[135], facecolor = 'white', edgecolor = 'white', zorder = 8)\n",
    "plt.scatter(BD_t_check/10**6, BD_d_check, facecolor = 'purple', edgecolor = 'purple', label = 'J1331-0116')\n",
    "\n",
    "\n",
    "xmin, xmax = plt.xlim(-5,5)\n",
    "ymin, ymax = plt.ylim(0,25)\n",
    "\n",
    "plt.legend()\n",
    "plt.xlabel(\"perihelion time ($t^{med}_{ph}$ / Myr)\", fontsize = 15)\n",
    "plt.ylabel(\"perihelion distance ($d^{med}_{ph}$/pc)\", fontsize = 15)\n",
    "\n",
    "plt.savefig('J1331-0116_new_plot(no impulse).png', bbox_inches = \"tight\", facecolor='White')\n",
    "\n",
    "plt.xticks(fontsize = 15)\n",
    "plt.yticks(fontsize = 15)"
   ]
  },
  {
   "cell_type": "code",
   "execution_count": null,
   "id": "3b622133-ea72-4584-8ec8-56d63bc0cf27",
   "metadata": {},
   "outputs": [],
   "source": [
    "##scholz's star check\n",
    "med_d_perbd[130]"
   ]
  },
  {
   "cell_type": "code",
   "execution_count": null,
   "id": "b9a2fbda-4107-4b95-894a-df86476da627",
   "metadata": {},
   "outputs": [],
   "source": [
    "med_t_perbd[130]"
   ]
  },
  {
   "cell_type": "code",
   "execution_count": null,
   "id": "1d73a3bb-b181-4530-ba99-fb2a356a5e13",
   "metadata": {},
   "outputs": [],
   "source": [
    "\n",
    "\n",
    "plt.scatter(med_t_perbd[130], med_d_perbd[130], s = 1000*impulse1bd[130], facecolor = 'red', edgecolor = 'red', label='UCD Sample')"
   ]
  },
  {
   "cell_type": "code",
   "execution_count": null,
   "id": "53f4a21f-f2b8-401f-af2b-f676025b388c",
   "metadata": {},
   "outputs": [],
   "source": [
    "med_d_perbd[135]"
   ]
  },
  {
   "cell_type": "markdown",
   "id": "9758199f-d628-4a93-83b5-61149d5df2a7",
   "metadata": {},
   "source": [
    "As you can see the object is no longer the closest known brown dwarf but the farthest in the sample. Which makes sense because its radial velocity is only -3, and its transverse velocity is 112.\n",
    "\n",
    "__________________________________"
   ]
  },
  {
   "cell_type": "code",
   "execution_count": null,
   "id": "33dafba1-0f47-4c1d-9514-38e2101d24ce",
   "metadata": {},
   "outputs": [],
   "source": []
  },
  {
   "cell_type": "markdown",
   "id": "98ec8244-8ca4-41e3-a00c-e67e45ede7e8",
   "metadata": {
    "tags": []
   },
   "source": [
    "# HR Diagrams"
   ]
  },
  {
   "cell_type": "code",
   "execution_count": null,
   "id": "873d04c4",
   "metadata": {},
   "outputs": [],
   "source": [
    "### load in mags for col-mag diagram\n",
    "\n",
    "phot_g_mean_mag = np.asarray(GSample_A2[\"phot_g_mean_mag_2\"])\n",
    "phot_bp_mean_mag = np.asarray(GSample_A2[\"phot_bp_mean_mag_2\"])\n",
    "phot_rp_mean_mag = np.asarray(GSample_A2[\"phot_rp_mean_mag_2\"])\n",
    "parallax = np.asarray(GSample_A2[\"parallax_2\"])\n",
    "\n",
    "\n",
    "bp_rp = phot_bp_mean_mag - phot_rp_mean_mag\n",
    "abs_mag = phot_g_mean_mag + 5*(np.log10(parallax)) - 10"
   ]
  },
  {
   "cell_type": "code",
   "execution_count": null,
   "id": "0904426b",
   "metadata": {},
   "outputs": [],
   "source": [
    "max(phot_g_mean_mag)"
   ]
  },
  {
   "cell_type": "code",
   "execution_count": null,
   "id": "edeb6656",
   "metadata": {
    "scrolled": true
   },
   "outputs": [],
   "source": [
    "phot_rp_mean_mag[167020]"
   ]
  },
  {
   "cell_type": "code",
   "execution_count": null,
   "id": "4c4f635c",
   "metadata": {},
   "outputs": [],
   "source": [
    "abs_mag[167020]"
   ]
  },
  {
   "cell_type": "code",
   "execution_count": null,
   "id": "dbeab465",
   "metadata": {},
   "outputs": [],
   "source": [
    "abs_mag[1561]"
   ]
  },
  {
   "cell_type": "code",
   "execution_count": null,
   "id": "177f6240",
   "metadata": {},
   "outputs": [],
   "source": [
    "phot_bp_mean_mag[1561]"
   ]
  },
  {
   "cell_type": "code",
   "execution_count": null,
   "id": "b3072439",
   "metadata": {},
   "outputs": [],
   "source": [
    "bp_rp[167020]"
   ]
  },
  {
   "cell_type": "code",
   "execution_count": null,
   "id": "90da4add",
   "metadata": {
    "scrolled": true
   },
   "outputs": [],
   "source": [
    "fig = plt.figure(figsize=(2,2))\n",
    "plt.figure(figsize=(10, 10))\n",
    "#plots other stars in HR Diagram\n",
    "plt.scatter(bp_rp,abs_mag, s = 1, color = 'grey')\n",
    "plt.gca().add_patch(Rectangle((4.35,27),1,3,fill=False, color='black', linestyle = 'solid'))\n",
    "plt.annotate(\"J1416AB\", (4.85,26.5), color='black', weight='bold', fontsize=10, ha='center', va='center')\n",
    "cbartitle.set_label('Impulse')\n",
    "plt.ylim(20,0)\n",
    "plt.xlim(0,5)\n",
    "plt.ylabel('Gmag')\n",
    "plt.xlabel('Bp-Rp')\n",
    "\n",
    "plt.show()\n",
    "#solid bocks indicates the brown dwarf"
   ]
  },
  {
   "cell_type": "code",
   "execution_count": null,
   "id": "7ea1f800",
   "metadata": {
    "scrolled": true
   },
   "outputs": [],
   "source": [
    "fig = plt.figure(figsize=(2,2))\n",
    "plt.figure(figsize=(10, 10))\n",
    "\n",
    "#plots other stars in HR Diagram\n",
    "plt.hexbin(bp_rp,abs_mag, bins = 'log', gridsize = 1000, cmap = 'inferno', mincnt=1)\n",
    "\n",
    "#plt.gca().add_patch(Rectangle((4.35,27),1,3,fill=False, color='black', linestyle = 'solid'))\n",
    "#plt.annotate(\"J1416AB\", (4.85,26.5), color='black', weight='bold', fontsize=10, ha='center', va='center')\n",
    "\n",
    "plt.ylim(20,0)\n",
    "plt.xlim(0,5)\n",
    "plt.ylabel('Gmag', fontsize = 15)\n",
    "plt.xlabel('Bp-Rp', fontsize = 15)\n",
    "\n",
    "plt.xticks(fontsize = 15)\n",
    "plt.yticks(fontsize = 15)\n",
    "\n",
    "plt.savefig('DR3_CMD2.png',dpi=300, facecolor='White')\n",
    "plt.show()"
   ]
  },
  {
   "cell_type": "code",
   "execution_count": null,
   "id": "9f28191c",
   "metadata": {},
   "outputs": [],
   "source": [
    "fig = plt.figure(figsize=(2,2))\n",
    "plt.figure(figsize=(10, 10))\n",
    "\n",
    "#plots other stars in HR Diagram\n",
    "plt.scatter(bp_rp,abs_mag, s = 5, color = 'grey')\n",
    "\n",
    "#plots top 10 stars with the highest impulse\n",
    "plt.scatter(bp_rp[np.argsort(-1*impulse1)[0:10]],abs_mag[np.argsort(-1*impulse1)[0:10]], c = impulse1[np.argsort(-1*impulse1)[0:10]], vmin = 0, vmax = 0.5, cmap = 'magma')\n",
    "#n = [1,2,3,4,5,6,7,8,9,10]\n",
    "#for i, txt in enumerate(n):\n",
    "    #plt.annotate(txt, (bp_rp[np.argsort(-1*impulse1)[0:10]][i], abs_mag[np.argsort(-1*impulse1)[0:10]][i]/.99), color = 'white', weight='bold')\n",
    "\n",
    "cbartitle = plt.colorbar()\n",
    "cbartitle.set_label('Impulse')\n",
    "plt.ylim(20,0)\n",
    "#plt.xlim(0,6)\n",
    "plt.ylabel('Gmag')\n",
    "plt.xlabel('Bp-Rp')\n",
    "\n",
    "plt.show()\n",
    "#solid bocks indicates the brown dwarf"
   ]
  },
  {
   "cell_type": "code",
   "execution_count": null,
   "id": "84e0244a",
   "metadata": {},
   "outputs": [],
   "source": [
    "import matplotlib.patheffects as pe\n",
    "fig = plt.figure(figsize=(5,5))\n",
    "plt.figure(figsize=(10, 10))\n",
    "\n",
    "#plots other stars in HR Diagram\n",
    "plt.hexbin(bp_rp,abs_mag, bins = 'log', gridsize = 1000, cmap = 'inferno', mincnt=1)\n",
    "\n",
    "#plots top 3 stars with the highest impulse\n",
    "plt.scatter(bp_rp[np.argsort(-1*med_d_per)[0:1]],abs_mag[np.argsort(-1*med_d_per)[0:1]])\n",
    "#numbers the top ten points and outlines them in black\n",
    "#n = [\"Gliese710\"]\n",
    "#for i, txt in enumerate(n):\n",
    "    #plt.annotate(txt, (bp_rp[np.argsort(-1*med_d_per)[0:1]][i], abs_mag[np.argsort(-1*med_d_per)[0:1]][i]/.99), fontsize = 10, color = 'white', weight='bold')\n",
    "\n",
    "plt.ylim(20,0)\n",
    "#plt.xlim(0,6)\n",
    "plt.ylabel('Gmag')\n",
    "plt.xlabel('Bp-Rp')\n",
    "#plt.savefig('DR3_CMD3.png',dpi=300, facecolor='White')\n",
    "plt.show()\n",
    "#solid bocks indicates the brown dwarf"
   ]
  },
  {
   "cell_type": "code",
   "execution_count": null,
   "id": "a9678260",
   "metadata": {},
   "outputs": [],
   "source": [
    "fig = plt.figure(figsize=(2,2))\n",
    "plt.figure(figsize=(10, 10))\n",
    "\n",
    "plt.scatter(bp_rp,abs_mag, s = 1,c = med_v_per, vmin = 0, vmax = 100, cmap = 'magma')\n",
    "plt.scatter(BD_Bp_Rp,BD_abs_mag, c = BD_vtot_array, vmin = 0, vmax = .0005, cmap = 'magma')\n",
    "plt.gca().add_patch(Rectangle((4.35,27),1,3,fill=False, color='black', linestyle = 'solid'))\n",
    "plt.annotate(\"J1416AB\", (4.85,26.5), color='black', weight='bold', fontsize=10, ha='center', va='center')\n",
    "cbartitle = plt.colorbar()\n",
    "cbartitle.set_label('med_v_per')\n",
    "plt.ylim(30,6)\n",
    "plt.ylabel('Gmag')\n",
    "plt.xlabel('Bp-Rp')\n",
    "\n",
    "#plt.plot(bp_rp[np.argsort(-1*impulse1)[0:10]],abs_mag[np.argsort(-1*impulse1)[0:10]],color='red',linestyle='None',marker='*' ,label='Largest impulses')\n",
    "\n",
    "\n",
    "plt.legend()\n",
    "\n",
    "plt.show()"
   ]
  },
  {
   "cell_type": "code",
   "execution_count": null,
   "id": "474f7839",
   "metadata": {},
   "outputs": [],
   "source": [
    "fig = plt.figure(figsize=(2,2))\n",
    "plt.figure(figsize=(10, 10))\n",
    "\n",
    "#plt.scatter(BD_Bp_Rp,BD_abs_mag, c = area, vmin = 0, vmax = .0005, cmap = 'magma')\n",
    "plt.scatter(bp_rp,abs_mag, s = 1, c = impulse1, vmin = 0, vmax = .0005, cmap = 'magma')\n",
    "plt.gca().add_patch(Rectangle((4.35,27),1,3,fill=False, color='black', linestyle = 'solid'))\n",
    "plt.annotate(\"J1416AB\", (4.85,26.5), color='black', weight='bold', fontsize=10, ha='center', va='center')\n",
    "cbartitle = plt.colorbar()\n",
    "cbartitle.set_label('Impulse')\n",
    "plt.ylim(30,6)\n",
    "plt.ylabel('Gmag')\n",
    "plt.xlabel('Bp-Rp')\n",
    "\n",
    "#plt.plot(bp_rp[np.argsort(-1*impulse1)[0:10]],abs_mag[np.argsort(-1*impulse1)[0:10]],color='red',linestyle='None',marker='*' ,label='Largest impulses')\n",
    "\n",
    "\n",
    "plt.legend()\n",
    "\n",
    "plt.show()"
   ]
  },
  {
   "cell_type": "code",
   "execution_count": null,
   "id": "36d909f7",
   "metadata": {},
   "outputs": [],
   "source": [
    "fig = plt.figure(figsize=(2,2))\n",
    "plt.figure(figsize=(10, 10))\n",
    "\n",
    "plt.scatter(BD_Bp_Rp,BD_abs_mag, c = BD_vtan_array, vmin = 0, vmax = 50, cmap = 'magma')\n",
    "plt.scatter(bp_rp,abs_mag, s = 1, c = vtan, vmin = 0, vmax = 50, cmap = 'magma')\n",
    "plt.gca().add_patch(Rectangle((4.35,27),1,3,fill=False, color='black', linestyle = 'solid'))\n",
    "plt.annotate(\"J1416AB\", (4.85,26.5), color='black', weight='bold', fontsize=10, ha='center', va='center')\n",
    "cbartitle = plt.colorbar()\n",
    "cbartitle.set_label('Impulse')\n",
    "plt.ylim(30,6)\n",
    "plt.ylabel('Gmag')\n",
    "plt.xlabel('Bp-Rp')\n",
    "\n",
    "#plt.plot(bp_rp[np.argsort(-1*impulse1)[0:10]],abs_mag[np.argsort(-1*impulse1)[0:10]],color='red',linestyle='None',marker='*' ,label='Largest impulses')\n",
    "\n",
    "\n",
    "plt.legend()\n",
    "\n",
    "plt.show()"
   ]
  },
  {
   "cell_type": "code",
   "execution_count": null,
   "id": "c553734a",
   "metadata": {},
   "outputs": [],
   "source": [
    "plt.figure(figsize=(10, 10))\n",
    "\n",
    "plt.plot(BD_Bp_Rp,BD_abs_mag,linestyle='None',marker='.',markersize=3,color='grey')\n",
    "plt.plot(bp_rp,abs_mag,linestyle='None',marker='.',markersize=3,color='grey')\n",
    "plt.ylim(30,6)\n",
    "plt.ylabel('Gmag')\n",
    "plt.xlabel('Bp-Rp')\n",
    "\n",
    "plt.plot(bp_rp[np.argsort(med_d_per)[0:2]],abs_mag[np.argsort(med_d_per)[0:2]],color='red',linestyle='None',marker='*' ,label='Smallest d$_{ph}$')\n",
    "#plt.plot(BD_Bp_Rp,BD_abs_mag,color='black',linestyle='None',marker='*' ,label='Brown dwarf')\n",
    "plt.legend()\n",
    "\n",
    "plt.show()"
   ]
  },
  {
   "cell_type": "code",
   "execution_count": null,
   "id": "cdd94174",
   "metadata": {},
   "outputs": [],
   "source": [
    "source_id[np.argsort(med_d_per)[0:10]]"
   ]
  },
  {
   "cell_type": "code",
   "execution_count": null,
   "id": "ca1c255b",
   "metadata": {},
   "outputs": [],
   "source": [
    "proxima_cen = np.where(source_id==5853498713190525696)\n",
    "proxima_cen"
   ]
  },
  {
   "cell_type": "code",
   "execution_count": null,
   "id": "2a975238",
   "metadata": {},
   "outputs": [],
   "source": [
    "med_d_per[0]"
   ]
  },
  {
   "cell_type": "code",
   "execution_count": null,
   "id": "0bc1a4d9",
   "metadata": {},
   "outputs": [],
   "source": [
    "### 1.234 earth radii == white dwarf radii\n",
    "\n"
   ]
  },
  {
   "cell_type": "code",
   "execution_count": null,
   "id": "b5bdec33",
   "metadata": {
    "scrolled": true
   },
   "outputs": [],
   "source": [
    "max(Mass)"
   ]
  },
  {
   "cell_type": "code",
   "execution_count": null,
   "id": "e7709220",
   "metadata": {
    "tags": []
   },
   "outputs": [],
   "source": [
    "np.sort(Mass)"
   ]
  },
  {
   "cell_type": "markdown",
   "id": "ba1dc1b7",
   "metadata": {
    "jp-MarkdownHeadingCollapsed": true,
    "tags": []
   },
   "source": [
    "# Zeropoint Correction for Brown Dwarf\n",
    "https://www.aanda.org/articles/aa/full_html/2021/05/aa39653-20/aa39653-20.html"
   ]
  },
  {
   "cell_type": "code",
   "execution_count": null,
   "id": "d3c7952f",
   "metadata": {},
   "outputs": [],
   "source": [
    "OGSample = fits.open('/Users/edm/Desktop/Stellar Flybys/Gaia Data/100_parsec_nicer.fits')\n",
    "OGsample_A3 = Table(OGSample[1].data)"
   ]
  },
  {
   "cell_type": "code",
   "execution_count": null,
   "id": "497e064c",
   "metadata": {},
   "outputs": [],
   "source": [
    "OGsample_A3"
   ]
  },
  {
   "cell_type": "code",
   "execution_count": null,
   "id": "a85e57a9",
   "metadata": {},
   "outputs": [],
   "source": [
    "dfg = OGsample_A3.to_pandas()\n",
    "new_rowg = {'source_id':1227133699053734528, 'ra':214.10070487061, 'dec':13.80784459098, 'parallax':107.7375, 'parallax_error':0.2163, 'pmra':86.670, 'pmra_error':0.291, 'pmdec':127.953, 'pmdec_error':0.198, 'phot_bp_mean_mag':21.552280, 'phot_bp_mean_flux_over_error':0.204305, 'phot_rp_mean_mag':16.681887, 'phot_rp_mean_flux_over_error':0.009775, 'radial_velocity':-42.38, 'radial_velocity_error':0.5399999999999991, 'teff_gspphot':np.nan}\n",
    "OGsample_A2 = dfg.append(new_rowg, ignore_index = True)\n",
    "#df2"
   ]
  },
  {
   "cell_type": "code",
   "execution_count": null,
   "id": "86b3e0c5",
   "metadata": {},
   "outputs": [],
   "source": [
    "len(OGsample_A2)"
   ]
  },
  {
   "cell_type": "code",
   "execution_count": null,
   "id": "8c669c02",
   "metadata": {},
   "outputs": [],
   "source": [
    "## pull out variables on interest\n",
    "\n",
    "#radial velocity\n",
    "Rvel = np.asarray(OGsample_A2[\"radial_velocity\"])\n",
    "rv=Rvel\n",
    "\n",
    "rv_e = np.asarray(OGsample_A2[\"radial_velocity_error\"]) \n",
    "\n",
    "\n",
    "# PM RA and Dec\n",
    "PMD = np.asarray(OGsample_A2['pmdec'])\n",
    "PMR = np.asarray(OGsample_A2['pmra'])\n",
    "PMR_e = np.asarray(OGsample_A2['pmra_error'])\n",
    "PMD_e = np.asarray(OGsample_A2['pmdec_error'])\n",
    "\n",
    "#RA and DEc ICRS\n",
    "ra = np.asarray(OGsample_A2['ra'])\n",
    "dec = np.asarray(OGsample_A2['dec'])\n",
    "\n",
    "#parallax\n",
    "plx = np.asarray(OGsample_A2['parallax'])\n",
    "plx_e = np.asarray(OGsample_A2['parallax_error'])\n",
    "\n",
    "#median distanc\n",
    "\n",
    "## read in temperature\n",
    "teff=np.asarray(OGsample_A2['teff_gspphot'])\n",
    "## temperature has no error\n",
    "\n",
    "source_id = np.asarray(OGsample_A2[\"source_id\"])\n",
    "\n",
    "## read in mags\n",
    "phot_bp_mean_mag = np.asarray(OGsample_A2['phot_bp_mean_mag'])\n",
    "phot_bp_mean_mag_err = np.asarray(1/OGsample_A2['phot_bp_mean_flux_over_error']) * phot_bp_mean_mag\n",
    "\n",
    "phot_rp_mean_mag = np.asarray(OGsample_A2['phot_rp_mean_mag'])\n",
    "phot_rp_mean_mag_err = np.asarray(1/OGsample_A2['phot_rp_mean_flux_over_error']) * phot_rp_mean_mag\n",
    "\n",
    "## for zero point \n",
    "ecl_lat = np.asarray(OGsample_A2['ecl_lat'])\n",
    "nu_eff_used_in_astrometry = np.asarray(OGsample_A2['nu_eff_used_in_astrometry'])\n",
    "pseudocolour = np.asarray(OGsample_A2['pseudocolour'])\n",
    "astrometric_params_solved = np.asarray(OGsample_A2['astrometric_params_solved'])"
   ]
  },
  {
   "cell_type": "code",
   "execution_count": null,
   "id": "d61e15c1",
   "metadata": {},
   "outputs": [],
   "source": [
    "med_t_perg = np.mean(t_per,axis=1)/10**6\n",
    "med_d_perg = np.mean(d_per,axis=1)\n",
    "med_v_perg = np.mean(vtot_array,axis=1)"
   ]
  },
  {
   "cell_type": "code",
   "execution_count": null,
   "id": "66b55577",
   "metadata": {},
   "outputs": [],
   "source": [
    "plt.scatter(med_t_perg,med_d_perg, s = 10)\n",
    "xmin, xmax = plt.xlim(-15,15)\n",
    "ymin, ymax = plt.ylim(0,5)"
   ]
  },
  {
   "cell_type": "code",
   "execution_count": null,
   "id": "f16566a9",
   "metadata": {},
   "outputs": [],
   "source": [
    "table = df_zp.loc[np.argsort(med_d_perg)[0:10]]"
   ]
  },
  {
   "cell_type": "code",
   "execution_count": null,
   "id": "d7829506",
   "metadata": {},
   "outputs": [],
   "source": [
    "#table = OGsample_A3_zp[np.argsort(med_d_perg)[0:10]]"
   ]
  },
  {
   "cell_type": "code",
   "execution_count": null,
   "id": "0736bc4e",
   "metadata": {},
   "outputs": [],
   "source": [
    "df_zp = OGsample_A3_zp.to_pandas()"
   ]
  },
  {
   "cell_type": "code",
   "execution_count": null,
   "id": "148082bc",
   "metadata": {},
   "outputs": [],
   "source": [
    "df_zp"
   ]
  },
  {
   "cell_type": "code",
   "execution_count": null,
   "id": "ab50d08a",
   "metadata": {},
   "outputs": [],
   "source": [
    "with open('mytable.tex','w') as tf:\n",
    "    tf.write(table.to_latex())"
   ]
  },
  {
   "cell_type": "code",
   "execution_count": null,
   "id": "0797aeeb",
   "metadata": {},
   "outputs": [],
   "source": [
    "OGSample_zp = fits.open('/Users/edm/Desktop/Stellar Flybys/Gaia Data/100_parsec_nicer_zp.fits')\n",
    "OGsample_A3_zp = Table(OGSample_zp[1].data)"
   ]
  },
  {
   "cell_type": "code",
   "execution_count": null,
   "id": "c25dd170",
   "metadata": {},
   "outputs": [],
   "source": [
    "nu_eff_used_in_astrometry[np.argsort(med_d_perg)[0:10]]"
   ]
  },
  {
   "cell_type": "code",
   "execution_count": null,
   "id": "7570ff4b",
   "metadata": {},
   "outputs": [],
   "source": [
    "zpt.get_zpt(phot_g_mean_mag[np.argsort(med_d_perg)[0:10]], nu_eff_used_in_astrometry[np.argsort(med_d_perg)[0:10]], pseudocolour[np.argsort(med_d_perg)[0:10]], ecl_lat[np.argsort(med_d_perg)[0:10]], astrometric_params_solved[np.argsort(med_d_perg)[0:10]])"
   ]
  },
  {
   "cell_type": "code",
   "execution_count": null,
   "id": "c36ab2fb",
   "metadata": {},
   "outputs": [],
   "source": [
    "# zero point correction is needed \n",
    "zpt.get_zpt(18.353840, 0, 0.8884, 25.8197157829, 95)"
   ]
  },
  {
   "cell_type": "code",
   "execution_count": null,
   "id": "54dc8fe0",
   "metadata": {},
   "outputs": [],
   "source": [
    "len(phot_g_mean_mag)"
   ]
  },
  {
   "cell_type": "code",
   "execution_count": null,
   "id": "7ae5a685",
   "metadata": {},
   "outputs": [],
   "source": [
    "len(ecl_lat)"
   ]
  },
  {
   "cell_type": "markdown",
   "id": "ab7270dd",
   "metadata": {},
   "source": [
    "# Final Data for Brown Dwarf (Before Orbit Integration)"
   ]
  },
  {
   "cell_type": "code",
   "execution_count": null,
   "id": "9af970be",
   "metadata": {
    "scrolled": true
   },
   "outputs": [],
   "source": [
    "low_err[167020]"
   ]
  },
  {
   "cell_type": "code",
   "execution_count": null,
   "id": "92d70f43",
   "metadata": {},
   "outputs": [],
   "source": [
    "rv[167020]"
   ]
  },
  {
   "cell_type": "code",
   "execution_count": null,
   "id": "169859af",
   "metadata": {},
   "outputs": [],
   "source": [
    "import numpy as np\n",
    "from astropy.io import ascii\n",
    "from astropy.table import Table"
   ]
  },
  {
   "cell_type": "code",
   "execution_count": null,
   "id": "e81b1158",
   "metadata": {},
   "outputs": [],
   "source": [
    "name = ['J1416AB']\n",
    "med_t = [0.20890929754426027]\n",
    "h = [0.21314730322781955]\n",
    "l = [0.20492157901324234]\n",
    "med_d = [1.4713661769441306]\n",
    "hd = [1.503582411696425]\n",
    "ld = [1.4401609092117487]\n",
    "parallax = [107.7375]\n",
    "parallax_off = [-0.045357]\n",
    "radial = [rv[167020]]\n",
    "t = Table([name,h,med_t,l,hd,med_d,ld,parallax,parallax_off,radial], names=('Source', '$t_{.95}$','$t^{med}_{ph}$','$t_.05$','$d_.95$','$d^{med}_{ph}$','$d_{.05}$','$Parallax$','$Parallax_{off}$', '$V_r$'), meta={'name': 'first table'})\n"
   ]
  },
  {
   "cell_type": "code",
   "execution_count": null,
   "id": "cc39cf64",
   "metadata": {
    "scrolled": true
   },
   "outputs": [],
   "source": [
    "t "
   ]
  },
  {
   "cell_type": "code",
   "execution_count": null,
   "id": "b6e50401",
   "metadata": {},
   "outputs": [],
   "source": [
    "t['$t_{.95}$'].unit = '$myr^{-1}$'\n",
    "t['$t_.05$'].unit = '$myr^{-1}$'\n",
    "t['$t^{med}_{ph}$'].unit = '$myr^{-1}$'\n",
    "\n",
    "t['$d_.95$'].unit = '$pc$'\n",
    "t['$d_{.05}$'].unit = '$pc$'\n",
    "t['$d^{med}_{ph}$'].unit = '$pc$'\n",
    "\n",
    "t['$Parallax$'].unit = 'mas'\n",
    "\n",
    "t['$V_r$'].unit = '$km/s$'"
   ]
  },
  {
   "cell_type": "code",
   "execution_count": null,
   "id": "2822dc78",
   "metadata": {},
   "outputs": [],
   "source": [
    "t"
   ]
  },
  {
   "cell_type": "code",
   "execution_count": null,
   "id": "b4d87bc0",
   "metadata": {},
   "outputs": [],
   "source": [
    "#t['a'] = [1, 2, 3, 4]\n",
    "#>>> t['b'] = ['a', 'b', 'c', 'd']\n",
    "#d = {'col1': [1, 2], 'col2': [3, 4]}\n",
    "t2 = {'name2' : source_id[np.argsort(med_d_per)[0:10]], 'med_t2' : [med_t_per[np.argsort(med_d_per)[0:10]]]}"
   ]
  },
  {
   "cell_type": "code",
   "execution_count": null,
   "id": "8671e564",
   "metadata": {},
   "outputs": [],
   "source": [
    "#df2 = pd.DataFrame(np.array([[1, 2, 3], [4, 5, 6], [7, 8, 9]]),\n",
    "                   #columns=['a', 'b', 'c'])"
   ]
  },
  {
   "cell_type": "code",
   "execution_count": null,
   "id": "ccd8905f",
   "metadata": {},
   "outputs": [],
   "source": [
    "#pd.set_option('display.float_format', lambda x: '%.5f' % x)\n",
    "source10 = source_id[np.argsort(med_d_per)[0:10]].astype('int')\n",
    "t10 = med_t_per[np.argsort(med_d_per)[0:10]]\n",
    "th10 = th_err[np.argsort(med_d_per)[0:10]]/10**6\n",
    "tl10 = tl_err[np.argsort(med_d_per)[0:10]]/10**6\n",
    "d10 = med_d_per[np.argsort(med_d_per)[0:10]]\n",
    "hd10 = high_err[np.argsort(med_d_per)[0:10]]\n",
    "ld10 = low_err[np.argsort(med_d_per)[0:10]]\n",
    "plx10 = plx[np.argsort(med_d_per)[0:10]]\n",
    "rv10 = rv[np.argsort(med_d_per)[0:10]]"
   ]
  },
  {
   "cell_type": "code",
   "execution_count": null,
   "id": "503c35b3",
   "metadata": {},
   "outputs": [],
   "source": [
    "plx[np.argsort(med_d_per)[0:10]]"
   ]
  },
  {
   "cell_type": "code",
   "execution_count": null,
   "id": "0544f7a0",
   "metadata": {
    "scrolled": true
   },
   "outputs": [],
   "source": [
    "source10"
   ]
  },
  {
   "cell_type": "code",
   "execution_count": null,
   "id": "ef6e0959",
   "metadata": {},
   "outputs": [],
   "source": [
    "g = np.vstack((source10.astype('int'), t10, th10, tl10, d10, hd10, ld10, plx10, rv10)).T"
   ]
  },
  {
   "cell_type": "code",
   "execution_count": null,
   "id": "9b4aee00",
   "metadata": {},
   "outputs": [],
   "source": [
    "df67 = pd.DataFrame(g, columns=['SourceID', '$t_{.95}$','$t^{med}_{ph}$','$t_.05$','$d_.95$','$d^{med}_{ph}$','$d_{.05}$','Parallax', '$V_r$'])\n"
   ]
  },
  {
   "cell_type": "code",
   "execution_count": null,
   "id": "a86b197c",
   "metadata": {
    "scrolled": true
   },
   "outputs": [],
   "source": [
    "df67"
   ]
  },
  {
   "cell_type": "code",
   "execution_count": null,
   "id": "9c940b6d",
   "metadata": {},
   "outputs": [],
   "source": [
    "GSample_A2.columns"
   ]
  },
  {
   "cell_type": "code",
   "execution_count": null,
   "id": "f34bb5d8",
   "metadata": {},
   "outputs": [],
   "source": [
    "short_table = GSample_A2.loc[[0,2,3,4,5,6,7,9,10,11,12], [\"SOURCE_ID_1\", \"RA_1\", \"DEC_1\", 'PARALLAX_1', 'PARALLAX_ERROR_1', 'ADOPTEDRV', 'ADOPTEDRV_ERROR', 'PHOT_BP_MEAN_MAG_1', 'PHOT_BP_MEAN_FLUX_OVER_ERROR_1',\n",
    "       'PHOT_RP_MEAN_MAG_1', 'PHOT_RP_MEAN_FLUX_OVER_ERROR_1']]"
   ]
  },
  {
   "cell_type": "code",
   "execution_count": null,
   "id": "8ca5c7ae",
   "metadata": {},
   "outputs": [],
   "source": [
    "short_table['SOURCE_ID_1'].astype(int)"
   ]
  },
  {
   "cell_type": "code",
   "execution_count": null,
   "id": "16d7e009",
   "metadata": {},
   "outputs": [],
   "source": [
    "short_table2 = short_table.convert_dtypes(infer_objects=False, convert_string=False, convert_integer=True, convert_boolean=False, convert_floating=False)"
   ]
  },
  {
   "cell_type": "code",
   "execution_count": null,
   "id": "9c5a83e7",
   "metadata": {
    "scrolled": true
   },
   "outputs": [],
   "source": [
    " TableGaia = Table.from_pandas(short_table2.round(2))"
   ]
  },
  {
   "cell_type": "code",
   "execution_count": null,
   "id": "42155af0",
   "metadata": {},
   "outputs": [],
   "source": [
    "TableGaia"
   ]
  },
  {
   "cell_type": "code",
   "execution_count": null,
   "id": "ee66d1db",
   "metadata": {},
   "outputs": [],
   "source": [
    "ascii.write(TableGaia, format='latex')  "
   ]
  },
  {
   "cell_type": "code",
   "execution_count": null,
   "id": "c7c7dd4d",
   "metadata": {},
   "outputs": [],
   "source": [
    "go = np.vstack((source10.astype('int'), rv10, plx10, plx_e, PMDa, PMD_ea, PMRa, PMD_ea, dec_a, ra_a)).T"
   ]
  },
  {
   "cell_type": "code",
   "execution_count": null,
   "id": "14726489",
   "metadata": {},
   "outputs": [],
   "source": [
    "df67 = pd.DataFrame(go, columns=['SourceID', '$V_r$', 'Parallax', 'Parallax error', 'Proper Motion Dec', 'Proper Motion Dec Error','Proper Motion RA','Proper Motion RA Error', 'Dec', 'RA'])\n",
    "\n"
   ]
  },
  {
   "cell_type": "code",
   "execution_count": null,
   "id": "7d3a34ca",
   "metadata": {
    "scrolled": true
   },
   "outputs": [],
   "source": [
    "df68 = df67.convert_dtypes(infer_objects=False, convert_string=False, convert_integer=True, convert_boolean=False, convert_floating=False)"
   ]
  },
  {
   "cell_type": "code",
   "execution_count": null,
   "id": "83d60c3e",
   "metadata": {},
   "outputs": [],
   "source": [
    "df68"
   ]
  },
  {
   "cell_type": "code",
   "execution_count": null,
   "id": "b4063914",
   "metadata": {},
   "outputs": [],
   "source": [
    "table34 = Table.from_pandas(df68)"
   ]
  },
  {
   "cell_type": "code",
   "execution_count": null,
   "id": "6d1c5b79",
   "metadata": {
    "scrolled": true
   },
   "outputs": [],
   "source": [
    "df68['SourceID'].astype('int')"
   ]
  },
  {
   "cell_type": "code",
   "execution_count": null,
   "id": "c22192d0",
   "metadata": {},
   "outputs": [],
   "source": [
    "table34\n",
    "\n",
    "table34['$t_{.95}$'].unit = '$myr^{-1}$'\n",
    "table34['$t^{med}_{ph}$'].unit = '$myr^{-1}$'\n",
    "table34['$t_.05$'].unit = '$myr^{-1}$'\n",
    "\n",
    "table34['$d_.95$'].unit = '$pc$'\n",
    "table34['$d^{med}_{ph}$'].unit = '$pc$'\n",
    "table34['$d_{.05}$'].unit = '$pc$'\n",
    "\n",
    "table34['Parallax'].unit = 'mas'\n",
    "\n",
    "table34['$V_r$'].unit = '$km/s$'"
   ]
  },
  {
   "cell_type": "code",
   "execution_count": null,
   "id": "339c1735",
   "metadata": {},
   "outputs": [],
   "source": [
    "table34.round(2)"
   ]
  },
  {
   "cell_type": "code",
   "execution_count": null,
   "id": "c34642e9",
   "metadata": {},
   "outputs": [],
   "source": []
  },
  {
   "cell_type": "code",
   "execution_count": null,
   "id": "5e8b5472",
   "metadata": {},
   "outputs": [],
   "source": []
  },
  {
   "cell_type": "code",
   "execution_count": null,
   "id": "1038e74b",
   "metadata": {},
   "outputs": [],
   "source": [
    "ascii.write(table34, format='latex')  "
   ]
  },
  {
   "cell_type": "code",
   "execution_count": null,
   "id": "ce205f59",
   "metadata": {},
   "outputs": [],
   "source": [
    "[med_t_per[np.argsort(med_d_per)[0:10]]]"
   ]
  },
  {
   "cell_type": "code",
   "execution_count": null,
   "id": "c0634820",
   "metadata": {},
   "outputs": [],
   "source": [
    "t2 as pandas\n",
    "with open('mytable2.tex','w') as tf:\n",
    "    tf.write(t2.to_latex())"
   ]
  },
  {
   "cell_type": "code",
   "execution_count": null,
   "id": "bec32d4b",
   "metadata": {},
   "outputs": [],
   "source": [
    "#np.seterr(divide='ignore')\n",
    "#mask = (t2['$d^{med}_{ph}$'] < 1) % (t2['$d^{med}_{ph}$'] < 0)  # Table rows where column a > 4\n",
    "#t2[mask]  \n"
   ]
  },
  {
   "cell_type": "code",
   "execution_count": null,
   "id": "bd2adc20",
   "metadata": {},
   "outputs": [],
   "source": [
    "#pd.set_option('display.float_format', lambda x: '%.5f' % x)\n",
    "source10bd = source_idbd[np.argsort(med_d_perbd)[0:10]]\n",
    "t10bd = med_t_perbd[np.argsort(med_d_perbd)[0:10]]\n",
    "th10bd = th_errbd[np.argsort(med_d_perbd)[0:10]]/10**6\n",
    "tl10bd = tl_errbd[np.argsort(med_d_perbd)[0:10]]/10**6\n",
    "d10bd = med_d_perbd[np.argsort(med_d_perbd)[0:10]]\n",
    "hd10bd = high_errbd[np.argsort(med_d_perbd)[0:10]]\n",
    "ld10bd = low_errbd[np.argsort(med_d_perbd)[0:10]]\n",
    "plx10bd = plxbd[np.argsort(med_d_perbd)[0:10]]\n",
    "rv10bd = rvbd[np.argsort(med_d_perbd)[0:10]]"
   ]
  },
  {
   "cell_type": "code",
   "execution_count": null,
   "id": "ec3f0af0",
   "metadata": {},
   "outputs": [],
   "source": [
    "gbd = np.vstack((source10bd, t10bd, th10bd, tl10bd, d10bd, hd10bd, ld10bd, plx10bd, rv10bd)).T"
   ]
  },
  {
   "cell_type": "code",
   "execution_count": null,
   "id": "f0d9539c",
   "metadata": {},
   "outputs": [],
   "source": [
    "df67bd = pd.DataFrame(gbd, columns=['SourceID', '$t_{.95}$','$t^{med}_{ph}$','$t_.05$','$d_.95$','$d^{med}_{ph}$','$d_{.05}$','Parallax', '$V_r$'])"
   ]
  },
  {
   "cell_type": "code",
   "execution_count": null,
   "id": "9a0c924b",
   "metadata": {},
   "outputs": [],
   "source": [
    "df68bd = df67bd.convert_dtypes(infer_objects=False, convert_string=False, convert_integer=True, convert_boolean=False, convert_floating=False)"
   ]
  },
  {
   "cell_type": "code",
   "execution_count": null,
   "id": "ebca29a0",
   "metadata": {},
   "outputs": [],
   "source": [
    "df69bd = df68bd"
   ]
  },
  {
   "cell_type": "code",
   "execution_count": null,
   "id": "005ff465",
   "metadata": {
    "scrolled": true
   },
   "outputs": [],
   "source": [
    "df69bd"
   ]
  },
  {
   "cell_type": "code",
   "execution_count": null,
   "id": "8ebd4e1a",
   "metadata": {
    "scrolled": true
   },
   "outputs": [],
   "source": [
    "J0720-0846"
   ]
  },
  {
   "cell_type": "code",
   "execution_count": null,
   "id": "1abb9e15",
   "metadata": {},
   "outputs": [],
   "source": [
    "df69bd.astype('float')"
   ]
  },
  {
   "cell_type": "code",
   "execution_count": null,
   "id": "07596508",
   "metadata": {},
   "outputs": [],
   "source": [
    "table36 = Table.from_pandas(df68bd)"
   ]
  },
  {
   "cell_type": "code",
   "execution_count": null,
   "id": "55ad2096",
   "metadata": {},
   "outputs": [],
   "source": [
    "table36['$t_{.95}$'].unit = '$myr^{-1}$'\n",
    "table36['$t^{med}_{ph}$'].unit = '$myr^{-1}$'\n",
    "table36['$t_.05$'].unit = '$myr^{-1}$'\n",
    "\n",
    "table36['$d_.95$'].unit = '$pc$'\n",
    "table36['$d^{med}_{ph}$'].unit = '$pc$'\n",
    "table36['$d_{.05}$'].unit = '$pc$'\n",
    "\n",
    "table36['Parallax'].unit = 'mas'\n",
    "\n",
    "table36['$V_r$'].unit = '$km/s$'"
   ]
  },
  {
   "cell_type": "code",
   "execution_count": null,
   "id": "98048850",
   "metadata": {},
   "outputs": [],
   "source": [
    "df68bd = df68bd.apply(pd.to_numeric, errors='ignore', downcast='float')"
   ]
  },
  {
   "cell_type": "code",
   "execution_count": null,
   "id": "a7bf70c9",
   "metadata": {},
   "outputs": [],
   "source": [
    "table36"
   ]
  },
  {
   "cell_type": "code",
   "execution_count": null,
   "id": "fc7e0597",
   "metadata": {},
   "outputs": [],
   "source": [
    "table36.round(2)"
   ]
  },
  {
   "cell_type": "code",
   "execution_count": null,
   "id": "b563f674",
   "metadata": {
    "scrolled": true
   },
   "outputs": [],
   "source": [
    "ascii.write(table36, format='latex')  "
   ]
  },
  {
   "cell_type": "markdown",
   "id": "305e8591",
   "metadata": {
    "jp-MarkdownHeadingCollapsed": true,
    "tags": []
   },
   "source": [
    "# Orbit Integration (Galpy)"
   ]
  },
  {
   "cell_type": "code",
   "execution_count": null,
   "id": "1c6f7750",
   "metadata": {
    "scrolled": true
   },
   "outputs": [],
   "source": [
    "from galpy.orbit import Orbit\n",
    "from galpy.util.coords import rect_to_cyl"
   ]
  },
  {
   "cell_type": "code",
   "execution_count": null,
   "id": "417522be",
   "metadata": {},
   "outputs": [],
   "source": [
    "#test with proxima centauri"
   ]
  },
  {
   "cell_type": "code",
   "execution_count": null,
   "id": "45124a85",
   "metadata": {
    "scrolled": true
   },
   "outputs": [],
   "source": [
    "x[1561]"
   ]
  },
  {
   "cell_type": "code",
   "execution_count": null,
   "id": "9409dbda",
   "metadata": {},
   "outputs": [],
   "source": [
    "y[1561]"
   ]
  },
  {
   "cell_type": "code",
   "execution_count": null,
   "id": "dc34651c",
   "metadata": {},
   "outputs": [],
   "source": [
    "z[1561]"
   ]
  },
  {
   "cell_type": "code",
   "execution_count": null,
   "id": "0a9a4cda",
   "metadata": {},
   "outputs": [],
   "source": [
    "plx[1561]"
   ]
  },
  {
   "cell_type": "code",
   "execution_count": null,
   "id": "3734b587",
   "metadata": {},
   "outputs": [],
   "source": [
    "1/plx[1561]"
   ]
  },
  {
   "cell_type": "code",
   "execution_count": null,
   "id": "7b31378e",
   "metadata": {},
   "outputs": [],
   "source": [
    "PMR[1561]"
   ]
  },
  {
   "cell_type": "code",
   "execution_count": null,
   "id": "a1317393",
   "metadata": {
    "scrolled": true
   },
   "outputs": [],
   "source": [
    "PMD[1561]"
   ]
  },
  {
   "cell_type": "code",
   "execution_count": null,
   "id": "8175bc6c",
   "metadata": {},
   "outputs": [],
   "source": [
    "rv[1561]"
   ]
  },
  {
   "cell_type": "code",
   "execution_count": null,
   "id": "8a7e5c2e",
   "metadata": {},
   "outputs": [],
   "source": [
    "from astropy import units\n",
    "op= Orbit([8.*units.kpc,22.*units.km/units.s,242*units.km/units.s,0.*units.kpc,22.*units.km/units.s,0.*units.deg])"
   ]
  },
  {
   "cell_type": "code",
   "execution_count": null,
   "id": "7ac9fbdc",
   "metadata": {},
   "outputs": [],
   "source": [
    "med_t_per[1561]"
   ]
  },
  {
   "cell_type": "code",
   "execution_count": null,
   "id": "83727594",
   "metadata": {},
   "outputs": [],
   "source": [
    "from astropy.coordinates import SkyCoord\n",
    "import astropy.units as u\n",
    "#c= SkyCoord(ra=274.96183629691126*u.deg,dec=-1.938612759804832*u.deg,distance=.01908531993221894*u.pc,\n",
    "                #pm_ra_cosdec=-0.4140637404226508*u.mas/u.yr,pm_dec=-0.10847507667730025*u.mas/u.yr,\n",
    "                #radial_velocity=-14.419984817504883*u.km/u.s)\n",
    "c= SkyCoord(ra=274.96183629691126*u.deg,dec=-1.938612759804832*u.deg,distance=.01908531993221894*u.pc,\n",
    "                pm_ra_cosdec=-0.4140637404226508*u.mas/u.yr,pm_dec=-0.10847507667730025*u.mas/u.yr,\n",
    "                radial_velocity=-14.419984817504883*u.km/u.s,\n",
    "                galcen_distance=8.*u.kpc,z_sun=15.*u.pc,\n",
    "                galcen_v_sun=CartesianDifferential([10.0,235.,7.]*u.km/u.s))\n",
    "o= Orbit(c)"
   ]
  },
  {
   "cell_type": "code",
   "execution_count": null,
   "id": "7798604e",
   "metadata": {},
   "outputs": [],
   "source": [
    "import galpy.potential as galpy_p\n",
    "mp = galpy_p.MiyamotoNagaiPotential(a=0.5, b=0.0375, amp=1., normalize=1.)"
   ]
  },
  {
   "cell_type": "code",
   "execution_count": null,
   "id": "eaa23d3e",
   "metadata": {},
   "outputs": [],
   "source": [
    "#from galpy.potential import MWPotential2014\n",
    "ts= np.linspace(0,2*1.2935375339313313*u.Myr,1000)\n",
    "o.integrate(ts,mp, method = 'rk6_c')"
   ]
  },
  {
   "cell_type": "code",
   "execution_count": null,
   "id": "6e67be63",
   "metadata": {
    "scrolled": true
   },
   "outputs": [],
   "source": [
    "o.plot3d(alpha=0.4)"
   ]
  },
  {
   "cell_type": "code",
   "execution_count": null,
   "id": "30286109",
   "metadata": {},
   "outputs": [],
   "source": [
    "ts[86]"
   ]
  },
  {
   "cell_type": "code",
   "execution_count": null,
   "id": "87e25b46",
   "metadata": {},
   "outputs": [],
   "source": [
    "ts"
   ]
  },
  {
   "cell_type": "code",
   "execution_count": null,
   "id": "389775eb",
   "metadata": {},
   "outputs": [],
   "source": [
    "x = o.helioX(ts)\n",
    "y = o.helioY(ts)\n",
    "z = o.helioZ(ts)"
   ]
  },
  {
   "cell_type": "code",
   "execution_count": null,
   "id": "ca59e33c",
   "metadata": {},
   "outputs": [],
   "source": [
    "x"
   ]
  },
  {
   "cell_type": "code",
   "execution_count": null,
   "id": "f1f87a6a",
   "metadata": {},
   "outputs": [],
   "source": [
    "import numpy as np\n",
    "def find_nearest(array, value):\n",
    "    array = np.asarray(array)\n",
    "    idx = (np.abs(array - value)).argmin()\n",
    "    return array[idx]"
   ]
  },
  {
   "cell_type": "code",
   "execution_count": null,
   "id": "098ad469",
   "metadata": {},
   "outputs": [],
   "source": [
    "find_nearest(x, 0.051381659297203425)"
   ]
  },
  {
   "cell_type": "code",
   "execution_count": null,
   "id": "d9074292",
   "metadata": {},
   "outputs": [],
   "source": [
    "np.where(x == 0.05141053157092192)"
   ]
  },
  {
   "cell_type": "code",
   "execution_count": null,
   "id": "f8f3ba5d",
   "metadata": {},
   "outputs": [],
   "source": [
    "(-0.05141053157092192 + 0.05137187753532431)/0.05141053157092192\n"
   ]
  },
  {
   "cell_type": "code",
   "execution_count": null,
   "id": "61d4a99a",
   "metadata": {
    "scrolled": true
   },
   "outputs": [],
   "source": [
    "x = o.dist(ts)\n",
    "p = o.phi(ts)\n",
    "r = o.r(ts)\n",
    "v = o.V(ts)"
   ]
  },
  {
   "cell_type": "code",
   "execution_count": null,
   "id": "ad6d7620",
   "metadata": {},
   "outputs": [],
   "source": [
    "#o= Orbit.from_name('Omega Cen')\n",
    "from galpy.potential import MWPotential2014\n",
    "o.plot()\n",
    "o.plot([o.R()],[o.z()],'ro')"
   ]
  },
  {
   "cell_type": "code",
   "execution_count": null,
   "id": "80a9f792",
   "metadata": {},
   "outputs": [],
   "source": [
    "from astropy.coordinates import CartesianDifferential\n",
    "cs = rect_to_cyl(-8.122, 0, 0.020800000000000003)\n",
    "os= Orbit(cs)"
   ]
  },
  {
   "cell_type": "code",
   "execution_count": null,
   "id": "d2a7ae92",
   "metadata": {
    "scrolled": true
   },
   "outputs": [],
   "source": [
    "os.integrate(ts,mp, method = 'rk6_c')"
   ]
  },
  {
   "cell_type": "code",
   "execution_count": null,
   "id": "a31878a2",
   "metadata": {},
   "outputs": [],
   "source": [
    "os.plot3d(alpha=0.4)"
   ]
  },
  {
   "cell_type": "code",
   "execution_count": null,
   "id": "b43f7500",
   "metadata": {},
   "outputs": [],
   "source": [
    "c"
   ]
  },
  {
   "cell_type": "code",
   "execution_count": null,
   "id": "963b1dcd",
   "metadata": {},
   "outputs": [],
   "source": [
    "os.integrate(ts,mp, method = 'rk6_c')"
   ]
  },
  {
   "cell_type": "code",
   "execution_count": null,
   "id": "f10fc843",
   "metadata": {},
   "outputs": [],
   "source": [
    "from astropy.coordinates import CartesianDifferential\n",
    "c = rect_to_cyl(16.819979068568596, 8.786106119682833, 2.0382015069559283)\n",
    "o= Orbit(c)"
   ]
  },
  {
   "cell_type": "code",
   "execution_count": null,
   "id": "e8222fd4",
   "metadata": {},
   "outputs": [],
   "source": [
    "o.integrate(ts,mp, method = 'rk6_c')"
   ]
  },
  {
   "cell_type": "code",
   "execution_count": null,
   "id": "d1699281",
   "metadata": {},
   "outputs": [],
   "source": [
    "o.plot3d(alpha=0.4)"
   ]
  },
  {
   "cell_type": "code",
   "execution_count": null,
   "id": "9afd50ea",
   "metadata": {},
   "outputs": [],
   "source": [
    "plt.scatter(ts, dist_tot)"
   ]
  },
  {
   "cell_type": "code",
   "execution_count": null,
   "id": "d8740097",
   "metadata": {},
   "outputs": [],
   "source": [
    "xs = np.asarray(os.helioX(ts))\n",
    "ys = np.asarray(os.helioY(ts))\n",
    "zs = np.asarray(os.helioZ(ts))"
   ]
  },
  {
   "cell_type": "code",
   "execution_count": null,
   "id": "bd2f8783",
   "metadata": {},
   "outputs": [],
   "source": [
    "x = np.asarray(o.helioX(ts))\n",
    "y = np.asarray(o.helioY(ts))\n",
    "z = np.asarray(o.helioZ(ts))"
   ]
  },
  {
   "cell_type": "code",
   "execution_count": null,
   "id": "10f83b53",
   "metadata": {},
   "outputs": [],
   "source": [
    "Dist_x = (xs - x)**2 \n",
    "Dist_y = (ys - y)**2 \n",
    "Dist_z = (zs - z)**2"
   ]
  },
  {
   "cell_type": "code",
   "execution_count": null,
   "id": "8947ce96",
   "metadata": {},
   "outputs": [],
   "source": [
    "dist_tot = ((xs - x)**2 + (ys - y)**2 + (zs - z)**2)**.5"
   ]
  },
  {
   "cell_type": "code",
   "execution_count": null,
   "id": "0393f916",
   "metadata": {},
   "outputs": [],
   "source": [
    "min(dist_tot)"
   ]
  },
  {
   "cell_type": "code",
   "execution_count": null,
   "id": "09a75b2c",
   "metadata": {},
   "outputs": [],
   "source": [
    "ax = plt.axes(projection='3d')\n",
    "\n",
    "# Data for a three-dimensional line\n",
    "ax.plot3D(Dist_x, Dist_y, Dist_z, 'red')"
   ]
  },
  {
   "cell_type": "code",
   "execution_count": null,
   "id": "03b8f90c",
   "metadata": {},
   "outputs": [],
   "source": [
    "plt.scatter(ts, dist_tot)"
   ]
  },
  {
   "cell_type": "code",
   "execution_count": null,
   "id": "370bc85f",
   "metadata": {},
   "outputs": [],
   "source": [
    "plt.scatter(ts,xs, label = 'sun')\n",
    "plt.scatter(ts,x, label = 'gliese 710')\n",
    "plt.xlabel('Time')\n",
    "plt.ylabel('Distance')\n",
    "plt.legend()"
   ]
  },
  {
   "cell_type": "code",
   "execution_count": null,
   "id": "a43cbc73",
   "metadata": {},
   "outputs": [],
   "source": []
  },
  {
   "cell_type": "code",
   "execution_count": null,
   "id": "726daca2",
   "metadata": {},
   "outputs": [],
   "source": [
    "]\\[poiuytrew\\=]-[0p7654321q`=-09]"
   ]
  },
  {
   "cell_type": "code",
   "execution_count": null,
   "id": "da6d9b7d",
   "metadata": {},
   "outputs": [],
   "source": []
  },
  {
   "cell_type": "code",
   "execution_count": null,
   "id": "c46c48be",
   "metadata": {},
   "outputs": [],
   "source": [
    "o.V(ts)"
   ]
  },
  {
   "cell_type": "code",
   "execution_count": null,
   "id": "23ba0e9c",
   "metadata": {},
   "outputs": [],
   "source": [
    "#172 = index of time step where distance equals perihelion (as close as possible)"
   ]
  },
  {
   "cell_type": "code",
   "execution_count": null,
   "id": "730ed5b3",
   "metadata": {},
   "outputs": [],
   "source": [
    "med_d_per[1561]"
   ]
  },
  {
   "cell_type": "markdown",
   "id": "7b5f72ac",
   "metadata": {
    "jp-MarkdownHeadingCollapsed": true,
    "tags": []
   },
   "source": [
    "# Gala Orbit"
   ]
  },
  {
   "cell_type": "code",
   "execution_count": null,
   "id": "6785bc31",
   "metadata": {},
   "outputs": [],
   "source": [
    "import astropy.coordinates as coord\n",
    "import astropy.units as u\n",
    "import numpy as np\n",
    "import matplotlib.pyplot as plt\n",
    "from astropy.coordinates import ICRS\n",
    "import astropy.coordinates as apycord\n",
    "\n",
    "from mpl_toolkits.mplot3d import Axes3D\n",
    "from pyia import GaiaData\n",
    "\n",
    "# Gala\n",
    "import gala.dynamics as gd\n",
    "import gala.potential as gp\n",
    "%matplotlib widget\n",
    "from startup import *\n",
    "import gala.integrate as gi"
   ]
  },
  {
   "cell_type": "code",
   "execution_count": null,
   "id": "3facf22f",
   "metadata": {},
   "outputs": [],
   "source": [
    "with coord.galactocentric_frame_defaults.set(\"v4.0\"):\n",
    "    galcen_frame = coord.Galactocentric()\n",
    "\n",
    "sun_xyz = u.Quantity(\n",
    "    [-8.122*u.kpc, 0 * u.kpc, galcen_frame.z_sun]  # x,y,z\n",
    ")\n",
    "sun_vxyz = galcen_frame.galcen_v_sun\n",
    "sun_vxyz\n",
    "\n",
    "sun_w0 = gd.PhaseSpacePosition(pos=sun_xyz, vel=sun_vxyz)\n",
    "print(sun_w0)"
   ]
  },
  {
   "cell_type": "code",
   "execution_count": null,
   "id": "fb3491f3",
   "metadata": {},
   "outputs": [],
   "source": [
    "mw_potential = gp.MilkyWayPotential()\n",
    "mw_potential\n",
    "for k, pot in mw_potential.items():\n",
    "    print(f\"{k}: {pot!r}\")"
   ]
  },
  {
   "cell_type": "code",
   "execution_count": null,
   "id": "0860a7e2",
   "metadata": {},
   "outputs": [],
   "source": [
    "sun_orbit = mw_potential.integrate_orbit(sun_w0, dt=0.5 * u.Myr, t1=0, t2=.0012950865659592086 * u.Gyr,Integrator=gi.DOPRI853Integrator, nsteps = 1000)\n",
    "fig, ax = sun_orbit.plot_3d()\n",
    "\n",
    "lim = (-12, 12)\n",
    "ax.set(xlim=lim, ylim=lim, zlim=lim)"
   ]
  },
  {
   "cell_type": "code",
   "execution_count": null,
   "id": "dff5d13a",
   "metadata": {},
   "outputs": [],
   "source": [
    "plt.scatter(ts, sun_orbit)"
   ]
  },
  {
   "cell_type": "code",
   "execution_count": null,
   "id": "55e7aff6",
   "metadata": {},
   "outputs": [],
   "source": [
    "BG_ra = 274.96183629691126 ; BG_dec = -1.938612759804832; BG_dist = .0001908531993221894\n",
    "pmra_BG = -0.4140637404226508 ; pmdec_BG = -0.10847507667730025\n",
    "rv_BG = -14.419984817504883"
   ]
  },
  {
   "cell_type": "code",
   "execution_count": null,
   "id": "e3b8ed74",
   "metadata": {},
   "outputs": [],
   "source": [
    "# --- ok lets now compute some velocities with EDR3 data! We start by making a defintion to do this.\n",
    "def compute_vels(ra, dec, pmra, pmdec, rv, dist, V0=[11.1, 12.24+235, 7.25], R0=8.122):\n",
    "    # define an ICRS coord for each star\n",
    "    icrs = ICRS(\n",
    "        ra=ra * u.deg,\n",
    "        dec=dec * u.deg,\n",
    "        distance=dist * u.kpc,\n",
    "        pm_ra_cosdec=pmra * u.mas / u.yr,\n",
    "        pm_dec=pmdec * u.mas / u.yr,\n",
    "        radial_velocity=rv * u.km / u.s,\n",
    "    )\n",
    "    print(icrs)\n",
    "    # Define the Galactic non-rotating rest frame: (V0 = solar velocity in Galactic rest fram; R0 = solar radius)\n",
    "    v_sun = apycord.CartesianDifferential(V0 * u.km / u.s)\n",
    "    gc_frame = apycord.Galactocentric(galcen_distance=R0 * u.kpc, z_sun=25.0 * u.pc, galcen_v_sun=v_sun)\n",
    "    # convert to GC frame\n",
    "    cg = icrs.transform_to(gc_frame) \n",
    "    cg.representation= 'cartesian'\n",
    "    VX = cg.v_x.value\n",
    "    VY = cg.v_y.value\n",
    "    VZ = cg.v_z.value\n",
    "    \n",
    "\n",
    "    return VX, VY, VZ,cg.x.value,cg.y.value,cg.z.value"
   ]
  },
  {
   "cell_type": "code",
   "execution_count": null,
   "id": "62e97d2d",
   "metadata": {},
   "outputs": [],
   "source": [
    "#cg = compute_vels(BG_ra, BG_dec, pmra_BG, pmdec_BG, rv_BG, BG_dist)\n",
    "\n",
    "VXBG, VYBG, VZBG,XBG,YBG,ZBG = compute_vels(BG_ra, BG_dec, pmra_BG, pmdec_BG, rv_BG, BG_dist)\n",
    "BG_xyz = (XBG,YBG,ZBG)*u.pc ;  BG_vxvyvz = (VXBG, VYBG, VZBG)*u.km/u.s\n"
   ]
  },
  {
   "cell_type": "code",
   "execution_count": null,
   "id": "590055f0",
   "metadata": {},
   "outputs": [],
   "source": [
    "plt.close('all')\n",
    "BG_w0 = gd.PhaseSpacePosition(pos=BG_xyz, vel=BG_vxvyvz)\n",
    "BG_orbit = mw_potential.integrate_orbit(BG_w0, dt=0.05 * u.Myr, t1=0, t2=.0012950865659592086 * u.Gyr,Integrator=gi.DOPRI853Integrator, nsteps = 1000)\n",
    "fig, ax = sun_orbit.plot_3d(linewidth = .5)\n",
    "fig1, ax1 = BG_orbit.plot_3d(ax=ax,color='r')\n",
    "\n",
    "lim = (-12, 12)\n",
    "ax.set(xlim=lim, ylim=lim, zlim=lim)\n"
   ]
  },
  {
   "cell_type": "code",
   "execution_count": null,
   "id": "c5242b55",
   "metadata": {},
   "outputs": [],
   "source": [
    "galpy_orbit = BG_orbit.to_galpy_orbit()"
   ]
  },
  {
   "cell_type": "code",
   "execution_count": null,
   "id": "1b15c94f",
   "metadata": {},
   "outputs": [],
   "source": [
    "galpy_orbit"
   ]
  },
  {
   "cell_type": "code",
   "execution_count": null,
   "id": "26231174",
   "metadata": {},
   "outputs": [],
   "source": [
    "galpy_orbit_sun = sun_orbit.to_galpy_orbit()"
   ]
  },
  {
   "cell_type": "code",
   "execution_count": null,
   "id": "10106159",
   "metadata": {},
   "outputs": [],
   "source": [
    "galpy_orbit_sun"
   ]
  },
  {
   "cell_type": "code",
   "execution_count": null,
   "id": "cea73217",
   "metadata": {},
   "outputs": [],
   "source": [
    "t = np.linspace(0, .0012950865659592086, 1001)"
   ]
  },
  {
   "cell_type": "code",
   "execution_count": null,
   "id": "0c54f5e4",
   "metadata": {},
   "outputs": [],
   "source": [
    "xgalpy = galpy_orbit.dist()"
   ]
  },
  {
   "cell_type": "code",
   "execution_count": null,
   "id": "9d139f1e",
   "metadata": {},
   "outputs": [],
   "source": [
    "xgalpys = galpy_orbit_sun.dist()"
   ]
  },
  {
   "cell_type": "code",
   "execution_count": null,
   "id": "3160694b",
   "metadata": {},
   "outputs": [],
   "source": [
    "len(xgalpy)"
   ]
  },
  {
   "cell_type": "code",
   "execution_count": null,
   "id": "f7b642d2",
   "metadata": {},
   "outputs": [],
   "source": [
    "len(xgalpys)"
   ]
  },
  {
   "cell_type": "code",
   "execution_count": null,
   "id": "456966f5",
   "metadata": {},
   "outputs": [],
   "source": [
    "xg = np.asarray(xgalpy)"
   ]
  },
  {
   "cell_type": "code",
   "execution_count": null,
   "id": "23a3820c",
   "metadata": {},
   "outputs": [],
   "source": [
    "plt.scatter(xg,t)"
   ]
  },
  {
   "cell_type": "code",
   "execution_count": null,
   "id": "a2cdeb0d",
   "metadata": {},
   "outputs": [],
   "source": [
    "xgalpys"
   ]
  },
  {
   "cell_type": "code",
   "execution_count": null,
   "id": "f2dfffe7",
   "metadata": {},
   "outputs": [],
   "source": [
    "plt.scatter(1001, xgalpys)"
   ]
  },
  {
   "cell_type": "markdown",
   "id": "55e6fa22",
   "metadata": {},
   "source": []
  }
 ],
 "metadata": {
  "kernelspec": {
   "display_name": "Python 3 (ipykernel)",
   "language": "python",
   "name": "python3"
  },
  "language_info": {
   "codemirror_mode": {
    "name": "ipython",
    "version": 3
   },
   "file_extension": ".py",
   "mimetype": "text/x-python",
   "name": "python",
   "nbconvert_exporter": "python",
   "pygments_lexer": "ipython3",
   "version": "3.9.16"
  },
  "toc-autonumbering": false,
  "toc-showcode": false,
  "toc-showmarkdowntxt": false,
  "toc-showtags": false
 },
 "nbformat": 4,
 "nbformat_minor": 5
}
