{
 "cells": [
  {
   "cell_type": "code",
   "execution_count": 1,
   "id": "4b921254",
   "metadata": {
    "scrolled": true
   },
   "outputs": [
    {
     "name": "stdout",
     "output_type": "stream",
     "text": [
      "Requirement already satisfied: astropy in /opt/anaconda3/lib/python3.8/site-packages (4.2.1)\r\n",
      "Requirement already satisfied: pyerfa in /opt/anaconda3/lib/python3.8/site-packages (from astropy) (1.7.3)\r\n",
      "Requirement already satisfied: numpy>=1.17 in /opt/anaconda3/lib/python3.8/site-packages (from astropy) (1.20.1)\r\n"
     ]
    }
   ],
   "source": [
    "\n",
    "import sys\n",
    "!{sys.executable} -m pip install astropy\n",
    "from astropy.table import Table\n",
    "import numpy as np\n",
    "import pandas as pd\n",
    "import scipy as scipy\n",
    "from scipy import optimize\n",
    "np.set_printoptions(threshold=np.inf)"
   ]
  },
  {
   "cell_type": "code",
   "execution_count": 2,
   "id": "f0b1e9f5",
   "metadata": {},
   "outputs": [],
   "source": [
    "#from astropy.table import Table\n",
    "#dat = Table.read('/Users/edm/Desktop/Gaia Data/Original/GCNS_cat.fits', format='fits')\n",
    "#df = dat.to_pandas()"
   ]
  },
  {
   "cell_type": "code",
   "execution_count": 3,
   "id": "957be0c0",
   "metadata": {},
   "outputs": [],
   "source": [
    "#df.columns\n",
    "#gj = df.loc[df['SOURCE_ID'] == 4270814637616488064]\n"
   ]
  },
  {
   "cell_type": "code",
   "execution_count": 4,
   "id": "26fccac5",
   "metadata": {},
   "outputs": [],
   "source": [
    "#df.loc[df['SOURCE_ID'] == 4270814637616488064]\n"
   ]
  },
  {
   "cell_type": "code",
   "execution_count": 5,
   "id": "d47a395a",
   "metadata": {},
   "outputs": [],
   "source": [
    "#print(gj)"
   ]
  },
  {
   "cell_type": "code",
   "execution_count": 6,
   "id": "160d4325",
   "metadata": {},
   "outputs": [
    {
     "name": "stdout",
     "output_type": "stream",
     "text": [
      "     sourceID1           sourceID2      separation ...  coma hyades bound\n",
      "                                          arcsec   ...                   \n",
      "------------------- ------------------- ---------- ... ----- ------ -----\n",
      "     83154862613888      83154861954304     3.8353 ... false  false true \n",
      "    554329954689280     554329954689152     3.7164 ... false  false true \n",
      "   1611029348657664    1611029348487680     6.1252 ... false  false true \n",
      "   1950331764866304    1962117155125760     9.3117 ... false  false true \n",
      "   1950331764866304    1962117155125888    11.6604 ... false  false true \n",
      "   1962117155125888    1962117155125760     2.7914 ... false  false true \n",
      "   2048493242810496    2048497537393792     1.6040 ... false  false true \n",
      "   2058736739430272    2058736739430144    21.2564 ... false  false true \n",
      "   2769330488563712    2769330487975040     1.8195 ... false  false true \n",
      "   3041665774826112    3041665774825984     2.8693 ... false  false true \n",
      "                ...                 ...        ... ...   ...    ...   ...\n",
      "6911863729555534592 6912614622983358720   152.3726 ... false  false true \n",
      "6912828654088398336 6912828654088732032     1.9606 ... false  false true \n",
      "6913352708817445760 6913355320157577088   391.4095 ... false  false true \n",
      "6913810483612308480 6913810483611035776    15.0063 ... false  false true \n",
      "6913816840163935872 6913816840163935616     2.1392 ... false  false true \n",
      "6914606186434040320 6914606426952209280    50.0776 ... false  false true \n",
      "6914811447214284416 6914811447214280320    17.3078 ... false  false true \n",
      "6916490852442696192 6916490852441577088    11.2288 ... false  false true \n",
      "6917452439784507648 6917452444081346944    34.1256 ... false  false true \n",
      "6917476324098467200 6917476564616493440    42.7306 ... false  false true \n",
      "Length = 19176 rows\n"
     ]
    }
   ],
   "source": [
    "Star = Table.read(\"/Users/edm/Desktop/Gaia Data/Original/Table3_ResolvedStellarSystems.fits\", format='fits')\n",
    "print(Star)"
   ]
  },
  {
   "cell_type": "code",
   "execution_count": 12,
   "id": "b3058285",
   "metadata": {
    "scrolled": true
   },
   "outputs": [
    {
     "name": "stdout",
     "output_type": "stream",
     "text": [
      "     SOURCE_ID               RA          ... W4MPRO_WISE W4SIGMPRO_WISE\n",
      "------------------- -------------------- ... ----------- --------------\n",
      "2334666126716440064 0.002564982563575165 ...       9.074            nan\n",
      "2341871673090078592 0.005120969206988805 ...       6.704          0.077\n",
      " 530861741656374272 0.005636916793870935 ...       8.649          0.333\n",
      "2745400068346761216 0.009336098664272003 ...       8.881            nan\n",
      "2855176271335676800 0.013536449221259565 ...       9.077            nan\n",
      "4616265759236854016 0.014892523503159586 ...       9.303            nan\n",
      "2875125810310195712   0.0157909355502497 ...       6.824          0.085\n",
      "2335003848584711040 0.015910163631347198 ...       8.804            nan\n",
      "2773793203786254208 0.016520119186351646 ...       8.951            nan\n",
      "2740326852975975040  0.01967903634957893 ...       8.334            nan\n",
      "                ...                  ... ...         ...            ...\n",
      "2415620208636803584    359.9884768664858 ...       8.794            nan\n",
      "6386702994347886080    359.9888830103997 ...         nan            nan\n",
      "2875428141647824000   359.98947514580453 ...       9.121            nan\n",
      "2421141273132330624    359.9903364411986 ...       8.976            nan\n",
      "2341766188693540864    359.9921291799395 ...         nan            nan\n",
      "2747083180130073344    359.9934330991519 ...       8.928            nan\n",
      "2766925825958528512   359.99352283313954 ...       8.734          0.505\n",
      "2773791481503524992   359.99402759371657 ...       9.057            nan\n",
      "6521388186590534272    359.9947709675118 ...       8.853            nan\n",
      "2011682661920690304    359.9958125904768 ...         nan            nan\n",
      "2314850075324449408   359.99992632546446 ...       8.202            nan\n",
      "Length = 331312 rows\n"
     ]
    }
   ],
   "source": [
    "star2 = Table.read(\"/Users/edm/Desktop/Gaia Data/Original/GCNS_cat.fits\", format='fits')\n",
    "print(star2)"
   ]
  },
  {
   "cell_type": "code",
   "execution_count": 8,
   "id": "901ff9ab",
   "metadata": {},
   "outputs": [
    {
     "name": "stdout",
     "output_type": "stream",
     "text": [
      "      source_id         name  c_cluster dist_cluster\n",
      "                                             pc     \n",
      "--------------------- ------- --------- ------------\n",
      "  3312644885984344704 Hyades      0.574        0.741\n",
      "  3313285110990793472 Hyades      0.115        0.749\n",
      "  3314137846679343872 Hyades      0.239        0.943\n",
      "  3312536927686011520 Hyades      5.601        0.958\n",
      "  3312904233289409152 Hyades      0.330        1.072\n",
      "  3314109916508904064 Hyades      2.306        1.091\n",
      "  3313173957237081984 Hyades      0.562        1.143\n",
      "  3313751441358252160 Hyades      2.621        1.148\n",
      "  3312709379213017728 Hyades      0.078        1.181\n",
      "  3314212068010812032 Hyades      0.274        1.232\n",
      "                  ...     ...       ...          ...\n",
      "  1260123858250996608 ComaBer     2.377       35.203\n",
      "  1259987931126020736 ComaBer     1.170       35.518\n",
      "  1453164564983764224 ComaBer     6.979       36.220\n",
      "  1285098955638193792 ComaBer     1.078       37.766\n",
      "  1284742920029261312 ComaBer     9.249       38.730\n",
      "  1478245490368898816 ComaBer     9.969       38.876\n",
      "  1478082178533110400 ComaBer     2.060       39.929\n",
      "  1285545941474827776 ComaBer     5.134       40.929\n",
      "  1255608919909898112 ComaBer     2.932       43.220\n",
      "  1254809987273415168 ComaBer     6.921       45.260\n",
      "Length = 1132 rows\n"
     ]
    },
    {
     "name": "stderr",
     "output_type": "stream",
     "text": [
      "WARNING: The following header keyword is invalid or follows an unrecognized non-standard convention:\n",
      " Note (1) Dimensionless chi-square test statistic. Small values indicate highly  [astropy.io.fits.card]\n"
     ]
    }
   ],
   "source": [
    "Star3 = Table.read(\"/Users/edm/Desktop/Gaia Data/Original/Hyades_ComaBer.fits\", format='fits')\n",
    "print(Star3)"
   ]
  },
  {
   "cell_type": "code",
   "execution_count": 9,
   "id": "c344a904",
   "metadata": {
    "scrolled": false
   },
   "outputs": [
    {
     "name": "stdout",
     "output_type": "stream",
     "text": [
      "      source_id        dist_1   dist_2  ... dist_99  mn_acc_frac mn_cor_time\n",
      "                        kpc      kpc    ...   kpc                           \n",
      "--------------------- -------- -------- ... -------- ----------- -----------\n",
      "        5192616270720 0.122540 0.122677 ... 0.125675       0.816        27.3\n",
      "       16531329957376 0.116485 0.116567 ... 0.117803       0.801        24.3\n",
      "       31958852451968 0.111975 0.112276 ... 0.117752       0.811        36.8\n",
      "       41888816866304 0.089290 0.089472 ... 0.092023       0.808        24.9\n",
      "       44358422235136 0.104162 0.104214 ... 0.105103       0.814        23.5\n",
      "       44362718023680 0.103748 0.103869 ... 0.105750       0.808        33.6\n",
      "       59858959995264 0.113397 0.113743 ... 0.118411       0.810        32.4\n",
      "       74698071455360 0.065073 0.065313 ... 0.069489       0.807        44.1\n",
      "       77863462880768 0.065469 0.065491 ... 0.065881       0.803        24.8\n",
      "       83154861954304 0.063476 0.063505 ... 0.063903       0.810        34.2\n",
      "                  ...      ...      ... ...      ...         ...         ...\n",
      "  6917466703371563392 0.113939 0.114113 ... 0.116528       0.801        29.6\n",
      "  6917473674103954560 0.073424 0.073584 ... 0.076068       0.813        30.6\n",
      "  6917476324098467200 0.068147 0.068177 ... 0.068646       0.802        29.1\n",
      "  6917476564616493440 0.067813 0.067879 ... 0.069308       0.810        30.1\n",
      "  6917501127535175552 0.093698 0.095538 ... 0.132874       0.817        33.6\n",
      "  6917501642931561472 0.073868 0.076594 ... 0.120898       0.801        28.3\n",
      "  6917515872156470272 0.120653 0.121071 ... 0.128054       0.814        27.0\n",
      "  6917516623776023296 0.096818 0.096886 ... 0.098202       0.805        34.3\n",
      "  6917520506427717120 0.090151 0.092735 ... 0.130804       0.809        37.2\n",
      "  6917527687613138944 0.111694 0.112134 ... 0.117554       0.815        25.6\n",
      "Length = 1211740 rows\n"
     ]
    }
   ],
   "source": [
    "Star4 = Table.read(\"/Users/edm/Desktop/Gaia Data/Original/distance_PDF.fits\", format='fits')\n",
    "print(Star4)"
   ]
  },
  {
   "cell_type": "code",
   "execution_count": 10,
   "id": "6695a877",
   "metadata": {},
   "outputs": [
    {
     "name": "stdout",
     "output_type": "stream",
     "text": [
      "['sourceID1', 'sourceID2', 'separation', 'magDiff', 'projSep', 'binary', 'coma', 'hyades', 'bound']\n"
     ]
    }
   ],
   "source": [
    "print(Star.colnames)"
   ]
  },
  {
   "cell_type": "code",
   "execution_count": 13,
   "id": "7cfd1411",
   "metadata": {
    "scrolled": false
   },
   "outputs": [
    {
     "name": "stdout",
     "output_type": "stream",
     "text": [
      "['SOURCE_ID', 'RA', 'RA_ERROR', 'DEC', 'DEC_ERROR', 'PARALLAX', 'PARALLAX_ERROR', 'PMRA', 'PMRA_ERROR', 'PMDEC', 'PMDEC_ERROR', 'PHOT_G_MEAN_MAG', 'PHOT_G_MEAN_FLUX_OVER_ERROR', 'PHOT_BP_MEAN_MAG', 'PHOT_BP_MEAN_FLUX_OVER_ERROR', 'PHOT_RP_MEAN_MAG', 'PHOT_RP_MEAN_FLUX_OVER_ERROR', 'PHOT_BP_RP_EXCESS_FACTOR', 'RUWE', 'IPD_FRAC_MULTI_PEAK', 'ADOPTEDRV', 'ADOPTEDRV_ERROR', 'ADOPTEDRV_REFNAME', 'RADIAL_VELOCITY_IS_VALID', 'GCNS_PROB', 'WD_PROB', 'DIST_1', 'DIST_16', 'DIST_50', 'DIST_84', 'XCOORD_50', 'XCOORD_16', 'XCOORD_84', 'YCOORD_50', 'YCOORD_16', 'YCOORD_84', 'ZCOORD_50', 'ZCOORD_16', 'ZCOORD_84', 'UVEL_50', 'UVEL_16', 'UVEL_84', 'VVEL_50', 'VVEL_16', 'VVEL_84', 'WVEL_50', 'WVEL_16', 'WVEL_84', 'NAME_GUNN', 'REFNAME_GUNN', 'GMAG_GUNN', 'E_GMAG_GUNN', 'RMAG_GUNN', 'E_RMAG_GUNN', 'IMAG_GUNN', 'E_IMAG_GUNN', 'ZMAG_GUNN', 'E_ZMAG_GUNN', 'NAME_2MASS', 'J_M_2MASS', 'J_MSIG_2MASS', 'H_M_2MASS', 'H_MSIG_2MASS', 'K_M_2MASS', 'K_MSIG_2MASS', 'NAME_WISE', 'W1MPRO_PM_WISE', 'W1SIGMPRO_PM_WISE', 'W2MPRO_PM_WISE', 'W2SIGMPRO_PM_WISE', 'W3MPRO_WISE', 'W3SIGMPRO_WISE', 'W4MPRO_WISE', 'W4SIGMPRO_WISE']\n"
     ]
    }
   ],
   "source": [
    "print(star2.colnames)"
   ]
  },
  {
   "cell_type": "code",
   "execution_count": 14,
   "id": "3e9b17f5",
   "metadata": {},
   "outputs": [
    {
     "name": "stderr",
     "output_type": "stream",
     "text": [
      "IOPub data rate exceeded.\n",
      "The notebook server will temporarily stop sending output\n",
      "to the client in order to avoid crashing it.\n",
      "To change this limit, set the config variable\n",
      "`--NotebookApp.iopub_data_rate_limit`.\n",
      "\n",
      "Current values:\n",
      "NotebookApp.iopub_data_rate_limit=1000000.0 (bytes/sec)\n",
      "NotebookApp.rate_limit_window=3.0 (secs)\n",
      "\n"
     ]
    }
   ],
   "source": [
    "#turns each into usable arrays\n",
    "#radial velocity\n",
    "Rvel = np.asarray(star2[\"ADOPTEDRV\"])\n",
    "print(Rvel)\n",
    "#median x velocity\n",
    "MVx = np.asarray(star2['UVEL_50'])\n",
    "print(MVx)\n",
    "#median y velocity\n",
    "MVy = np.asarray(star2['VVEL_50'])\n",
    "print(MVy)\n",
    "#Proper Motion Dec\n",
    "PMD = np.asarray(star2['PMDEC'])\n",
    "print(PMD)\n",
    "#proper motion RA\n",
    "PMR = np.asarray(star2['PMRA'])\n",
    "print(PMR)\n",
    "#parallax\n",
    "Para = np.asarray(star2['PARALLAX'])\n",
    "print(Para)\n",
    "#median distance\n",
    "med_d = np.asarray(star2['DIST_50'])\n",
    "print(med_d)\n",
    "#median velocity\n",
    "med_v = np.sqrt(MVx**2+MVy**2)\n",
    "Rp = np.asarray(star2['PHOT_RP_MEAN_MAG'])\n",
    "print(Rp)\n",
    "Bp = np.asarray(star2['PHOT_BP_MEAN_MAG'])\n",
    "print(Bp)\n",
    "Mg = np.asarray(star2['PHOT_G_MEAN_MAG'])\n",
    "print(Mg)"
   ]
  },
  {
   "cell_type": "code",
   "execution_count": 15,
   "id": "585e9038",
   "metadata": {
    "scrolled": true
   },
   "outputs": [
    {
     "name": "stdout",
     "output_type": "stream",
     "text": [
      "['source_id', 'name', 'c_cluster', 'dist_cluster']\n"
     ]
    }
   ],
   "source": [
    "print(Star3.colnames)"
   ]
  },
  {
   "cell_type": "code",
   "execution_count": null,
   "id": "ed8ad9bf",
   "metadata": {},
   "outputs": [],
   "source": []
  },
  {
   "cell_type": "code",
   "execution_count": 16,
   "id": "0cf4d333",
   "metadata": {
    "scrolled": true
   },
   "outputs": [
    {
     "name": "stderr",
     "output_type": "stream",
     "text": [
      "IOPub data rate exceeded.\n",
      "The notebook server will temporarily stop sending output\n",
      "to the client in order to avoid crashing it.\n",
      "To change this limit, set the config variable\n",
      "`--NotebookApp.iopub_data_rate_limit`.\n",
      "\n",
      "Current values:\n",
      "NotebookApp.iopub_data_rate_limit=1000000.0 (bytes/sec)\n",
      "NotebookApp.rate_limit_window=3.0 (secs)\n",
      "\n"
     ]
    },
    {
     "data": {
      "text/plain": [
       "331312"
      ]
     },
     "execution_count": 16,
     "metadata": {},
     "output_type": "execute_result"
    }
   ],
   "source": [
    "BpRp = np.asarray(Bp - Rp)\n",
    "print(BpRp)\n",
    "len(BpRp)"
   ]
  },
  {
   "cell_type": "code",
   "execution_count": 17,
   "id": "7e6af9d9",
   "metadata": {},
   "outputs": [
    {
     "data": {
      "image/png": "[encoded data removed]",
      "text/plain": [
       "<Figure size 432x288 with 1 Axes>"
      ]
     },
     "metadata": {
      "needs_background": "light"
     },
     "output_type": "display_data"
    }
   ],
   "source": [
    "import matplotlib.pyplot as plt \n",
    "plt.hexbin(BpRp,Mg)\n",
    "ymin, ymax = plt.ylim(20,0)"
   ]
  },
  {
   "cell_type": "code",
   "execution_count": 18,
   "id": "eb6ec91b",
   "metadata": {},
   "outputs": [],
   "source": [
    "def value(s):\n",
    "    try:\n",
    "        return float(s)\n",
    "    except ValueError:\n",
    "        return 0"
   ]
  },
  {
   "cell_type": "code",
   "execution_count": 20,
   "id": "81eae56c",
   "metadata": {
    "scrolled": true
   },
   "outputs": [],
   "source": [
    "data = np.loadtxt('/Users/edm/Desktop/EEM_dwarf_UBVIJHK_colors_Teff.txt',usecols=(11), comments='#',dtype='str',  converters={11: value})\n",
    "#does not print with ... so hd to replace with 0's"
   ]
  },
  {
   "cell_type": "code",
   "execution_count": 21,
   "id": "d0d3a67c",
   "metadata": {
    "scrolled": true
   },
   "outputs": [],
   "source": [
    "data = data.astype('float64')"
   ]
  },
  {
   "cell_type": "code",
   "execution_count": 22,
   "id": "7d096a05",
   "metadata": {
    "scrolled": true
   },
   "outputs": [
    {
     "name": "stdout",
     "output_type": "stream",
     "text": [
      "[ 0.00e+00  0.00e+00  0.00e+00  0.00e+00  0.00e+00  0.00e+00  0.00e+00\n",
      "  0.00e+00  0.00e+00  0.00e+00  0.00e+00  0.00e+00  0.00e+00  0.00e+00\n",
      "  0.00e+00  0.00e+00  0.00e+00  0.00e+00  0.00e+00  0.00e+00  0.00e+00\n",
      "  0.00e+00  0.00e+00  0.00e+00 -1.20e-01 -8.70e-02 -3.70e-02  5.00e-03\n",
      "  6.80e-02  1.10e-01  1.66e-01  1.94e-01  2.22e-01  2.63e-01  3.20e-01\n",
      "  3.27e-01  3.77e-01  4.34e-01  4.90e-01  5.18e-01  5.46e-01  5.87e-01\n",
      "  6.40e-01  6.70e-01  6.94e-01  7.19e-01  7.67e-01  7.84e-01  8.03e-01\n",
      "  8.23e-01  8.32e-01  8.41e-01  8.50e-01  8.69e-01  8.80e-01  9.00e-01\n",
      "  9.50e-01  9.83e-01  1.01e+00  1.10e+00  1.21e+00  1.34e+00  1.43e+00\n",
      "  1.53e+00  1.70e+00  1.73e+00  1.79e+00  1.84e+00  1.97e+00  2.09e+00\n",
      "  2.13e+00  2.23e+00  2.39e+00  2.50e+00  2.78e+00  2.94e+00  3.16e+00\n",
      "  3.35e+00  3.71e+00  4.16e+00  4.50e+00  4.65e+00  4.72e+00  4.86e+00\n",
      "  5.10e+00  4.78e+00  4.86e+00  0.00e+00  0.00e+00  0.00e+00  0.00e+00\n",
      "  0.00e+00  0.00e+00  0.00e+00  0.00e+00  0.00e+00  0.00e+00  0.00e+00\n",
      "  0.00e+00  0.00e+00  0.00e+00  0.00e+00  0.00e+00  0.00e+00  0.00e+00\n",
      "  0.00e+00  0.00e+00  0.00e+00  0.00e+00  0.00e+00  0.00e+00  0.00e+00\n",
      "  0.00e+00  0.00e+00  0.00e+00  0.00e+00  0.00e+00  0.00e+00]\n"
     ]
    },
    {
     "data": {
      "text/plain": [
       "118"
      ]
     },
     "execution_count": 22,
     "metadata": {},
     "output_type": "execute_result"
    }
   ],
   "source": [
    "print(data)\n",
    "len(data)"
   ]
  },
  {
   "cell_type": "code",
   "execution_count": 23,
   "id": "793e4fb5",
   "metadata": {},
   "outputs": [],
   "source": [
    "def value2(s2):\n",
    "    try:\n",
    "        return float(s2)\n",
    "    except ValueError:\n",
    "        return 0"
   ]
  },
  {
   "cell_type": "code",
   "execution_count": 24,
   "id": "1c0ba50b",
   "metadata": {},
   "outputs": [],
   "source": [
    "data2 = np.loadtxt('/Users/edm/Desktop/EEM_dwarf_UBVIJHK_colors_Teff.txt',usecols=(30), comments='#',dtype='str',  converters={30: value2})\n"
   ]
  },
  {
   "cell_type": "code",
   "execution_count": 25,
   "id": "49009b31",
   "metadata": {},
   "outputs": [
    {
     "name": "stdout",
     "output_type": "stream",
     "text": [
      "[27.    25.    23.    21.3   19.8   18.5   17.7   15.    11.    10.\n",
      "  7.3    6.     5.4    5.1    4.7    4.3    3.92   3.38   2.75   2.68\n",
      "  2.18   2.05   1.98   1.86   1.93   1.88   1.83   1.77   1.81   1.75\n",
      "  1.61   1.5    1.46   1.44   1.38   1.33   1.25   1.21   1.18   1.13\n",
      "  1.08   1.06   1.03   1.     0.99   0.985  0.98   0.97   0.95   0.94\n",
      "  0.9    0.88   0.86   0.82   0.78   0.73   0.7    0.69   0.64   0.62\n",
      "  0.59   0.57   0.54 ]\n",
      "[-1.20e-01 -8.70e-02 -3.70e-02  5.00e-03  6.80e-02  1.10e-01  1.66e-01\n",
      "  1.94e-01  2.22e-01  2.63e-01  3.20e-01  3.27e-01  3.77e-01  4.34e-01\n",
      "  4.90e-01  5.18e-01  5.46e-01  5.87e-01  6.40e-01  6.70e-01  6.94e-01\n",
      "  7.19e-01  7.67e-01  7.84e-01  8.03e-01  8.23e-01  8.32e-01  8.41e-01\n",
      "  8.50e-01  8.69e-01  8.80e-01  9.00e-01  9.50e-01  9.83e-01  1.01e+00\n",
      "  1.10e+00  1.21e+00  1.34e+00  1.43e+00  1.53e+00  1.70e+00  1.73e+00\n",
      "  1.79e+00  1.84e+00  1.97e+00  2.09e+00  2.13e+00  2.23e+00  2.39e+00\n",
      "  2.50e+00  2.78e+00  2.94e+00  3.16e+00  3.35e+00  3.71e+00  4.16e+00\n",
      "  4.50e+00  4.65e+00  4.72e+00  4.86e+00  5.10e+00  4.78e+00  4.86e+00]\n"
     ]
    },
    {
     "data": {
      "text/plain": [
       "63"
      ]
     },
     "execution_count": 25,
     "metadata": {},
     "output_type": "execute_result"
    }
   ],
   "source": [
    "data2 = data2.astype('float64')\n",
    "data21 = np.asarray(data2)\n",
    "data11 = np.asarray(data)\n",
    "new_data = data21[6 : 69]\n",
    "print(new_data)\n",
    "len(new_data)\n",
    "\n",
    "new_data2 = data11[24 : 87]\n",
    "print(new_data2)\n",
    "len(new_data2)"
   ]
  },
  {
   "cell_type": "code",
   "execution_count": 26,
   "id": "856d0b0c",
   "metadata": {
    "scrolled": false
   },
   "outputs": [
    {
     "data": {
      "image/png": "[encoded data removed]",
      "text/plain": [
       "<Figure size 432x288 with 1 Axes>"
      ]
     },
     "metadata": {
      "needs_background": "light"
     },
     "output_type": "display_data"
    }
   ],
   "source": [
    "#concatanating 1d arrays code does not iterate over float\n",
    "scatter = plt.scatter(new_data2,new_data)"
   ]
  },
  {
   "cell_type": "code",
   "execution_count": 27,
   "id": "292468ec",
   "metadata": {},
   "outputs": [],
   "source": [
    "def exponential(x, a, k, b):\n",
    "    return a*np.exp(x*k) + b"
   ]
  },
  {
   "cell_type": "code",
   "execution_count": 28,
   "id": "3396bfa3",
   "metadata": {
    "scrolled": true
   },
   "outputs": [],
   "source": [
    "popt_exponential, pcov_exponential = scipy.optimize.curve_fit(exponential, new_data2, new_data, p0=[1,-0.5, 1])"
   ]
  },
  {
   "cell_type": "code",
   "execution_count": 29,
   "id": "cabf7288",
   "metadata": {},
   "outputs": [
    {
     "name": "stdout",
     "output_type": "stream",
     "text": [
      "pre-exponential factor = 20.38 (+/-) 0.46\n",
      "rate constant = -2.92 (+/-) 0.13\n"
     ]
    }
   ],
   "source": [
    "perr_exponential = np.sqrt(np.diag(pcov_exponential))\n",
    "print(\"pre-exponential factor = %0.2f (+/-) %0.2f\" % (popt_exponential[0], perr_exponential[0]))\n",
    "print(\"rate constant = %0.2f (+/-) %0.2f\" % (popt_exponential[1], perr_exponential[1]))"
   ]
  },
  {
   "cell_type": "code",
   "execution_count": 30,
   "id": "c5422e37",
   "metadata": {
    "scrolled": false
   },
   "outputs": [
    {
     "data": {
      "image/png": "[encoded data removed]",
      "text/plain": [
       "<Figure size 288x216 with 1 Axes>"
      ]
     },
     "metadata": {
      "needs_background": "light"
     },
     "output_type": "display_data"
    }
   ],
   "source": [
    "import matplotlib\n",
    "import matplotlib.pyplot as plt\n",
    "import numpy as np\n",
    "import scipy as scipy\n",
    "from scipy import optimize\n",
    "\n",
    "from matplotlib import gridspec\n",
    "import matplotlib.ticker as ticker\n",
    "%matplotlib inline\n",
    "fig = plt.figure(figsize=(4,3))\n",
    "gs = gridspec.GridSpec(1,1)\n",
    "ax1 = fig.add_subplot(gs[0])\n",
    "\n",
    "ax1.plot(new_data2, new_data, \"ro\")\n",
    "ax1.plot(new_data2, exponential(new_data2, *popt_exponential), 'k--', \\\n",
    "         label=\"y= %0.2f$e^{%0.2fx}$ + %0.2f\" % (popt_exponential[0], popt_exponential[1], popt_exponential[2]))\n",
    "\n",
    "\n",
    "ax1.set_xlabel(\"x_array\",family=\"serif\",  fontsize=12)\n",
    "ax1.set_ylabel(\"y_array\",family=\"serif\",  fontsize=12)\n",
    "\n",
    "ax1.legend(loc='best')\n",
    "\n",
    "\n",
    "\n",
    "fig.tight_layout()\n",
    "fig.savefig(\"fittedExponential.png\", format=\"png\",dpi=1000)\n"
   ]
  },
  {
   "cell_type": "code",
   "execution_count": 31,
   "id": "fd57503f",
   "metadata": {},
   "outputs": [
    {
     "data": {
      "image/png": "[encoded data removed]",
      "text/plain": [
       "<Figure size 432x288 with 1 Axes>"
      ]
     },
     "metadata": {
      "needs_background": "light"
     },
     "output_type": "display_data"
    }
   ],
   "source": [
    "import math\n",
    "#y = 20.38*np.exp(-2.92*x) + .48\n",
    "#equation to approximate the mass\n",
    "\n",
    "plt.scatter(new_data2, 20.38*np.exp(-2.92*new_data2) + .48)\n",
    "scatter = plt.scatter(new_data2,new_data)"
   ]
  },
  {
   "cell_type": "code",
   "execution_count": 32,
   "id": "792f7242",
   "metadata": {
    "scrolled": true
   },
   "outputs": [
    {
     "data": {
      "text/plain": [
       "<matplotlib.collections.PathCollection at 0x7fa253a5b2e0>"
      ]
     },
     "execution_count": 32,
     "metadata": {},
     "output_type": "execute_result"
    },
    {
     "data": {
      "image/png": "[encoded data removed]",
      "text/plain": [
       "<Figure size 432x288 with 1 Axes>"
      ]
     },
     "metadata": {
      "needs_background": "light"
     },
     "output_type": "display_data"
    }
   ],
   "source": [
    "import matplotlib.pyplot as plt\n",
    "plt.scatter(MVx, MVy, .1)"
   ]
  },
  {
   "cell_type": "code",
   "execution_count": 33,
   "id": "5839acac",
   "metadata": {},
   "outputs": [
    {
     "name": "stderr",
     "output_type": "stream",
     "text": [
      "IOPub data rate exceeded.\n",
      "The notebook server will temporarily stop sending output\n",
      "to the client in order to avoid crashing it.\n",
      "To change this limit, set the config variable\n",
      "`--NotebookApp.iopub_data_rate_limit`.\n",
      "\n",
      "Current values:\n",
      "NotebookApp.iopub_data_rate_limit=1000000.0 (bytes/sec)\n",
      "NotebookApp.rate_limit_window=3.0 (secs)\n",
      "\n"
     ]
    },
    {
     "data": {
      "text/plain": [
       "331312"
      ]
     },
     "execution_count": 33,
     "metadata": {},
     "output_type": "execute_result"
    }
   ],
   "source": [
    "#transverse velocity\n",
    "Tvel = (4.74047)*((np.sqrt((PMR**2) + (PMD**2)))/(Para))\n",
    "print(Tvel)\n",
    "len(Tvel)"
   ]
  },
  {
   "cell_type": "code",
   "execution_count": 34,
   "id": "d0b3ad83",
   "metadata": {},
   "outputs": [
    {
     "data": {
      "text/plain": [
       "<matplotlib.collections.PathCollection at 0x7fa1f05c3a60>"
      ]
     },
     "execution_count": 34,
     "metadata": {},
     "output_type": "execute_result"
    },
    {
     "data": {
      "image/png": "[encoded data removed]",
      "text/plain": [
       "<Figure size 432x288 with 1 Axes>"
      ]
     },
     "metadata": {
      "needs_background": "light"
     },
     "output_type": "display_data"
    }
   ],
   "source": [
    "plt.scatter(Tvel, Rvel, .1)"
   ]
  },
  {
   "cell_type": "code",
   "execution_count": 35,
   "id": "63f69f2c",
   "metadata": {},
   "outputs": [],
   "source": [
    "vel = np.sqrt(Tvel**2 + Rvel**2)"
   ]
  },
  {
   "cell_type": "code",
   "execution_count": 36,
   "id": "1418fb9a",
   "metadata": {
    "scrolled": true
   },
   "outputs": [
    {
     "data": {
      "text/plain": [
       "Text(0, 0.5, 'd/pc')"
      ]
     },
     "execution_count": 36,
     "metadata": {},
     "output_type": "execute_result"
    },
    {
     "data": {
      "image/png": "[encoded data removed]",
      "text/plain": [
       "<Figure size 432x288 with 1 Axes>"
      ]
     },
     "metadata": {
      "needs_background": "light"
     },
     "output_type": "display_data"
    }
   ],
   "source": [
    "\n",
    "#time per year \n",
    "t = (-(10**3/Para))*(Rvel/(vel**2))\n",
    "#Dont forget to make sure units work out\n",
    "d = (10**3)*(1/Para)*(Tvel/(vel))\n",
    "plt.scatter(t,d,1)\n",
    "\n",
    "xmin, xmax = plt.xlim(-15,15)\n",
    "ymin, ymax = plt.ylim(0,5)\n",
    "\n",
    "plt.xlabel(\"t/Myr\")\n",
    "plt.ylabel(\"d/pc\")"
   ]
  },
  {
   "cell_type": "code",
   "execution_count": 37,
   "id": "b549dca2",
   "metadata": {},
   "outputs": [
    {
     "data": {
      "text/plain": [
       "331312"
      ]
     },
     "execution_count": 37,
     "metadata": {},
     "output_type": "execute_result"
    }
   ],
   "source": [
    "len(d)"
   ]
  },
  {
   "cell_type": "code",
   "execution_count": 38,
   "id": "e815e3ba",
   "metadata": {
    "scrolled": true
   },
   "outputs": [
    {
     "data": {
      "text/plain": [
       "331312"
      ]
     },
     "execution_count": 38,
     "metadata": {},
     "output_type": "execute_result"
    }
   ],
   "source": [
    "len(t)"
   ]
  },
  {
   "cell_type": "code",
   "execution_count": 39,
   "id": "d917573b",
   "metadata": {},
   "outputs": [
    {
     "name": "stderr",
     "output_type": "stream",
     "text": [
      "IOPub data rate exceeded.\n",
      "The notebook server will temporarily stop sending output\n",
      "to the client in order to avoid crashing it.\n",
      "To change this limit, set the config variable\n",
      "`--NotebookApp.iopub_data_rate_limit`.\n",
      "\n",
      "Current values:\n",
      "NotebookApp.iopub_data_rate_limit=1000000.0 (bytes/sec)\n",
      "NotebookApp.rate_limit_window=3.0 (secs)\n",
      "\n"
     ]
    }
   ],
   "source": [
    "#equation to find mass\n",
    "y = (20.38*np.exp(-2.92*BpRp) + .48)\n",
    "print(y)"
   ]
  },
  {
   "cell_type": "code",
   "execution_count": 40,
   "id": "775a5f04",
   "metadata": {},
   "outputs": [],
   "source": [
    "import matplotlib.pyplot as plt\n",
    "import pandas as pd"
   ]
  },
  {
   "cell_type": "code",
   "execution_count": 41,
   "id": "773f5ad6",
   "metadata": {
    "scrolled": false
   },
   "outputs": [],
   "source": [
    "#area = (1.35)/(14.5*0.000068)\n",
    "#df = pd.DataFrame({'T': t,'D': d,\"bubble_size\":area})\n"
   ]
  },
  {
   "cell_type": "code",
   "execution_count": null,
   "id": "dd1e6d0d",
   "metadata": {},
   "outputs": [],
   "source": []
  },
  {
   "cell_type": "code",
   "execution_count": 45,
   "id": "4523486c",
   "metadata": {
    "scrolled": true
   },
   "outputs": [
    {
     "data": {
      "text/plain": [
       "Text(0, 0.5, 'perihelion (d)/pc')"
      ]
     },
     "execution_count": 45,
     "metadata": {},
     "output_type": "execute_result"
    },
    {
     "data": {
      "image/png": "[encoded data removed]",
      "text/plain": [
       "<Figure size 432x288 with 1 Axes>"
      ]
     },
     "metadata": {
      "needs_background": "light"
     },
     "output_type": "display_data"
    }
   ],
   "source": [
    "\n",
    "area = (y)/(med_d*med_v)\n",
    "plt.scatter(t, d, area, alpha = .3, edgecolor = 'black')\n",
    "plt.scatter(t,d,1)\n",
    "xmin, xmax = plt.xlim(-15,15)\n",
    "ymin, ymax = plt.ylim(0,5)\n",
    "plt.xlabel(\"perihelion time (t)/ Myr\")\n",
    "plt.ylabel(\"perihelion (d)/pc\")"
   ]
  },
  {
   "cell_type": "code",
   "execution_count": 70,
   "id": "89deaee5",
   "metadata": {},
   "outputs": [
    {
     "name": "stderr",
     "output_type": "stream",
     "text": [
      "IOPub data rate exceeded.\n",
      "The notebook server will temporarily stop sending output\n",
      "to the client in order to avoid crashing it.\n",
      "To change this limit, set the config variable\n",
      "`--NotebookApp.iopub_data_rate_limit`.\n",
      "\n",
      "Current values:\n",
      "NotebookApp.iopub_data_rate_limit=1000000.0 (bytes/sec)\n",
      "NotebookApp.rate_limit_window=3.0 (secs)\n",
      "\n"
     ]
    }
   ],
   "source": [
    "print(med_v)"
   ]
  },
  {
   "cell_type": "code",
   "execution_count": 68,
   "id": "46fa7c91",
   "metadata": {},
   "outputs": [
    {
     "data": {
      "text/plain": [
       "4787.02486602846"
      ]
     },
     "execution_count": 68,
     "metadata": {},
     "output_type": "execute_result"
    }
   ],
   "source": [
    "max(y)"
   ]
  },
  {
   "cell_type": "code",
   "execution_count": 67,
   "id": "20bf248d",
   "metadata": {},
   "outputs": [
    {
     "data": {
      "text/plain": [
       "0.11931340668779827"
      ]
     },
     "execution_count": 67,
     "metadata": {},
     "output_type": "execute_result"
    }
   ],
   "source": [
    "max(med_d)"
   ]
  },
  {
   "cell_type": "code",
   "execution_count": 69,
   "id": "4cae7aac",
   "metadata": {},
   "outputs": [
    {
     "data": {
      "text/plain": [
       "nan"
      ]
     },
     "execution_count": 69,
     "metadata": {},
     "output_type": "execute_result"
    }
   ],
   "source": [
    "max(med_v)"
   ]
  },
  {
   "cell_type": "code",
   "execution_count": 59,
   "id": "e7dcb1f1",
   "metadata": {
    "scrolled": true
   },
   "outputs": [
    {
     "data": {
      "text/plain": [
       "<matplotlib.collections.PathCollection at 0x7fa1f05891c0>"
      ]
     },
     "execution_count": 59,
     "metadata": {},
     "output_type": "execute_result"
    },
    {
     "data": {
      "image/png": "[encoded data removed]",
      "text/plain": [
       "<Figure size 432x288 with 1 Axes>"
      ]
     },
     "metadata": {
      "needs_background": "light"
     },
     "output_type": "display_data"
    }
   ],
   "source": [
    "plt.scatter(y,area)"
   ]
  },
  {
   "cell_type": "code",
   "execution_count": 60,
   "id": "739f757a",
   "metadata": {},
   "outputs": [
    {
     "data": {
      "text/plain": [
       "<matplotlib.collections.PathCollection at 0x7fa221bb3df0>"
      ]
     },
     "execution_count": 60,
     "metadata": {},
     "output_type": "execute_result"
    },
    {
     "data": {
      "image/png": "[encoded data removed]",
      "text/plain": [
       "<Figure size 432x288 with 1 Axes>"
      ]
     },
     "metadata": {
      "needs_background": "light"
     },
     "output_type": "display_data"
    }
   ],
   "source": [
    "plt.scatter(med_d, area)"
   ]
  },
  {
   "cell_type": "code",
   "execution_count": 55,
   "id": "27bf643c",
   "metadata": {},
   "outputs": [
    {
     "name": "stderr",
     "output_type": "stream",
     "text": [
      "IOPub data rate exceeded.\n",
      "The notebook server will temporarily stop sending output\n",
      "to the client in order to avoid crashing it.\n",
      "To change this limit, set the config variable\n",
      "`--NotebookApp.iopub_data_rate_limit`.\n",
      "\n",
      "Current values:\n",
      "NotebookApp.iopub_data_rate_limit=1000000.0 (bytes/sec)\n",
      "NotebookApp.rate_limit_window=3.0 (secs)\n",
      "\n"
     ]
    }
   ],
   "source": [
    "area_new = np.asarray(area)"
   ]
  },
  {
   "cell_type": "code",
   "execution_count": 57,
   "id": "9925396d",
   "metadata": {},
   "outputs": [
    {
     "name": "stdout",
     "output_type": "stream",
     "text": [
      "Max element from Numpy Array :  nan\n"
     ]
    }
   ],
   "source": [
    "maxElement = np.amax(area_new)\n",
    "print('Max element from Numpy Array : ', maxElement)"
   ]
  },
  {
   "cell_type": "code",
   "execution_count": null,
   "id": "0d3f6bf3",
   "metadata": {},
   "outputs": [],
   "source": [
    "area2 = np.pi*(y/(med_v*(med_d**2)))\n",
    "df = pd.DataFrame({'T': t,'D': d, \"bubble_size\":area2})"
   ]
  },
  {
   "cell_type": "code",
   "execution_count": null,
   "id": "6e2df3d0",
   "metadata": {
    "scrolled": true
   },
   "outputs": [],
   "source": [
    "plt.scatter(t, d, area2, alpha = .3, edgecolor = 'black', facecolor = 'none')\n",
    "plt.scatter(t,d,1)\n",
    "xmin, xmax = plt.xlim(-15,15)\n",
    "ymin, ymax = plt.ylim(0,5)\n",
    "plt.xlabel(\"perihelion time (t)/ Myr\")\n",
    "plt.ylabel(\"perihelion (d)/pc)\")"
   ]
  },
  {
   "cell_type": "code",
   "execution_count": null,
   "id": "f332e32b",
   "metadata": {},
   "outputs": [],
   "source": []
  },
  {
   "cell_type": "code",
   "execution_count": null,
   "id": "6257fc5a",
   "metadata": {
    "scrolled": false
   },
   "outputs": [],
   "source": [
    "#turns each into usable arrays\n",
    "#radial velocity\n",
    "Rvel = np.asarray(gj[\"ADOPTEDRV\"])\n",
    "#print(Rvel)\n",
    "#median x velocity\n",
    "MVx = np.asarray(gj['UVEL_50'])\n",
    "#print(MVx)\n",
    "#median y velocity\n",
    "MVy = np.asarray(gj['VVEL_50'])\n",
    "#print(MVy)\n",
    "#Proper Motion Dec\n",
    "PMD = np.asarray(gj['PMDEC'])\n",
    "#print(PMD)\n",
    "#proper motion RA\n",
    "PMR = np.asarray(gj['PMRA'])\n",
    "#print(PMR)\n",
    "#parallax\n",
    "Para = np.asarray(gj['PARALLAX'])\n",
    "#print(Para)\n",
    "#median distance\n",
    "med_d = np.asarray(gj['DIST_50'])\n",
    "print(med_d)\n",
    "#median velocity\n",
    "med_v = np.sqrt(MVx**2+MVy**2)\n",
    "print(med_v)\n",
    "Rp = np.asarray(gj['PHOT_RP_MEAN_MAG'])\n",
    "#print(Rp)\n",
    "Bp = np.asarray(gj['PHOT_BP_MEAN_MAG'])\n",
    "#print(Bp)\n",
    "Mg = np.asarray(gj['PHOT_G_MEAN_MAG'])\n",
    "#print(Mg)"
   ]
  }
 ],
 "metadata": {
  "kernelspec": {
   "display_name": "Python 3",
   "language": "python",
   "name": "python3"
  },
  "language_info": {
   "codemirror_mode": {
    "name": "ipython",
    "version": 3
   },
   "file_extension": ".py",
   "mimetype": "text/x-python",
   "name": "python",
   "nbconvert_exporter": "python",
   "pygments_lexer": "ipython3",
   "version": "3.8.8"
  }
 },
 "nbformat": 4,
 "nbformat_minor": 5
}
