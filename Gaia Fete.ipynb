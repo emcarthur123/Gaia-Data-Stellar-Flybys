{
 "cells": [
  {
   "cell_type": "code",
   "execution_count": 2,
   "id": "8b2248cd",
   "metadata": {},
   "outputs": [
    {
     "name": "stdout",
     "output_type": "stream",
     "text": [
      "Requirement already satisfied: astropy in /opt/anaconda3/lib/python3.8/site-packages (4.2.1)\n",
      "Requirement already satisfied: numpy>=1.17 in /opt/anaconda3/lib/python3.8/site-packages (from astropy) (1.20.1)\n",
      "Requirement already satisfied: pyerfa in /opt/anaconda3/lib/python3.8/site-packages (from astropy) (1.7.3)\n"
     ]
    }
   ],
   "source": [
    "import sys\n",
    "!{sys.executable} -m pip install astropy\n",
    "from astropy.table import Table\n",
    "import matplotlib.pyplot as plt\n",
    "import numpy as np\n",
    "import pandas as pd\n",
    "import scipy as scipy\n",
    "from scipy import optimize\n",
    "np.set_printoptions(threshold=np.inf)\n",
    "np.set_printoptions(precision = 40, suppress = True) #prevents scientific notation for 40 character numbers"
   ]
  },
  {
   "cell_type": "code",
   "execution_count": 20,
   "id": "db761b2f",
   "metadata": {},
   "outputs": [],
   "source": [
    "from astropy.io import fits\n",
    "from astropy.table import Table\n",
    "\n",
    "GSample = fits.open('/Users/edm/Desktop/100pc_rvnotnull.fits')\n",
    "GSample_A = Table(GSample[1].data)"
   ]
  },
  {
   "cell_type": "code",
   "execution_count": 22,
   "id": "416f6267",
   "metadata": {},
   "outputs": [
    {
     "data": {
      "text/html": [
       "<i>Table length=167020</i>\n",
       "<table id=\"table140331515374752\" class=\"table-striped table-bordered table-condensed\">\n",
       "<thead><tr><th>source_id</th><th>designation</th><th>ra</th><th>dec</th><th>l</th><th>b</th><th>ecl_lon</th><th>ecl_lat</th><th>parallax</th><th>pmra</th><th>pmdec</th><th>phot_g_mean_mag</th><th>phot_bp_mean_mag</th><th>phot_rp_mean_mag</th><th>ra_error</th><th>dec_error</th><th>parallax_error</th><th>pmra_error</th><th>pmdec_error</th><th>ruwe</th><th>ag_gspphot</th><th>ag_gspphot_lower</th><th>ag_gspphot_upper</th><th>astrometric_chi2_al</th><th>astrometric_excess_noise</th><th>astrometric_excess_noise_sig</th><th>astrometric_gof_al</th><th>astrometric_matched_transits</th><th>astrometric_n_bad_obs_al</th><th>astrometric_n_good_obs_al</th><th>astrometric_n_obs_ac</th><th>astrometric_n_obs_al</th><th>astrometric_params_solved</th><th>astrometric_primary_flag</th><th>astrometric_sigma5d_max</th><th>azero_gspphot</th><th>azero_gspphot_lower</th><th>azero_gspphot_upper</th><th>bp_g</th><th>bp_rp</th><th>classprob_dsc_combmod_galaxy</th><th>classprob_dsc_combmod_quasar</th><th>classprob_dsc_combmod_star</th><th>dec_parallax_corr</th><th>dec_pmdec_corr</th><th>dec_pmra_corr</th><th>dec_pseudocolour_corr</th><th>distance_gspphot</th><th>distance_gspphot_lower</th><th>distance_gspphot_upper</th><th>duplicated_source</th><th>ebpminrp_gspphot</th><th>ebpminrp_gspphot_lower</th><th>ebpminrp_gspphot_upper</th><th>g_rp</th><th>grvs_mag</th><th>grvs_mag_error</th><th>grvs_mag_nb_transits</th><th>has_epoch_photometry</th><th>has_epoch_rv</th><th>has_mcmc_gspphot</th><th>has_mcmc_msc</th><th>has_rvs</th><th>has_xp_continuous</th><th>has_xp_sampled</th><th>in_andromeda_survey</th><th>in_galaxy_candidates</th><th>in_qso_candidates</th><th>ipd_frac_multi_peak</th><th>ipd_frac_odd_win</th><th>ipd_gof_harmonic_amplitude</th><th>ipd_gof_harmonic_phase</th><th>libname_gspphot</th><th>logg_gspphot</th><th>logg_gspphot_lower</th><th>logg_gspphot_upper</th><th>matched_transits</th><th>matched_transits_removed</th><th>mh_gspphot</th><th>mh_gspphot_lower</th><th>mh_gspphot_upper</th><th>new_matched_transits</th><th>non_single_star</th><th>nu_eff_used_in_astrometry</th><th>parallax_over_error</th><th>parallax_pmdec_corr</th><th>parallax_pmra_corr</th><th>parallax_pseudocolour_corr</th><th>phot_bp_mean_flux</th><th>phot_bp_mean_flux_error</th><th>phot_bp_mean_flux_over_error</th><th>phot_bp_n_blended_transits</th><th>phot_bp_n_contaminated_transits</th><th>phot_bp_n_obs</th><th>phot_bp_rp_excess_factor</th><th>phot_g_mean_flux</th><th>phot_g_mean_flux_error</th><th>phot_g_mean_flux_over_error</th><th>phot_g_n_obs</th><th>phot_proc_mode</th><th>phot_rp_mean_flux</th><th>phot_rp_mean_flux_error</th><th>phot_rp_mean_flux_over_error</th><th>phot_rp_n_blended_transits</th><th>phot_rp_n_contaminated_transits</th><th>phot_rp_n_obs</th><th>phot_variable_flag</th><th>pm</th><th>pmdec_pseudocolour_corr</th><th>pmra_pmdec_corr</th><th>pmra_pseudocolour_corr</th><th>pseudocolour</th><th>pseudocolour_error</th><th>ra_dec_corr</th><th>radial_velocity</th><th>radial_velocity_error</th><th>random_index</th><th>ra_parallax_corr</th><th>ra_pmdec_corr</th><th>ra_pmra_corr</th><th>ra_pseudocolour_corr</th><th>ref_epoch</th><th>rv_amplitude_robust</th><th>rv_atm_param_origin</th><th>rv_chisq_pvalue</th><th>rv_expected_sig_to_noise</th><th>rv_method_used</th><th>rv_nb_deblended_transits</th><th>rv_nb_transits</th><th>rv_renormalised_gof</th><th>rvs_spec_sig_to_noise</th><th>rv_template_fe_h</th><th>rv_template_logg</th><th>rv_template_teff</th><th>rv_time_duration</th><th>rv_visibility_periods_used</th><th>scan_direction_mean_k1</th><th>scan_direction_mean_k2</th><th>scan_direction_mean_k3</th><th>scan_direction_mean_k4</th><th>scan_direction_strength_k1</th><th>scan_direction_strength_k2</th><th>scan_direction_strength_k3</th><th>scan_direction_strength_k4</th><th>solution_id</th><th>teff_gspphot</th><th>teff_gspphot_lower</th><th>teff_gspphot_upper</th><th>vbroad</th><th>vbroad_error</th><th>vbroad_nb_transits</th><th>visibility_periods_used</th></tr></thead>\n",
       "<thead><tr><th>int64</th><th>str28</th><th>float64</th><th>float64</th><th>float64</th><th>float64</th><th>float64</th><th>float64</th><th>float64</th><th>float64</th><th>float64</th><th>float32</th><th>float32</th><th>float32</th><th>float32</th><th>float32</th><th>float32</th><th>float32</th><th>float32</th><th>float32</th><th>float32</th><th>float32</th><th>float32</th><th>float32</th><th>float32</th><th>float32</th><th>float32</th><th>int16</th><th>int16</th><th>int16</th><th>int16</th><th>int16</th><th>int16</th><th>int16</th><th>float32</th><th>float32</th><th>float32</th><th>float32</th><th>float32</th><th>float32</th><th>float32</th><th>float32</th><th>float32</th><th>float32</th><th>float32</th><th>float32</th><th>float32</th><th>float32</th><th>float32</th><th>float32</th><th>int16</th><th>float32</th><th>float32</th><th>float32</th><th>float32</th><th>float32</th><th>float32</th><th>int16</th><th>int16</th><th>int16</th><th>int16</th><th>int16</th><th>int16</th><th>int16</th><th>int16</th><th>int16</th><th>int16</th><th>int16</th><th>int16</th><th>int16</th><th>float32</th><th>float32</th><th>str7</th><th>float32</th><th>float32</th><th>float32</th><th>int16</th><th>int16</th><th>float32</th><th>float32</th><th>float32</th><th>int16</th><th>int16</th><th>float32</th><th>float32</th><th>float32</th><th>float32</th><th>float32</th><th>float64</th><th>float32</th><th>float32</th><th>int16</th><th>int16</th><th>int16</th><th>float32</th><th>float64</th><th>float32</th><th>float32</th><th>int16</th><th>int16</th><th>float64</th><th>float32</th><th>float32</th><th>int16</th><th>int16</th><th>int16</th><th>str13</th><th>float32</th><th>float32</th><th>float32</th><th>float32</th><th>float32</th><th>float32</th><th>float32</th><th>float32</th><th>float32</th><th>int64</th><th>float32</th><th>float32</th><th>float32</th><th>float32</th><th>float64</th><th>float32</th><th>int16</th><th>float32</th><th>float32</th><th>int16</th><th>int16</th><th>int16</th><th>float32</th><th>float32</th><th>float32</th><th>float32</th><th>float32</th><th>float32</th><th>int16</th><th>float32</th><th>float32</th><th>float32</th><th>float32</th><th>float32</th><th>float32</th><th>float32</th><th>float32</th><th>int64</th><th>float32</th><th>float32</th><th>float32</th><th>float32</th><th>float32</th><th>int16</th><th>int16</th></tr></thead>\n",
       "<tr><td>4274742093156324992</td><td>Gaia DR3 4274742093156324992</td><td>275.0327275772723</td><td>0.37370548269282566</td><td>29.679904499565314</td><td>7.132736882640082</td><td>275.4982530051554</td><td>23.716982349020448</td><td>10.829536000566273</td><td>-12.186060851243273</td><td>-18.98923444086303</td><td>13.737812</td><td>14.990446</td><td>12.612571</td><td>0.055422705</td><td>0.05016902</td><td>0.06362491</td><td>0.062589645</td><td>0.053206317</td><td>4.703399</td><td>nan</td><td>nan</td><td>nan</td><td>3780.0527</td><td>0.4433884</td><td>102.72651</td><td>52.17816</td><td>22</td><td>2</td><td>190</td><td>8</td><td>192</td><td>31</td><td>0</td><td>0.09032831</td><td>nan</td><td>nan</td><td>nan</td><td>1.252634</td><td>2.3778753</td><td>6.272884e-13</td><td>1.2558453e-13</td><td>0.9976672</td><td>-0.3281499</td><td>-0.32581076</td><td>-0.12816608</td><td>nan</td><td>nan</td><td>nan</td><td>nan</td><td>0</td><td>nan</td><td>nan</td><td>nan</td><td>1.1252413</td><td>12.108346</td><td>0.05173652</td><td>5</td><td>0</td><td>0</td><td>0</td><td>1</td><td>0</td><td>0</td><td>0</td><td>0</td><td>0</td><td>0</td><td>0</td><td>0</td><td>0.0192656</td><td>66.37708</td><td></td><td>nan</td><td>nan</td><td>nan</td><td>22</td><td>0</td><td>nan</td><td>nan</td><td>nan</td><td>10</td><td>0</td><td>1.3001726</td><td>170.20906</td><td>0.21230076</td><td>-0.10876482</td><td>nan</td><td>13779.660267962563</td><td>35.834473</td><td>384.53644</td><td>1</td><td>0</td><td>20</td><td>1.4153891</td><td>60231.26613148141</td><td>41.197124</td><td>1462.026</td><td>184</td><td>0</td><td>71471.01317875701</td><td>50.521233</td><td>1414.6729</td><td>0</td><td>0</td><td>21</td><td>NOT_AVAILABLE</td><td>22.563047</td><td>nan</td><td>0.17453916</td><td>nan</td><td>nan</td><td>nan</td><td>0.07644212</td><td>-24.81015</td><td>2.3496654</td><td>1120824635</td><td>-0.058029845</td><td>-0.1414892</td><td>0.0073582185</td><td>nan</td><td>2016.0</td><td>nan</td><td>101</td><td>nan</td><td>9.148614</td><td>2</td><td>3</td><td>8</td><td>nan</td><td>nan</td><td>0.0</td><td>4.5</td><td>3600.0</td><td>802.561</td><td>7</td><td>nan</td><td>nan</td><td>nan</td><td>nan</td><td>nan</td><td>nan</td><td>nan</td><td>nan</td><td>1636148068921376768</td><td>nan</td><td>nan</td><td>nan</td><td>nan</td><td>nan</td><td>-32768</td><td>15</td></tr>\n",
       "<tr><td>4276262649008911104</td><td>Gaia DR3 4276262649008911104</td><td>275.1117881529705</td><td>0.6436743037974035</td><td>29.95824411479257</td><td>7.186250389840251</td><td>275.59597822047755</td><td>23.983711582249466</td><td>13.988577380136448</td><td>-19.55033855659711</td><td>80.26627974397293</td><td>14.79784</td><td>16.35057</td><td>13.587599</td><td>0.024602158</td><td>0.026198527</td><td>0.03167707</td><td>0.030326592</td><td>0.026711816</td><td>1.1485672</td><td>nan</td><td>nan</td><td>nan</td><td>281.98853</td><td>0.08136304</td><td>1.5856204</td><td>3.041261</td><td>26</td><td>0</td><td>220</td><td>0</td><td>220</td><td>31</td><td>0</td><td>0.047738254</td><td>nan</td><td>nan</td><td>nan</td><td>1.5527306</td><td>2.7629719</td><td>6.868207e-13</td><td>1.3750302e-13</td><td>0.99648726</td><td>-0.4459163</td><td>-0.43513</td><td>-0.12702814</td><td>nan</td><td>nan</td><td>nan</td><td>nan</td><td>0</td><td>nan</td><td>nan</td><td>nan</td><td>1.2102413</td><td>12.980963</td><td>0.15020685</td><td>8</td><td>0</td><td>0</td><td>0</td><td>1</td><td>0</td><td>1</td><td>1</td><td>0</td><td>0</td><td>0</td><td>0</td><td>0</td><td>0.028910188</td><td>76.33375</td><td></td><td>nan</td><td>nan</td><td>nan</td><td>26</td><td>0</td><td>nan</td><td>nan</td><td>nan</td><td>10</td><td>0</td><td>1.2605734</td><td>441.59943</td><td>0.102872185</td><td>-0.34644613</td><td>nan</td><td>3937.212593103259</td><td>24.22996</td><td>162.49358</td><td>11</td><td>0</td><td>24</td><td>1.4567723</td><td>22688.753191514617</td><td>16.664549</td><td>1361.4982</td><td>218</td><td>0</td><td>29115.135609243298</td><td>26.268383</td><td>1108.3718</td><td>2</td><td>0</td><td>24</td><td>NOT_AVAILABLE</td><td>82.6129</td><td>nan</td><td>0.3245333</td><td>nan</td><td>nan</td><td>nan</td><td>0.3040498</td><td>-58.103645</td><td>4.489704</td><td>1717343978</td><td>-0.1144815</td><td>-0.31884444</td><td>-0.20087335</td><td>nan</td><td>2016.0</td><td>nan</td><td>101</td><td>nan</td><td>4.7938414</td><td>2</td><td>2</td><td>9</td><td>nan</td><td>nan</td><td>0.5</td><td>4.5</td><td>3600.0</td><td>960.7734</td><td>9</td><td>-105.72843</td><td>-29.150995</td><td>-36.069073</td><td>39.62878</td><td>0.32521683</td><td>0.20422561</td><td>0.3612132</td><td>0.74363726</td><td>1636148068921376768</td><td>nan</td><td>nan</td><td>nan</td><td>nan</td><td>nan</td><td>-32768</td><td>17</td></tr>\n",
       "<tr><td>4276451009095328384</td><td>Gaia DR3 4276451009095328384</td><td>274.939824794112</td><td>0.6872914277658443</td><td>29.9178942792151</td><td>7.359073544519104</td><td>275.40969920215787</td><td>24.033856483180372</td><td>13.167750077400294</td><td>-14.35690311521185</td><td>-54.7799860982808</td><td>14.55086</td><td>15.956148</td><td>13.388614</td><td>0.020049138</td><td>0.019952435</td><td>0.02625705</td><td>0.02530976</td><td>0.021472858</td><td>1.1108019</td><td>nan</td><td>nan</td><td>nan</td><td>264.5789</td><td>0.062183693</td><td>1.1570864</td><td>2.32016</td><td>26</td><td>2</td><td>226</td><td>0</td><td>228</td><td>31</td><td>0</td><td>0.035814624</td><td>nan</td><td>nan</td><td>nan</td><td>1.4052877</td><td>2.5675344</td><td>8.645761e-13</td><td>1.7308995e-13</td><td>0.99296397</td><td>-0.39399213</td><td>-0.29507628</td><td>0.008060447</td><td>nan</td><td>nan</td><td>nan</td><td>nan</td><td>0</td><td>nan</td><td>nan</td><td>nan</td><td>1.1622467</td><td>12.8558855</td><td>0.060602114</td><td>7</td><td>0</td><td>0</td><td>0</td><td>1</td><td>0</td><td>1</td><td>1</td><td>0</td><td>0</td><td>0</td><td>0</td><td>0</td><td>0.020476412</td><td>78.50266</td><td></td><td>nan</td><td>nan</td><td>nan</td><td>26</td><td>0</td><td>nan</td><td>nan</td><td>nan</td><td>9</td><td>0</td><td>1.279848</td><td>501.4939</td><td>0.2403096</td><td>-0.3374436</td><td>nan</td><td>5661.840733379309</td><td>13.730439</td><td>412.35684</td><td>2</td><td>0</td><td>25</td><td>1.4265224</td><td>28484.109478246566</td><td>12.812511</td><td>2223.148</td><td>226</td><td>0</td><td>34971.37975554301</td><td>36.932613</td><td>946.897</td><td>0</td><td>0</td><td>24</td><td>NOT_AVAILABLE</td><td>56.630093</td><td>nan</td><td>-0.0056726784</td><td>nan</td><td>nan</td><td>nan</td><td>0.027771637</td><td>-19.181684</td><td>3.8061092</td><td>515037602</td><td>-0.0151201915</td><td>-0.12631515</td><td>-0.0012634085</td><td>nan</td><td>2016.0</td><td>nan</td><td>111</td><td>nan</td><td>6.328753</td><td>2</td><td>1</td><td>8</td><td>nan</td><td>nan</td><td>-0.75</td><td>3.5</td><td>3300.0</td><td>960.7733</td><td>6</td><td>-95.28036</td><td>-4.1655636</td><td>-37.270584</td><td>39.174282</td><td>0.3004687</td><td>0.11128985</td><td>0.3058899</td><td>0.77254176</td><td>1636148068921376768</td><td>nan</td><td>nan</td><td>nan</td><td>nan</td><td>nan</td><td>-32768</td><td>15</td></tr>\n",
       "<tr><td>4275035181723288704</td><td>Gaia DR3 4275035181723288704</td><td>274.1899889983417</td><td>1.019638194099427</td><td>29.869295920900797</td><td>8.177769557741518</td><td>274.60076869399575</td><td>24.39202708995746</td><td>16.48994349134434</td><td>-9.63587820129806</td><td>-29.01129247348735</td><td>11.086009</td><td>11.886822</td><td>10.208903</td><td>0.09562671</td><td>0.10026357</td><td>0.124238215</td><td>0.11693663</td><td>0.10436449</td><td>6.071092</td><td>nan</td><td>nan</td><td>nan</td><td>18421.709</td><td>0.8457592</td><td>935.2669</td><td>68.10459</td><td>22</td><td>0</td><td>195</td><td>195</td><td>195</td><td>31</td><td>0</td><td>0.16476075</td><td>nan</td><td>nan</td><td>nan</td><td>0.8008127</td><td>1.6779184</td><td>5.0961034e-11</td><td>1.0202512e-11</td><td>1.0000273e-06</td><td>-0.51408964</td><td>-0.37983245</td><td>0.09845911</td><td>nan</td><td>nan</td><td>nan</td><td>nan</td><td>0</td><td>nan</td><td>nan</td><td>nan</td><td>0.8771057</td><td>9.85955</td><td>0.031901967</td><td>6</td><td>0</td><td>0</td><td>0</td><td>1</td><td>0</td><td>1</td><td>1</td><td>0</td><td>0</td><td>0</td><td>0</td><td>0</td><td>0.026210347</td><td>165.92668</td><td></td><td>nan</td><td>nan</td><td>nan</td><td>22</td><td>1</td><td>nan</td><td>nan</td><td>nan</td><td>9</td><td>0</td><td>1.3895056</td><td>132.72842</td><td>0.15308669</td><td>-0.15878953</td><td>nan</td><td>240263.73004167076</td><td>213.90497</td><td>1123.2266</td><td>0</td><td>0</td><td>21</td><td>1.2910305</td><td>692696.4663645551</td><td>182.76643</td><td>3790.064</td><td>192</td><td>0</td><td>654028.5172855702</td><td>249.9856</td><td>2616.265</td><td>0</td><td>0</td><td>20</td><td>NOT_AVAILABLE</td><td>30.56968</td><td>nan</td><td>0.0901893</td><td>nan</td><td>nan</td><td>nan</td><td>0.041500915</td><td>-27.502989</td><td>0.46900034</td><td>1304291160</td><td>-0.11456903</td><td>0.029771082</td><td>-0.13327517</td><td>nan</td><td>2016.0</td><td>3.9037342</td><td>444</td><td>0.009052692</td><td>65.93567</td><td>1</td><td>4</td><td>12</td><td>2.1568325</td><td>nan</td><td>-0.25</td><td>5.0</td><td>4250.0</td><td>750.324</td><td>10</td><td>nan</td><td>nan</td><td>nan</td><td>nan</td><td>nan</td><td>nan</td><td>nan</td><td>nan</td><td>1636148068921376768</td><td>nan</td><td>nan</td><td>nan</td><td>6.16577</td><td>4.0711856</td><td>6</td><td>15</td></tr>\n",
       "<tr><td>4275035697119244928</td><td>Gaia DR3 4275035697119244928</td><td>274.2701195161974</td><td>1.00560516414449</td><td>29.893776479069995</td><td>8.1001259190088</td><td>274.6881910436099</td><td>24.375420412077524</td><td>17.019397830288206</td><td>-11.033584184679414</td><td>-28.352190469017305</td><td>6.5604844</td><td>6.706918</td><td>6.278077</td><td>0.03028507</td><td>0.03066414</td><td>0.03842199</td><td>0.037315916</td><td>0.032786354</td><td>1.4313661</td><td>0.0002</td><td>0.0</td><td>0.0008</td><td>1876.8401</td><td>0.26198345</td><td>68.64721</td><td>8.315551</td><td>24</td><td>0</td><td>214</td><td>214</td><td>214</td><td>31</td><td>1</td><td>0.054309424</td><td>0.0003</td><td>0.0</td><td>0.0009</td><td>0.14643335</td><td>0.42884064</td><td>5.0972487e-11</td><td>1.0204804e-11</td><td>1.000252e-06</td><td>-0.47628853</td><td>-0.33145797</td><td>0.031794433</td><td>nan</td><td>58.6442</td><td>58.5038</td><td>58.7705</td><td>0</td><td>1e-04</td><td>0.0</td><td>0.0005</td><td>0.28240728</td><td>6.1812987</td><td>0.005900891</td><td>12</td><td>1</td><td>0</td><td>1</td><td>1</td><td>0</td><td>1</td><td>1</td><td>0</td><td>0</td><td>0</td><td>0</td><td>0</td><td>0.08723897</td><td>112.70841</td><td>A</td><td>4.1119</td><td>4.109</td><td>4.1144</td><td>24</td><td>1</td><td>-0.5877</td><td>-0.6145</td><td>-0.5633</td><td>9</td><td>0</td><td>1.6503919</td><td>442.95984</td><td>0.16318268</td><td>-0.19159241</td><td>nan</td><td>28356308.74423886</td><td>117319.28</td><td>241.70203</td><td>0</td><td>0</td><td>23</td><td>1.179696</td><td>44745873.019593075</td><td>49972.383</td><td>895.41205</td><td>213</td><td>0</td><td>24430217.837978527</td><td>72695.5</td><td>336.06232</td><td>0</td><td>0</td><td>20</td><td>VARIABLE</td><td>30.423456</td><td>nan</td><td>0.2016487</td><td>nan</td><td>nan</td><td>nan</td><td>0.16408883</td><td>-29.156055</td><td>1.6001616</td><td>1056773927</td><td>-0.17496951</td><td>-0.06873964</td><td>-0.07653158</td><td>nan</td><td>2016.0</td><td>10.269815</td><td>222</td><td>0.0</td><td>422.97012</td><td>1</td><td>0</td><td>12</td><td>27.268787</td><td>nan</td><td>0.0</td><td>4.0</td><td>7000.0</td><td>802.6345</td><td>10</td><td>nan</td><td>nan</td><td>nan</td><td>nan</td><td>nan</td><td>nan</td><td>nan</td><td>nan</td><td>1636148068921376768</td><td>7045.3804</td><td>7043.4585</td><td>7047.342</td><td>8.651969</td><td>0.99235785</td><td>12</td><td>17</td></tr>\n",
       "<tr><td>4275012985332019456</td><td>Gaia DR3 4275012985332019456</td><td>274.16376230397435</td><td>0.7859483084370732</td><td>29.647352605370703</td><td>8.093946123359805</td><td>274.5638683559089</td><td>24.159288719596848</td><td>22.21623558862091</td><td>-76.10927100371241</td><td>-262.181967948329</td><td>13.330864</td><td>14.653222</td><td>12.196358</td><td>0.013448075</td><td>0.012754721</td><td>0.014234582</td><td>0.016357735</td><td>0.014377735</td><td>1.0039533</td><td>0.0741</td><td>0.0091</td><td>0.1814</td><td>207.07773</td><td>0.0</td><td>0.0</td><td>0.1147696</td><td>26</td><td>3</td><td>226</td><td>0</td><td>229</td><td>31</td><td>0</td><td>0.025433894</td><td>0.1134</td><td>0.0141</td><td>0.2755</td><td>1.3223581</td><td>2.4568644</td><td>5.7956103e-13</td><td>1.160294e-13</td><td>0.99861324</td><td>-0.24658883</td><td>-0.40462348</td><td>-0.14622408</td><td>nan</td><td>45.1251</td><td>44.9057</td><td>45.5811</td><td>0</td><td>0.0451</td><td>0.0055</td><td>0.1107</td><td>1.1345062</td><td>11.648372</td><td>0.028508928</td><td>11</td><td>0</td><td>0</td><td>0</td><td>1</td><td>1</td><td>1</td><td>1</td><td>0</td><td>0</td><td>0</td><td>0</td><td>0</td><td>0.009259439</td><td>56.9135</td><td>PHOENIX</td><td>4.274</td><td>4.2078</td><td>4.6122</td><td>27</td><td>0</td><td>-0.8248</td><td>-0.8976</td><td>-0.4635</td><td>12</td><td>0</td><td>1.2917535</td><td>1560.7227</td><td>0.029074026</td><td>-0.004976534</td><td>nan</td><td>18798.71794513046</td><td>36.00616</td><td>522.0973</td><td>1</td><td>0</td><td>26</td><td>1.4113289</td><td>87619.5626308531</td><td>38.46928</td><td>2277.6501</td><td>228</td><td>0</td><td>104861.30445961672</td><td>79.64203</td><td>1316.6578</td><td>0</td><td>0</td><td>25</td><td>NOT_AVAILABLE</td><td>273.0055</td><td>nan</td><td>0.3116154</td><td>nan</td><td>nan</td><td>nan</td><td>0.30664596</td><td>33.9594</td><td>1.1959308</td><td>1159095756</td><td>-0.036102545</td><td>-0.15434563</td><td>-0.28984547</td><td>nan</td><td>2016.0</td><td>11.151556</td><td>101</td><td>0.33053264</td><td>20.869537</td><td>1</td><td>5</td><td>16</td><td>0.54485285</td><td>24.83367</td><td>0.0</td><td>4.5</td><td>3500.0</td><td>960.6989</td><td>12</td><td>-76.71311</td><td>-33.695538</td><td>-40.19381</td><td>40.36649</td><td>0.23426123</td><td>0.32620883</td><td>0.27219242</td><td>0.75084645</td><td>1636148068921376768</td><td>3191.8477</td><td>3160.504</td><td>3330.4753</td><td>nan</td><td>nan</td><td>-32768</td><td>17</td></tr>\n",
       "<tr><td>4274925505435880704</td><td>Gaia DR3 4274925505435880704</td><td>274.0368676538074</td><td>0.3301901909663826</td><td>29.17961228483178</td><td>7.9974009061358435</td><td>274.40959339387547</td><td>23.707699895218735</td><td>44.96387342735567</td><td>16.5283454565636</td><td>43.89934590177087</td><td>10.441222</td><td>11.508109</td><td>9.418299</td><td>0.0146599235</td><td>0.015803121</td><td>0.019654019</td><td>0.018035013</td><td>0.015471868</td><td>1.0359683</td><td>0.0</td><td>0.0</td><td>0.0002</td><td>465.1527</td><td>0.09769753</td><td>10.328598</td><td>0.76029307</td><td>24</td><td>3</td><td>212</td><td>215</td><td>215</td><td>31</td><td>1</td><td>0.026335055</td><td>0.0</td><td>0.0</td><td>0.0003</td><td>1.0668869</td><td>2.0898104</td><td>6.272884e-13</td><td>1.2558453e-13</td><td>0.9976672</td><td>-0.51761353</td><td>-0.26546445</td><td>-0.030295564</td><td>nan</td><td>22.1624</td><td>22.1327</td><td>22.1761</td><td>0</td><td>0.0</td><td>0.0</td><td>1e-04</td><td>1.0229235</td><td>8.957779</td><td>0.009069141</td><td>2</td><td>0</td><td>0</td><td>1</td><td>1</td><td>0</td><td>1</td><td>1</td><td>0</td><td>0</td><td>0</td><td>0</td><td>0</td><td>0.0036627962</td><td>63.17049</td><td>MARCS</td><td>4.6983</td><td>4.6972</td><td>4.7024</td><td>25</td><td>0</td><td>-0.0633</td><td>-0.0687</td><td>-0.0416</td><td>8</td><td>0</td><td>1.3341154</td><td>2287.77</td><td>0.11424346</td><td>-0.19180757</td><td>nan</td><td>340544.0745977614</td><td>541.4858</td><td>628.9068</td><td>1</td><td>0</td><td>24</td><td>1.3513597</td><td>1254462.7667921653</td><td>458.99866</td><td>2733.0422</td><td>212</td><td>0</td><td>1354686.3217246032</td><td>950.34357</td><td>1425.4701</td><td>0</td><td>0</td><td>24</td><td>NOT_AVAILABLE</td><td>46.90777</td><td>nan</td><td>0.22584692</td><td>nan</td><td>nan</td><td>nan</td><td>0.16150688</td><td>10.100307</td><td>0.23973384</td><td>1219701894</td><td>-0.09584576</td><td>-0.12825175</td><td>0.013741242</td><td>nan</td><td>2016.0</td><td>0.8110857</td><td>440</td><td>0.76822835</td><td>56.84096</td><td>1</td><td>2</td><td>4</td><td>-1.1919883</td><td>nan</td><td>0.0</td><td>4.5</td><td>3800.0</td><td>346.11957</td><td>4</td><td>nan</td><td>nan</td><td>nan</td><td>nan</td><td>nan</td><td>nan</td><td>nan</td><td>nan</td><td>1636148068921376768</td><td>3671.3398</td><td>3670.6404</td><td>3673.6746</td><td>nan</td><td>nan</td><td>-32768</td><td>17</td></tr>\n",
       "<tr><td>4089959229840452224</td><td>Gaia DR3 4089959229840452224</td><td>276.7543786366516</td><td>-22.396908083351317</td><td>10.264840359550085</td><td>-4.94656134412464</td><td>276.24354402539245</td><td>0.8961020768713447</td><td>17.026178837973816</td><td>30.081035119439782</td><td>-57.42929355755252</td><td>14.232287</td><td>15.737493</td><td>13.026629</td><td>0.020164022</td><td>0.018675227</td><td>0.022773502</td><td>0.026214536</td><td>0.020551259</td><td>1.0605545</td><td>nan</td><td>nan</td><td>nan</td><td>251.81493</td><td>0.0</td><td>0.0</td><td>1.3279337</td><td>27</td><td>0</td><td>239</td><td>0</td><td>239</td><td>31</td><td>0</td><td>0.036587376</td><td>nan</td><td>nan</td><td>nan</td><td>1.5052052</td><td>2.710863</td><td>8.6457566e-13</td><td>1.7308995e-13</td><td>0.99296397</td><td>-0.400831</td><td>-0.38007566</td><td>-0.031497814</td><td>nan</td><td>nan</td><td>nan</td><td>nan</td><td>0</td><td>nan</td><td>nan</td><td>nan</td><td>1.205658</td><td>12.398045</td><td>0.031435777</td><td>2</td><td>0</td><td>0</td><td>0</td><td>1</td><td>0</td><td>1</td><td>1</td><td>0</td><td>0</td><td>0</td><td>0</td><td>0</td><td>0.013528945</td><td>97.200455</td><td></td><td>nan</td><td>nan</td><td>nan</td><td>29</td><td>0</td><td>nan</td><td>nan</td><td>nan</td><td>12</td><td>0</td><td>1.2659506</td><td>747.6311</td><td>0.20385131</td><td>-0.028432239</td><td>nan</td><td>6924.999676277254</td><td>25.594868</td><td>270.56204</td><td>27</td><td>0</td><td>27</td><td>1.4591308</td><td>38197.20654224767</td><td>23.373926</td><td>1634.1802</td><td>253</td><td>0</td><td>48809.720481953846</td><td>91.26862</td><td>534.7919</td><td>23</td><td>0</td><td>26</td><td>NOT_AVAILABLE</td><td>64.83049</td><td>nan</td><td>-0.027879527</td><td>nan</td><td>nan</td><td>nan</td><td>0.123281576</td><td>-39.53639</td><td>4.7808795</td><td>610052570</td><td>-0.03270059</td><td>-0.067688815</td><td>-0.20758846</td><td>nan</td><td>2016.0</td><td>nan</td><td>101</td><td>nan</td><td>6.643017</td><td>2</td><td>1</td><td>3</td><td>nan</td><td>nan</td><td>0.25</td><td>4.5</td><td>3400.0</td><td>726.6574</td><td>3</td><td>-113.361786</td><td>-8.5603075</td><td>-31.03178</td><td>42.390423</td><td>0.2501448</td><td>0.21040885</td><td>0.3865784</td><td>0.83231187</td><td>1636148068921376768</td><td>nan</td><td>nan</td><td>nan</td><td>nan</td><td>nan</td><td>-32768</td><td>15</td></tr>\n",
       "<tr><td>4276544364505658752</td><td>Gaia DR3 4276544364505658752</td><td>274.39130602817465</td><td>1.2519031799987808</td><td>30.170984347900678</td><td>8.105181121964948</td><td>274.8302009323824</td><td>24.617584739996143</td><td>11.264963395044086</td><td>20.290805135976754</td><td>26.123338211131564</td><td>13.512073</td><td>14.709622</td><td>12.370999</td><td>0.1888982</td><td>0.19595413</td><td>0.24884968</td><td>0.23703174</td><td>0.22040644</td><td>15.446744</td><td>0.2122</td><td>0.0328</td><td>0.3656</td><td>41074.26</td><td>1.6946157</td><td>1592.8322</td><td>150.94817</td><td>22</td><td>0</td><td>192</td><td>0</td><td>192</td><td>31</td><td>0</td><td>0.33565658</td><td>0.3181</td><td>0.0494</td><td>0.5448</td><td>1.1975498</td><td>2.338623</td><td>6.868207e-13</td><td>1.3750302e-13</td><td>0.99648726</td><td>-0.35782757</td><td>-0.44090348</td><td>0.07211527</td><td>nan</td><td>74.5112</td><td>52.4044</td><td>92.4782</td><td>0</td><td>0.1286</td><td>0.02</td><td>0.2194</td><td>1.1410732</td><td>11.813687</td><td>0.0274779</td><td>6</td><td>0</td><td>0</td><td>1</td><td>1</td><td>0</td><td>1</td><td>1</td><td>0</td><td>0</td><td>0</td><td>0</td><td>0</td><td>0.042640563</td><td>74.9573</td><td>MARCS</td><td>4.0159</td><td>3.9864</td><td>4.1753</td><td>23</td><td>0</td><td>-1.2195</td><td>-1.2761</td><td>-1.0799</td><td>9</td><td>0</td><td>1.3052685</td><td>45.268147</td><td>0.32974306</td><td>-0.2707222</td><td>nan</td><td>17847.118426437664</td><td>49.15185</td><td>363.10165</td><td>1</td><td>0</td><td>22</td><td>1.4447253</td><td>74151.12823927181</td><td>134.62335</td><td>550.8044</td><td>180</td><td>0</td><td>89280.89438560526</td><td>121.77781</td><td>733.1458</td><td>0</td><td>0</td><td>22</td><td>NOT_AVAILABLE</td><td>33.077873</td><td>nan</td><td>0.035573762</td><td>nan</td><td>nan</td><td>nan</td><td>0.05353997</td><td>-6.4361596</td><td>1.2222189</td><td>1043842761</td><td>-0.15708064</td><td>-0.052841395</td><td>-0.1277422</td><td>nan</td><td>2016.0</td><td>11.532911</td><td>101</td><td>0.82089466</td><td>16.664076</td><td>1</td><td>4</td><td>10</td><td>-0.67927694</td><td>nan</td><td>0.0</td><td>4.5</td><td>3600.0</td><td>925.6381</td><td>9</td><td>-122.91873</td><td>1.2967314</td><td>-28.241434</td><td>38.249012</td><td>0.25356367</td><td>0.09546507</td><td>0.18016025</td><td>0.74315405</td><td>1636148068921376768</td><td>3370.9358</td><td>3294.9058</td><td>3470.777</td><td>nan</td><td>nan</td><td>-32768</td><td>14</td></tr>\n",
       "<tr><td>4090595434755427840</td><td>Gaia DR3 4090595434755427840</td><td>275.14510193622834</td><td>-21.93702415571362</td><td>9.980099683888524</td><td>-3.4129697284280573</td><td>274.7731507696158</td><td>1.4170477424812082</td><td>10.173317437227128</td><td>-4.808358990545101</td><td>-40.198071066525515</td><td>15.216644</td><td>16.653662</td><td>14.034962</td><td>0.03073561</td><td>0.02666878</td><td>0.03394603</td><td>0.038790837</td><td>0.02975621</td><td>1.0120562</td><td>0.5432</td><td>0.5357</td><td>0.5538</td><td>214.12514</td><td>0.0</td><td>0.0</td><td>0.27707</td><td>24</td><td>1</td><td>211</td><td>0</td><td>212</td><td>31</td><td>0</td><td>0.058287676</td><td>0.8333</td><td>0.8218</td><td>0.8493</td><td>1.4370174</td><td>2.6187</td><td>8.800058e-13</td><td>1.7308995e-13</td><td>0.99296397</td><td>-0.262514</td><td>-0.2910132</td><td>-0.19445251</td><td>nan</td><td>99.3327</td><td>98.9272</td><td>100.1852</td><td>0</td><td>0.3424</td><td>0.3379</td><td>0.3488</td><td>1.1816826</td><td>13.347725</td><td>0.104861125</td><td>7</td><td>0</td><td>0</td><td>1</td><td>1</td><td>0</td><td>1</td><td>0</td><td>0</td><td>0</td><td>0</td><td>0</td><td>0</td><td>0.083313055</td><td>179.1881</td><td>MARCS</td><td>4.8297</td><td>4.8108</td><td>4.8442</td><td>25</td><td>0</td><td>-0.1655</td><td>-0.2141</td><td>-0.116</td><td>9</td><td>0</td><td>1.2767749</td><td>299.69092</td><td>0.10014536</td><td>-0.16648972</td><td>nan</td><td>2978.189584159281</td><td>17.508043</td><td>170.10408</td><td>23</td><td>0</td><td>23</td><td>1.4429736</td><td>15427.26945710271</td><td>10.825194</td><td>1425.1263</td><td>213</td><td>0</td><td>19282.95321350168</td><td>33.213238</td><td>580.5803</td><td>13</td><td>0</td><td>23</td><td>NOT_AVAILABLE</td><td>40.48463</td><td>nan</td><td>0.39339656</td><td>nan</td><td>nan</td><td>nan</td><td>0.19858794</td><td>-53.4467</td><td>8.760804</td><td>1192277761</td><td>0.009080139</td><td>-0.16947882</td><td>0.03282419</td><td>nan</td><td>2016.0</td><td>nan</td><td>101</td><td>nan</td><td>4.2252545</td><td>2</td><td>0</td><td>6</td><td>nan</td><td>nan</td><td>0.0</td><td>4.5</td><td>3600.0</td><td>775.64185</td><td>4</td><td>-80.02164</td><td>-22.03587</td><td>-36.21207</td><td>44.09395</td><td>0.22634807</td><td>0.28092217</td><td>0.37613398</td><td>0.80206203</td><td>1636148068921376768</td><td>3467.7832</td><td>3463.5974</td><td>3471.4365</td><td>nan</td><td>nan</td><td>-32768</td><td>15</td></tr>\n",
       "<tr><td>...</td><td>...</td><td>...</td><td>...</td><td>...</td><td>...</td><td>...</td><td>...</td><td>...</td><td>...</td><td>...</td><td>...</td><td>...</td><td>...</td><td>...</td><td>...</td><td>...</td><td>...</td><td>...</td><td>...</td><td>...</td><td>...</td><td>...</td><td>...</td><td>...</td><td>...</td><td>...</td><td>...</td><td>...</td><td>...</td><td>...</td><td>...</td><td>...</td><td>...</td><td>...</td><td>...</td><td>...</td><td>...</td><td>...</td><td>...</td><td>...</td><td>...</td><td>...</td><td>...</td><td>...</td><td>...</td><td>...</td><td>...</td><td>...</td><td>...</td><td>...</td><td>...</td><td>...</td><td>...</td><td>...</td><td>...</td><td>...</td><td>...</td><td>...</td><td>...</td><td>...</td><td>...</td><td>...</td><td>...</td><td>...</td><td>...</td><td>...</td><td>...</td><td>...</td><td>...</td><td>...</td><td>...</td><td>...</td><td>...</td><td>...</td><td>...</td><td>...</td><td>...</td><td>...</td><td>...</td><td>...</td><td>...</td><td>...</td><td>...</td><td>...</td><td>...</td><td>...</td><td>...</td><td>...</td><td>...</td><td>...</td><td>...</td><td>...</td><td>...</td><td>...</td><td>...</td><td>...</td><td>...</td><td>...</td><td>...</td><td>...</td><td>...</td><td>...</td><td>...</td><td>...</td><td>...</td><td>...</td><td>...</td><td>...</td><td>...</td><td>...</td><td>...</td><td>...</td><td>...</td><td>...</td><td>...</td><td>...</td><td>...</td><td>...</td><td>...</td><td>...</td><td>...</td><td>...</td><td>...</td><td>...</td><td>...</td><td>...</td><td>...</td><td>...</td><td>...</td><td>...</td><td>...</td><td>...</td><td>...</td><td>...</td><td>...</td><td>...</td><td>...</td><td>...</td><td>...</td><td>...</td><td>...</td><td>...</td><td>...</td><td>...</td><td>...</td><td>...</td><td>...</td><td>...</td><td>...</td><td>...</td><td>...</td></tr>\n",
       "<tr><td>2034301643373351552</td><td>Gaia DR3 2034301643373351552</td><td>298.7623786233218</td><td>32.77508229858253</td><td>68.90140737140487</td><td>2.395793057559203</td><td>311.27580135300497</td><td>52.17244347723228</td><td>11.85682441305097</td><td>87.33033789154713</td><td>17.821463776842002</td><td>13.786186</td><td>14.983982</td><td>12.698898</td><td>0.009965163</td><td>0.011906442</td><td>0.014219511</td><td>0.0140482485</td><td>0.016318053</td><td>1.0391718</td><td>0.3802</td><td>0.3771</td><td>0.3831</td><td>412.14825</td><td>0.0</td><td>0.0</td><td>1.140451</td><td>48</td><td>3</td><td>417</td><td>0</td><td>420</td><td>31</td><td>0</td><td>0.024179632</td><td>0.5621</td><td>0.5577</td><td>0.5664</td><td>1.1977959</td><td>2.2850838</td><td>5.0961034e-11</td><td>1.0202512e-11</td><td>1.0000273e-06</td><td>0.066268764</td><td>-0.27457407</td><td>0.0131794205</td><td>nan</td><td>84.3421</td><td>84.2321</td><td>84.4524</td><td>0</td><td>0.2286</td><td>0.2267</td><td>0.2304</td><td>1.0872879</td><td>12.153286</td><td>0.020140074</td><td>15</td><td>1</td><td>0</td><td>1</td><td>1</td><td>0</td><td>1</td><td>1</td><td>0</td><td>0</td><td>0</td><td>0</td><td>0</td><td>0.009074548</td><td>124.66528</td><td>MARCS</td><td>4.7368</td><td>4.7358</td><td>4.7377</td><td>49</td><td>0</td><td>0.0458</td><td>0.04</td><td>0.0524</td><td>19</td><td>0</td><td>1.3093433</td><td>833.8419</td><td>-0.21098822</td><td>-0.046634704</td><td>nan</td><td>13861.944543345453</td><td>16.96677</td><td>817.0055</td><td>0</td><td>0</td><td>48</td><td>1.3864784</td><td>57606.61056306477</td><td>19.748732</td><td>2916.9778</td><td>412</td><td>0</td><td>66008.37655887356</td><td>41.39398</td><td>1594.6372</td><td>0</td><td>0</td><td>46</td><td>VARIABLE</td><td>89.1302</td><td>nan</td><td>-0.25284475</td><td>nan</td><td>nan</td><td>nan</td><td>-0.17122996</td><td>-29.825567</td><td>1.3576379</td><td>816133720</td><td>0.05031699</td><td>-0.0075572496</td><td>-0.102051936</td><td>nan</td><td>2016.0</td><td>nan</td><td>111</td><td>nan</td><td>18.37293</td><td>2</td><td>10</td><td>25</td><td>nan</td><td>nan</td><td>-0.25</td><td>4.5</td><td>3600.0</td><td>831.1393</td><td>20</td><td>-104.622536</td><td>65.892136</td><td>23.303322</td><td>-21.720459</td><td>0.12515868</td><td>0.20916507</td><td>0.10628781</td><td>0.27408543</td><td>1636148068921376768</td><td>3671.741</td><td>3668.35</td><td>3675.3467</td><td>nan</td><td>nan</td><td>-32768</td><td>27</td></tr>\n",
       "<tr><td>2054282552752609152</td><td>Gaia DR3 2054282552752609152</td><td>304.7620830203901</td><td>31.988871399727014</td><td>70.97368057562481</td><td>-2.293592073867847</td><td>318.4526472679241</td><td>49.74736995986782</td><td>11.081653229068376</td><td>13.018361145132697</td><td>-6.616064482296016</td><td>14.687959</td><td>16.270552</td><td>13.46246</td><td>0.013270208</td><td>0.015234702</td><td>0.019515859</td><td>0.018089518</td><td>0.019138446</td><td>1.1505667</td><td>0.5802</td><td>0.5728</td><td>0.5888</td><td>671.9468</td><td>0.08714039</td><td>3.0267828</td><td>4.711762</td><td>58</td><td>1</td><td>514</td><td>9</td><td>515</td><td>31</td><td>0</td><td>0.028247887</td><td>0.9115</td><td>0.9003</td><td>0.9248</td><td>1.582593</td><td>2.808092</td><td>6.910191e-13</td><td>1.3750302e-13</td><td>0.99648726</td><td>0.12592247</td><td>-0.17528811</td><td>0.064117126</td><td>nan</td><td>90.4204</td><td>90.1918</td><td>90.7184</td><td>0</td><td>0.3824</td><td>0.3779</td><td>0.388</td><td>1.2254992</td><td>12.854251</td><td>0.045773786</td><td>21</td><td>0</td><td>0</td><td>1</td><td>1</td><td>0</td><td>1</td><td>1</td><td>0</td><td>0</td><td>0</td><td>0</td><td>0</td><td>0.0039559645</td><td>116.39324</td><td>MARCS</td><td>4.4721</td><td>4.4398</td><td>4.5534</td><td>60</td><td>0</td><td>-0.3759</td><td>-0.428</td><td>-0.2425</td><td>23</td><td>0</td><td>1.2547262</td><td>567.82806</td><td>-0.12725829</td><td>-0.07347131</td><td>nan</td><td>4238.341724594219</td><td>21.145227</td><td>200.43964</td><td>0</td><td>0</td><td>54</td><td>1.4702234</td><td>25105.18325839136</td><td>18.882082</td><td>1329.577</td><td>525</td><td>0</td><td>32671.887313084117</td><td>51.713707</td><td>631.7839</td><td>1</td><td>0</td><td>56</td><td>NOT_AVAILABLE</td><td>14.603083</td><td>nan</td><td>-0.17646812</td><td>nan</td><td>nan</td><td>nan</td><td>-0.18045795</td><td>-20.767696</td><td>3.5976422</td><td>1568759626</td><td>-0.031673837</td><td>0.074423805</td><td>-0.08954488</td><td>nan</td><td>2016.0</td><td>nan</td><td>101</td><td>nan</td><td>10.524632</td><td>2</td><td>1</td><td>19</td><td>nan</td><td>nan</td><td>0.0</td><td>4.5</td><td>3500.0</td><td>755.6563</td><td>13</td><td>nan</td><td>nan</td><td>nan</td><td>nan</td><td>nan</td><td>nan</td><td>nan</td><td>nan</td><td>1636148068921376768</td><td>3340.9446</td><td>3332.1453</td><td>3357.5605</td><td>nan</td><td>nan</td><td>-32768</td><td>28</td></tr>\n",
       "<tr><td>2059001553591228416</td><td>Gaia DR3 2059001553591228416</td><td>301.86575920257474</td><td>35.28709589933505</td><td>72.39404688589565</td><td>1.5368331137084346</td><td>316.6884260091311</td><td>53.68396682171528</td><td>13.09446433636801</td><td>-23.951334088748908</td><td>-1.9994910861386488</td><td>11.597775</td><td>12.367962</td><td>10.74527</td><td>0.008076026</td><td>0.009212092</td><td>0.01094671</td><td>0.010506838</td><td>0.011633929</td><td>0.9559368</td><td>0.3414</td><td>0.3279</td><td>0.3658</td><td>1033.8131</td><td>0.08774657</td><td>13.032942</td><td>-1.3655518</td><td>57</td><td>7</td><td>493</td><td>500</td><td>500</td><td>31</td><td>1</td><td>0.016433649</td><td>0.4608</td><td>0.4427</td><td>0.4935</td><td>0.7701864</td><td>1.6226921</td><td>5.206294e-13</td><td>1.0423116e-13</td><td>0.9997813</td><td>0.10063054</td><td>-0.10028301</td><td>-0.05829617</td><td>nan</td><td>76.4828</td><td>76.0877</td><td>76.9893</td><td>0</td><td>0.1807</td><td>0.1736</td><td>0.1933</td><td>0.8525057</td><td>10.407598</td><td>0.0073262695</td><td>8</td><td>0</td><td>0</td><td>1</td><td>1</td><td>0</td><td>1</td><td>1</td><td>0</td><td>0</td><td>0</td><td>0</td><td>0</td><td>0.014444839</td><td>171.92061</td><td>MARCS</td><td>4.5978</td><td>4.5903</td><td>4.6096</td><td>58</td><td>0</td><td>0.5044</td><td>0.4679</td><td>0.714</td><td>23</td><td>0</td><td>1.397031</td><td>1196.2009</td><td>-0.046405327</td><td>-0.09212987</td><td>nan</td><td>154252.41351630513</td><td>122.13522</td><td>1262.9642</td><td>0</td><td>0</td><td>55</td><td>1.2798018</td><td>432351.03556530183</td><td>110.84116</td><td>3900.636</td><td>491</td><td>0</td><td>399071.2195505415</td><td>196.31963</td><td>2032.7627</td><td>0</td><td>0</td><td>52</td><td>NOT_AVAILABLE</td><td>24.034649</td><td>nan</td><td>-0.108496234</td><td>nan</td><td>nan</td><td>nan</td><td>-0.097610496</td><td>-46.526405</td><td>0.28635037</td><td>441325579</td><td>0.07851685</td><td>-0.051394228</td><td>-0.07977454</td><td>nan</td><td>2016.0</td><td>4.3017235</td><td>440</td><td>0.879854</td><td>60.120934</td><td>1</td><td>10</td><td>20</td><td>-1.2110116</td><td>nan</td><td>0.0</td><td>4.5</td><td>4250.0</td><td>830.13635</td><td>16</td><td>nan</td><td>nan</td><td>nan</td><td>nan</td><td>nan</td><td>nan</td><td>nan</td><td>nan</td><td>1636148068921376768</td><td>4396.291</td><td>4381.5693</td><td>4448.4053</td><td>5.8007793</td><td>4.0929065</td><td>8</td><td>29</td></tr>\n",
       "<tr><td>2059462489483177728</td><td>Gaia DR3 2059462489483177728</td><td>300.7897134408575</td><td>35.74189204911495</td><td>72.30933055293126</td><td>2.520091907668836</td><td>315.5649995339572</td><td>54.41816277861203</td><td>14.829002685481585</td><td>32.93534582977597</td><td>52.96005465090819</td><td>14.953999</td><td>nan</td><td>nan</td><td>0.052722</td><td>0.035969708</td><td>0.04695515</td><td>0.062392086</td><td>0.044311896</td><td>1.1735846</td><td>nan</td><td>nan</td><td>nan</td><td>980.1159</td><td>0.3775255</td><td>28.979752</td><td>3.806866</td><td>30</td><td>3</td><td>256</td><td>0</td><td>259</td><td>95</td><td>0</td><td>0.08921098</td><td>nan</td><td>nan</td><td>nan</td><td>nan</td><td>nan</td><td>nan</td><td>nan</td><td>nan</td><td>0.09351523</td><td>-0.23092727</td><td>-0.041645717</td><td>0.019915277</td><td>nan</td><td>nan</td><td>nan</td><td>0</td><td>nan</td><td>nan</td><td>nan</td><td>nan</td><td>nan</td><td>nan</td><td>-32768</td><td>0</td><td>0</td><td>0</td><td>0</td><td>0</td><td>0</td><td>0</td><td>0</td><td>0</td><td>0</td><td>0</td><td>62</td><td>0.017801845</td><td>1.7959647</td><td></td><td>nan</td><td>nan</td><td>nan</td><td>53</td><td>1</td><td>nan</td><td>nan</td><td>nan</td><td>20</td><td>0</td><td>nan</td><td>315.81207</td><td>-0.20182246</td><td>-0.06306886</td><td>-0.05683744</td><td>nan</td><td>nan</td><td>nan</td><td>-32768</td><td>-32768</td><td>0</td><td>nan</td><td>19649.31519600886</td><td>24.775072</td><td>793.1083</td><td>267</td><td>2</td><td>nan</td><td>nan</td><td>nan</td><td>-32768</td><td>-32768</td><td>0</td><td>NOT_AVAILABLE</td><td>62.36589</td><td>0.0270474</td><td>0.1735403</td><td>-0.06360674</td><td>1.2803578</td><td>0.011153033</td><td>0.19269992</td><td>-51.454723</td><td>6.469384</td><td>41159067</td><td>-0.09973554</td><td>-0.009749228</td><td>-0.2728851</td><td>-0.03625052</td><td>2016.0</td><td>nan</td><td>0</td><td>nan</td><td>4.5126715</td><td>2</td><td>4</td><td>4</td><td>nan</td><td>nan</td><td>0.0</td><td>4.5</td><td>5500.0</td><td>752.9176</td><td>4</td><td>-12.0317</td><td>-14.200387</td><td>-24.731844</td><td>-18.273195</td><td>0.090666614</td><td>0.37830785</td><td>0.12930954</td><td>0.06014694</td><td>1636148068921376768</td><td>nan</td><td>nan</td><td>nan</td><td>nan</td><td>nan</td><td>-32768</td><td>18</td></tr>\n",
       "<tr><td>2059978607114475904</td><td>Gaia DR3 2059978607114475904</td><td>301.75008282209984</td><td>36.63425728279428</td><td>73.4788500906265</td><td>2.341928577386158</td><td>317.36946277481087</td><td>54.974681368908875</td><td>29.024639243856928</td><td>147.22853436343718</td><td>49.42028751091295</td><td>14.61454</td><td>16.41305</td><td>13.344746</td><td>0.015003244</td><td>0.016230278</td><td>0.019857716</td><td>0.019857408</td><td>0.02057611</td><td>1.0675818</td><td>0.0002</td><td>0.0</td><td>0.0066</td><td>512.0963</td><td>0.088955306</td><td>2.8292844</td><td>1.9350533</td><td>48</td><td>0</td><td>414</td><td>0</td><td>414</td><td>31</td><td>0</td><td>0.028671544</td><td>0.0003</td><td>0.0</td><td>0.0108</td><td>1.7985096</td><td>3.068304</td><td>5.4044394e-13</td><td>1.0819808e-13</td><td>0.9993886</td><td>0.21885708</td><td>-0.16468087</td><td>-0.112148374</td><td>nan</td><td>34.3946</td><td>34.3446</td><td>34.7547</td><td>0</td><td>1e-04</td><td>0.0</td><td>0.0047</td><td>1.2697945</td><td>12.792109</td><td>0.029867196</td><td>14</td><td>0</td><td>0</td><td>1</td><td>1</td><td>0</td><td>1</td><td>1</td><td>0</td><td>0</td><td>0</td><td>0</td><td>0</td><td>0.007994477</td><td>33.256886</td><td>MARCS</td><td>5.0484</td><td>5.0445</td><td>5.049</td><td>51</td><td>0</td><td>-0.1667</td><td>-0.1693</td><td>-0.1566</td><td>22</td><td>0</td><td>1.235332</td><td>1461.6304</td><td>-0.048957147</td><td>-0.1687911</td><td>nan</td><td>3717.0389851693612</td><td>13.913731</td><td>267.149</td><td>0</td><td>0</td><td>46</td><td>1.4939703</td><td>26861.53463526821</td><td>13.508732</td><td>1988.4572</td><td>425</td><td>0</td><td>36413.29671239748</td><td>35.04138</td><td>1039.1512</td><td>0</td><td>1</td><td>46</td><td>NOT_AVAILABLE</td><td>155.30167</td><td>nan</td><td>-0.019468825</td><td>nan</td><td>nan</td><td>nan</td><td>-0.03601797</td><td>-37.38453</td><td>2.2412527</td><td>1073026845</td><td>0.06593788</td><td>-0.07794281</td><td>-0.05891279</td><td>nan</td><td>2016.0</td><td>nan</td><td>111</td><td>nan</td><td>11.310711</td><td>2</td><td>5</td><td>18</td><td>nan</td><td>nan</td><td>-1.0</td><td>2.0</td><td>3400.0</td><td>885.6216</td><td>17</td><td>-113.18686</td><td>62.492916</td><td>17.696123</td><td>-15.680233</td><td>0.12320565</td><td>0.06862438</td><td>0.04819352</td><td>0.24116507</td><td>1636148068921376768</td><td>3087.3518</td><td>3086.811</td><td>3089.9275</td><td>nan</td><td>nan</td><td>-32768</td><td>29</td></tr>\n",
       "<tr><td>2033444569713022976</td><td>Gaia DR3 2033444569713022976</td><td>298.42186710489557</td><td>30.929320248227345</td><td>67.16916897882216</td><td>1.6931653442622527</td><td>309.93410019819754</td><td>50.50265377235635</td><td>13.573774219489795</td><td>51.524428402751695</td><td>-1.5228070633307023</td><td>14.387217</td><td>15.791083</td><td>13.18463</td><td>0.011958547</td><td>0.015297727</td><td>0.017575609</td><td>0.015597404</td><td>0.018669896</td><td>1.1018595</td><td>nan</td><td>nan</td><td>nan</td><td>529.3826</td><td>0.06653238</td><td>1.9023917</td><td>3.0415797</td><td>54</td><td>1</td><td>459</td><td>0</td><td>460</td><td>31</td><td>0</td><td>0.026339125</td><td>nan</td><td>nan</td><td>nan</td><td>1.4038668</td><td>2.606453</td><td>6.272884e-13</td><td>1.2558453e-13</td><td>0.9976672</td><td>0.0033758804</td><td>-0.25086433</td><td>-0.042162303</td><td>nan</td><td>nan</td><td>nan</td><td>nan</td><td>0</td><td>nan</td><td>nan</td><td>nan</td><td>1.2025862</td><td>12.578424</td><td>0.047588307</td><td>4</td><td>0</td><td>0</td><td>0</td><td>1</td><td>0</td><td>1</td><td>1</td><td>0</td><td>0</td><td>0</td><td>0</td><td>0</td><td>0.008569466</td><td>177.74112</td><td></td><td>nan</td><td>nan</td><td>nan</td><td>56</td><td>0</td><td>nan</td><td>nan</td><td>nan</td><td>22</td><td>0</td><td>1.2756811</td><td>772.3075</td><td>-0.0115585225</td><td>-0.1268836</td><td>nan</td><td>6591.490923105693</td><td>29.210533</td><td>225.65459</td><td>26</td><td>2</td><td>45</td><td>1.4732573</td><td>33117.692134006844</td><td>14.160224</td><td>2338.783</td><td>476</td><td>0</td><td>42199.39117471803</td><td>116.72756</td><td>361.52036</td><td>36</td><td>1</td><td>53</td><td>NOT_AVAILABLE</td><td>51.54693</td><td>nan</td><td>-0.07610521</td><td>nan</td><td>nan</td><td>nan</td><td>-0.1341944</td><td>-56.34137</td><td>3.3725271</td><td>328923082</td><td>0.04829481</td><td>-0.025731968</td><td>-0.02857243</td><td>nan</td><td>2016.0</td><td>nan</td><td>111</td><td>nan</td><td>10.123083</td><td>2</td><td>12</td><td>15</td><td>nan</td><td>nan</td><td>-0.5</td><td>1.5</td><td>3500.0</td><td>919.8633</td><td>13</td><td>-87.787384</td><td>75.67113</td><td>18.729559</td><td>-24.622047</td><td>0.20901486</td><td>0.24135917</td><td>0.06968151</td><td>0.23857811</td><td>1636148068921376768</td><td>nan</td><td>nan</td><td>nan</td><td>nan</td><td>nan</td><td>-32768</td><td>29</td></tr>\n",
       "<tr><td>2059837285515779968</td><td>Gaia DR3 2059837285515779968</td><td>300.9803106012917</td><td>35.86345304918291</td><td>72.49462850600536</td><td>2.4537463617501976</td><td>315.88734441434127</td><td>54.47769722498564</td><td>14.935708571112066</td><td>69.87634856694531</td><td>20.581501805915252</td><td>10.975097</td><td>11.605781</td><td>10.218264</td><td>0.008054642</td><td>0.010799715</td><td>0.011156121</td><td>0.010520113</td><td>0.013288816</td><td>0.89779997</td><td>0.1189</td><td>0.116</td><td>0.1213</td><td>763.5758</td><td>0.075927526</td><td>8.315663</td><td>-2.955541</td><td>47</td><td>0</td><td>415</td><td>415</td><td>415</td><td>31</td><td>0</td><td>0.018704332</td><td>0.1563</td><td>0.1525</td><td>0.1595</td><td>0.6306839</td><td>1.387517</td><td>5.1701146e-13</td><td>1.03506843e-13</td><td>0.999853</td><td>-0.011925918</td><td>-0.27118117</td><td>0.008470302</td><td>nan</td><td>66.8153</td><td>66.7432</td><td>66.879</td><td>0</td><td>0.0621</td><td>0.0606</td><td>0.0634</td><td>0.7568331</td><td>9.920086</td><td>0.005979037</td><td>3</td><td>0</td><td>0</td><td>1</td><td>1</td><td>0</td><td>1</td><td>1</td><td>0</td><td>0</td><td>0</td><td>1</td><td>0</td><td>0.006510906</td><td>34.407322</td><td>MARCS</td><td>4.6413</td><td>4.638</td><td>4.645</td><td>49</td><td>1</td><td>0.3813</td><td>0.3721</td><td>0.3903</td><td>20</td><td>0</td><td>1.4371054</td><td>1338.7904</td><td>0.0010701035</td><td>-0.1206077</td><td>nan</td><td>311246.5052669334</td><td>272.53915</td><td>1142.0249</td><td>0</td><td>0</td><td>46</td><td>1.250863</td><td>767198.9790499965</td><td>198.13455</td><td>3872.111</td><td>419</td><td>0</td><td>648414.3082213204</td><td>401.02127</td><td>1616.9075</td><td>0</td><td>0</td><td>44</td><td>NOT_AVAILABLE</td><td>72.84437</td><td>nan</td><td>-0.0020363175</td><td>nan</td><td>nan</td><td>nan</td><td>-0.10763988</td><td>-20.512676</td><td>0.31773904</td><td>294530935</td><td>-0.09090592</td><td>0.03733216</td><td>0.029710397</td><td>nan</td><td>2016.0</td><td>3.1519585</td><td>444</td><td>0.20979784</td><td>69.86678</td><td>1</td><td>11</td><td>15</td><td>0.7290454</td><td>nan</td><td>-0.25</td><td>5.0</td><td>4250.0</td><td>782.90454</td><td>13</td><td>nan</td><td>nan</td><td>nan</td><td>nan</td><td>nan</td><td>nan</td><td>nan</td><td>nan</td><td>1636148068921376768</td><td>4544.8003</td><td>4541.401</td><td>4547.553</td><td>nan</td><td>nan</td><td>-32768</td><td>27</td></tr>\n",
       "<tr><td>2035183722247684480</td><td>Gaia DR3 2035183722247684480</td><td>298.2229638165936</td><td>33.87329390135136</td><td>69.61334105504545</td><td>3.346391764461318</td><td>311.1377268780705</td><td>53.356599479060094</td><td>14.93878685905849</td><td>157.86403454773557</td><td>91.51240611815219</td><td>11.690868</td><td>12.482724</td><td>10.793976</td><td>0.05674849</td><td>0.0672982</td><td>0.07766906</td><td>0.073189</td><td>0.08463676</td><td>6.4700384</td><td>nan</td><td>nan</td><td>nan</td><td>36817.926</td><td>0.84506273</td><td>1000.22986</td><td>106.85817</td><td>49</td><td>5</td><td>420</td><td>425</td><td>425</td><td>31</td><td>0</td><td>0.12215837</td><td>nan</td><td>nan</td><td>nan</td><td>0.7918558</td><td>1.6887484</td><td>6.868207e-13</td><td>1.3750302e-13</td><td>0.99648726</td><td>0.14772286</td><td>-0.1777933</td><td>-3.059309e-05</td><td>nan</td><td>nan</td><td>nan</td><td>nan</td><td>0</td><td>nan</td><td>nan</td><td>nan</td><td>0.89689255</td><td>10.430144</td><td>0.009430699</td><td>8</td><td>0</td><td>0</td><td>0</td><td>1</td><td>0</td><td>1</td><td>1</td><td>0</td><td>0</td><td>0</td><td>36</td><td>0</td><td>0.058057256</td><td>82.13076</td><td></td><td>nan</td><td>nan</td><td>nan</td><td>51</td><td>1</td><td>nan</td><td>nan</td><td>nan</td><td>21</td><td>0</td><td>1.388492</td><td>192.33897</td><td>-0.037322395</td><td>-0.030570675</td><td>nan</td><td>138780.1353619709</td><td>79.8773</td><td>1737.4165</td><td>16</td><td>0</td><td>49</td><td>1.3112683</td><td>396825.26839774556</td><td>280.41107</td><td>1415.1555</td><td>436</td><td>0</td><td>381564.2861014198</td><td>121.53139</td><td>3139.6357</td><td>0</td><td>0</td><td>49</td><td>NOT_AVAILABLE</td><td>182.47075</td><td>nan</td><td>-0.18578075</td><td>nan</td><td>nan</td><td>nan</td><td>-0.15683027</td><td>-33.03952</td><td>0.5646127</td><td>1325124460</td><td>-0.01924277</td><td>0.0048664003</td><td>-0.13918385</td><td>nan</td><td>2016.0</td><td>6.92601</td><td>111</td><td>0.07266124</td><td>52.196384</td><td>1</td><td>9</td><td>17</td><td>1.4402546</td><td>nan</td><td>0.5</td><td>4.0</td><td>4250.0</td><td>860.551</td><td>13</td><td>nan</td><td>nan</td><td>nan</td><td>nan</td><td>nan</td><td>nan</td><td>nan</td><td>nan</td><td>1636148068921376768</td><td>nan</td><td>nan</td><td>nan</td><td>6.39507</td><td>4.4145494</td><td>8</td><td>27</td></tr>\n",
       "<tr><td>2035425550406344576</td><td>Gaia DR3 2035425550406344576</td><td>297.2631067471579</td><td>34.127136047400825</td><td>69.42834519473148</td><td>4.160995632583034</td><td>309.99713279947434</td><td>53.84607534904542</td><td>11.891008209254606</td><td>38.390074646489325</td><td>-126.49050786533523</td><td>10.839737</td><td>11.332459</td><td>10.187702</td><td>0.0071775215</td><td>0.008620926</td><td>0.01001404</td><td>0.00981448</td><td>0.011171345</td><td>0.8266074</td><td>0.0374</td><td>0.0326</td><td>0.0429</td><td>619.94666</td><td>0.046185195</td><td>3.0438178</td><td>-5.3067555</td><td>52</td><td>6</td><td>449</td><td>455</td><td>455</td><td>31</td><td>1</td><td>0.015586758</td><td>0.0473</td><td>0.0413</td><td>0.0543</td><td>0.4927225</td><td>1.1447573</td><td>5.67615e-13</td><td>1.13637784e-13</td><td>0.99885</td><td>0.04003543</td><td>-0.1905546</td><td>0.052597173</td><td>nan</td><td>83.8777</td><td>83.7757</td><td>83.9667</td><td>0</td><td>0.0197</td><td>0.0172</td><td>0.0227</td><td>0.65203476</td><td>9.942097</td><td>0.009540287</td><td>8</td><td>0</td><td>0</td><td>1</td><td>1</td><td>0</td><td>1</td><td>1</td><td>0</td><td>0</td><td>0</td><td>1</td><td>0</td><td>0.012532104</td><td>109.254585</td><td>MARCS</td><td>4.5668</td><td>4.5654</td><td>4.5684</td><td>55</td><td>1</td><td>-0.0903</td><td>-0.0963</td><td>-0.0832</td><td>21</td><td>0</td><td>1.4836718</td><td>1187.4336</td><td>-0.031440213</td><td>-0.21706562</td><td>nan</td><td>400343.92731776834</td><td>160.43217</td><td>2495.4092</td><td>0</td><td>0</td><td>44</td><td>1.2280669</td><td>869064.6050740421</td><td>95.80251</td><td>9071.418</td><td>445</td><td>0</td><td>666925.5683314223</td><td>201.60002</td><td>3308.162</td><td>0</td><td>0</td><td>44</td><td>NOT_AVAILABLE</td><td>132.18793</td><td>nan</td><td>-0.01845112</td><td>nan</td><td>nan</td><td>nan</td><td>-0.07386835</td><td>-7.6453314</td><td>0.25859824</td><td>1505142526</td><td>0.016921168</td><td>0.06626769</td><td>-0.078522906</td><td>nan</td><td>2016.0</td><td>2.5499687</td><td>444</td><td>0.39901432</td><td>69.69961</td><td>1</td><td>8</td><td>17</td><td>-0.20635214</td><td>nan</td><td>0.25</td><td>5.0</td><td>4750.0</td><td>887.7974</td><td>14</td><td>nan</td><td>nan</td><td>nan</td><td>nan</td><td>nan</td><td>nan</td><td>nan</td><td>nan</td><td>1636148068921376768</td><td>4847.42</td><td>4841.4946</td><td>4854.514</td><td>nan</td><td>nan</td><td>-32768</td><td>28</td></tr>\n",
       "<tr><td>2029979424455971968</td><td>Gaia DR3 2029979424455971968</td><td>302.5306390850557</td><td>31.138820354728992</td><td>69.21169335775886</td><td>-1.1819781671804899</td><td>315.24289622692913</td><td>49.59562663560968</td><td>13.784052533908653</td><td>-12.346197956788465</td><td>126.1697702887476</td><td>10.25449</td><td>10.681932</td><td>9.660746</td><td>0.0075998</td><td>0.01050445</td><td>0.012437805</td><td>0.010707222</td><td>0.013180698</td><td>0.92496026</td><td>0.142</td><td>0.1366</td><td>0.1455</td><td>982.6176</td><td>0.082516074</td><td>11.382767</td><td>-2.3631186</td><td>57</td><td>8</td><td>497</td><td>505</td><td>505</td><td>31</td><td>1</td><td>0.018995605</td><td>0.1746</td><td>0.168</td><td>0.1789</td><td>0.42744255</td><td>1.0211868</td><td>5.4769237e-13</td><td>1.0964923e-13</td><td>0.9992449</td><td>0.2023214</td><td>-0.118392915</td><td>-0.027056975</td><td>nan</td><td>72.3708</td><td>72.2596</td><td>72.4815</td><td>0</td><td>0.0757</td><td>0.0728</td><td>0.0776</td><td>0.5937443</td><td>9.424697</td><td>0.0063085333</td><td>20</td><td>0</td><td>0</td><td>1</td><td>1</td><td>0</td><td>1</td><td>1</td><td>0</td><td>0</td><td>0</td><td>0</td><td>0</td><td>0.010538498</td><td>4.7458816</td><td>MARCS</td><td>4.6331</td><td>4.6291</td><td>4.6378</td><td>59</td><td>0</td><td>-0.2076</td><td>-0.2161</td><td>-0.2022</td><td>21</td><td>0</td><td>1.5116041</td><td>1108.2384</td><td>-0.13102788</td><td>-0.060626943</td><td>nan</td><td>728859.7268203705</td><td>205.96231</td><td>3538.8015</td><td>0</td><td>0</td><td>56</td><td>1.2165005</td><td>1489877.8001503947</td><td>220.39502</td><td>6760.0337</td><td>484</td><td>0</td><td>1083577.4787978665</td><td>183.57689</td><td>5902.581</td><td>0</td><td>0</td><td>57</td><td>NOT_AVAILABLE</td><td>126.77239</td><td>nan</td><td>-0.22528037</td><td>nan</td><td>nan</td><td>nan</td><td>-0.27647617</td><td>-41.607918</td><td>0.21735157</td><td>1354055816</td><td>-0.18497989</td><td>0.014806408</td><td>0.03220659</td><td>nan</td><td>2016.0</td><td>3.3664436</td><td>440</td><td>0.024027355</td><td>118.52284</td><td>1</td><td>1</td><td>25</td><td>1.2414001</td><td>nan</td><td>0.0</td><td>4.5</td><td>5000.0</td><td>889.87787</td><td>19</td><td>nan</td><td>nan</td><td>nan</td><td>nan</td><td>nan</td><td>nan</td><td>nan</td><td>nan</td><td>1636148068921376768</td><td>5278.4976</td><td>5269.0825</td><td>5284.668</td><td>8.802268</td><td>3.0939498</td><td>20</td><td>28</td></tr>\n",
       "</table>"
      ],
      "text/plain": [
       "<Table length=167020>\n",
       "     source_id              designation          ... visibility_periods_used\n",
       "       int64                   str28             ...          int16         \n",
       "------------------- ---------------------------- ... -----------------------\n",
       "4274742093156324992 Gaia DR3 4274742093156324992 ...                      15\n",
       "4276262649008911104 Gaia DR3 4276262649008911104 ...                      17\n",
       "4276451009095328384 Gaia DR3 4276451009095328384 ...                      15\n",
       "4275035181723288704 Gaia DR3 4275035181723288704 ...                      15\n",
       "4275035697119244928 Gaia DR3 4275035697119244928 ...                      17\n",
       "4275012985332019456 Gaia DR3 4275012985332019456 ...                      17\n",
       "4274925505435880704 Gaia DR3 4274925505435880704 ...                      17\n",
       "4089959229840452224 Gaia DR3 4089959229840452224 ...                      15\n",
       "4276544364505658752 Gaia DR3 4276544364505658752 ...                      14\n",
       "4090595434755427840 Gaia DR3 4090595434755427840 ...                      15\n",
       "                ...                          ... ...                     ...\n",
       "2034301643373351552 Gaia DR3 2034301643373351552 ...                      27\n",
       "2054282552752609152 Gaia DR3 2054282552752609152 ...                      28\n",
       "2059001553591228416 Gaia DR3 2059001553591228416 ...                      29\n",
       "2059462489483177728 Gaia DR3 2059462489483177728 ...                      18\n",
       "2059978607114475904 Gaia DR3 2059978607114475904 ...                      29\n",
       "2033444569713022976 Gaia DR3 2033444569713022976 ...                      29\n",
       "2059837285515779968 Gaia DR3 2059837285515779968 ...                      27\n",
       "2035183722247684480 Gaia DR3 2035183722247684480 ...                      27\n",
       "2035425550406344576 Gaia DR3 2035425550406344576 ...                      28\n",
       "2029979424455971968 Gaia DR3 2029979424455971968 ...                      28"
      ]
     },
     "execution_count": 22,
     "metadata": {},
     "output_type": "execute_result"
    }
   ],
   "source": [
    "GSample_A"
   ]
  },
  {
   "cell_type": "code",
   "execution_count": 21,
   "id": "8a52931d",
   "metadata": {},
   "outputs": [
    {
     "ename": "KeyError",
     "evalue": "'bp - rp'",
     "output_type": "error",
     "traceback": [
      "\u001b[0;31m---------------------------------------------------------------------------\u001b[0m",
      "\u001b[0;31mKeyError\u001b[0m                                  Traceback (most recent call last)",
      "\u001b[0;32m<ipython-input-21-e5217367fc52>\u001b[0m in \u001b[0;36m<module>\u001b[0;34m\u001b[0m\n\u001b[1;32m     12\u001b[0m \u001b[0;31m#median distanc\u001b[0m\u001b[0;34m\u001b[0m\u001b[0;34m\u001b[0m\u001b[0;34m\u001b[0m\u001b[0m\n\u001b[1;32m     13\u001b[0m \u001b[0;31m#print(Rp)\u001b[0m\u001b[0;34m\u001b[0m\u001b[0;34m\u001b[0m\u001b[0;34m\u001b[0m\u001b[0m\n\u001b[0;32m---> 14\u001b[0;31m \u001b[0mBp_Rp\u001b[0m \u001b[0;34m=\u001b[0m \u001b[0mnp\u001b[0m\u001b[0;34m.\u001b[0m\u001b[0masarray\u001b[0m\u001b[0;34m(\u001b[0m\u001b[0mGSample_A\u001b[0m\u001b[0;34m[\u001b[0m\u001b[0;34m'bp - rp'\u001b[0m\u001b[0;34m]\u001b[0m\u001b[0;34m)\u001b[0m\u001b[0;34m\u001b[0m\u001b[0;34m\u001b[0m\u001b[0m\n\u001b[0m\u001b[1;32m     15\u001b[0m \u001b[0;31m#print(Bp)\u001b[0m\u001b[0;34m\u001b[0m\u001b[0;34m\u001b[0m\u001b[0;34m\u001b[0m\u001b[0m\n\u001b[1;32m     16\u001b[0m \u001b[0mvtan\u001b[0m \u001b[0;34m=\u001b[0m \u001b[0;34m(\u001b[0m\u001b[0;36m4.74\u001b[0m\u001b[0;34m/\u001b[0m\u001b[0mplx\u001b[0m\u001b[0;34m)\u001b[0m\u001b[0;34m*\u001b[0m\u001b[0mpmtot\u001b[0m\u001b[0;34m\u001b[0m\u001b[0;34m\u001b[0m\u001b[0m\n",
      "\u001b[0;32m/opt/anaconda3/lib/python3.8/site-packages/astropy/table/table.py\u001b[0m in \u001b[0;36m__getitem__\u001b[0;34m(self, item)\u001b[0m\n\u001b[1;32m   1652\u001b[0m     \u001b[0;32mdef\u001b[0m \u001b[0m__getitem__\u001b[0m\u001b[0;34m(\u001b[0m\u001b[0mself\u001b[0m\u001b[0;34m,\u001b[0m \u001b[0mitem\u001b[0m\u001b[0;34m)\u001b[0m\u001b[0;34m:\u001b[0m\u001b[0;34m\u001b[0m\u001b[0;34m\u001b[0m\u001b[0m\n\u001b[1;32m   1653\u001b[0m         \u001b[0;32mif\u001b[0m \u001b[0misinstance\u001b[0m\u001b[0;34m(\u001b[0m\u001b[0mitem\u001b[0m\u001b[0;34m,\u001b[0m \u001b[0mstr\u001b[0m\u001b[0;34m)\u001b[0m\u001b[0;34m:\u001b[0m\u001b[0;34m\u001b[0m\u001b[0;34m\u001b[0m\u001b[0m\n\u001b[0;32m-> 1654\u001b[0;31m             \u001b[0;32mreturn\u001b[0m \u001b[0mself\u001b[0m\u001b[0;34m.\u001b[0m\u001b[0mcolumns\u001b[0m\u001b[0;34m[\u001b[0m\u001b[0mitem\u001b[0m\u001b[0;34m]\u001b[0m\u001b[0;34m\u001b[0m\u001b[0;34m\u001b[0m\u001b[0m\n\u001b[0m\u001b[1;32m   1655\u001b[0m         \u001b[0;32melif\u001b[0m \u001b[0misinstance\u001b[0m\u001b[0;34m(\u001b[0m\u001b[0mitem\u001b[0m\u001b[0;34m,\u001b[0m \u001b[0;34m(\u001b[0m\u001b[0mint\u001b[0m\u001b[0;34m,\u001b[0m \u001b[0mnp\u001b[0m\u001b[0;34m.\u001b[0m\u001b[0minteger\u001b[0m\u001b[0;34m)\u001b[0m\u001b[0;34m)\u001b[0m\u001b[0;34m:\u001b[0m\u001b[0;34m\u001b[0m\u001b[0;34m\u001b[0m\u001b[0m\n\u001b[1;32m   1656\u001b[0m             \u001b[0;32mreturn\u001b[0m \u001b[0mself\u001b[0m\u001b[0;34m.\u001b[0m\u001b[0mRow\u001b[0m\u001b[0;34m(\u001b[0m\u001b[0mself\u001b[0m\u001b[0;34m,\u001b[0m \u001b[0mitem\u001b[0m\u001b[0;34m)\u001b[0m\u001b[0;34m\u001b[0m\u001b[0;34m\u001b[0m\u001b[0m\n",
      "\u001b[0;32m/opt/anaconda3/lib/python3.8/site-packages/astropy/table/table.py\u001b[0m in \u001b[0;36m__getitem__\u001b[0;34m(self, item)\u001b[0m\n\u001b[1;32m    237\u001b[0m         \"\"\"\n\u001b[1;32m    238\u001b[0m         \u001b[0;32mif\u001b[0m \u001b[0misinstance\u001b[0m\u001b[0;34m(\u001b[0m\u001b[0mitem\u001b[0m\u001b[0;34m,\u001b[0m \u001b[0mstr\u001b[0m\u001b[0;34m)\u001b[0m\u001b[0;34m:\u001b[0m\u001b[0;34m\u001b[0m\u001b[0;34m\u001b[0m\u001b[0m\n\u001b[0;32m--> 239\u001b[0;31m             \u001b[0;32mreturn\u001b[0m \u001b[0mOrderedDict\u001b[0m\u001b[0;34m.\u001b[0m\u001b[0m__getitem__\u001b[0m\u001b[0;34m(\u001b[0m\u001b[0mself\u001b[0m\u001b[0;34m,\u001b[0m \u001b[0mitem\u001b[0m\u001b[0;34m)\u001b[0m\u001b[0;34m\u001b[0m\u001b[0;34m\u001b[0m\u001b[0m\n\u001b[0m\u001b[1;32m    240\u001b[0m         \u001b[0;32melif\u001b[0m \u001b[0misinstance\u001b[0m\u001b[0;34m(\u001b[0m\u001b[0mitem\u001b[0m\u001b[0;34m,\u001b[0m \u001b[0;34m(\u001b[0m\u001b[0mint\u001b[0m\u001b[0;34m,\u001b[0m \u001b[0mnp\u001b[0m\u001b[0;34m.\u001b[0m\u001b[0minteger\u001b[0m\u001b[0;34m)\u001b[0m\u001b[0;34m)\u001b[0m\u001b[0;34m:\u001b[0m\u001b[0;34m\u001b[0m\u001b[0;34m\u001b[0m\u001b[0m\n\u001b[1;32m    241\u001b[0m             \u001b[0;32mreturn\u001b[0m \u001b[0mlist\u001b[0m\u001b[0;34m(\u001b[0m\u001b[0mself\u001b[0m\u001b[0;34m.\u001b[0m\u001b[0mvalues\u001b[0m\u001b[0;34m(\u001b[0m\u001b[0;34m)\u001b[0m\u001b[0;34m)\u001b[0m\u001b[0;34m[\u001b[0m\u001b[0mitem\u001b[0m\u001b[0;34m]\u001b[0m\u001b[0;34m\u001b[0m\u001b[0;34m\u001b[0m\u001b[0m\n",
      "\u001b[0;31mKeyError\u001b[0m: 'bp - rp'"
     ]
    }
   ],
   "source": [
    "#radial velocity\n",
    "Rvel = np.asarray(GSample_A[\"radial_velocity\"])\n",
    "#print(Rvel)\n",
    "#median x velocity\n",
    "PMD = np.asarray(GSample_A['pmdec'])\n",
    "#print(PMD)\n",
    "#proper motion RA\n",
    "PMR = np.asarray(GSample_A['pmra'])\n",
    "pmtot = np.sqrt(PMR**2+PMD**2)\n",
    "#parallax\n",
    "plx = np.asarray(GSample_A['parallax'])\n",
    "#median distanc\n",
    "#print(Rp)\n",
    "Bp_Rp = np.asarray(GSample_A['bp - rp'])\n",
    "#print(Bp)\n",
    "vtan = (4.74/plx)*pmtot\n",
    "vtot = (np.sqrt(vtan**2+rv**2))\n",
    "c1 = 0.9779*10**9\n",
    "c2 = 4.74047\n"
   ]
  },
  {
   "cell_type": "code",
   "execution_count": null,
   "id": "53a91088",
   "metadata": {},
   "outputs": [],
   "source": [
    "def value(s):\n",
    "    try:\n",
    "        return float(s)\n",
    "    except ValueError:\n",
    "        return 0"
   ]
  },
  {
   "cell_type": "code",
   "execution_count": null,
   "id": "1d9f563c",
   "metadata": {},
   "outputs": [],
   "source": [
    "data = np.loadtxt('/Users/edm/Desktop/Gaia Data/EEM_dwarf_UBVIJHK_colors_Teff.txt', usecols=(11), comments='#', dtype='str',  converters={11: value})\n",
    "#does not print with ... so hd to replace with 0's"
   ]
  },
  {
   "cell_type": "code",
   "execution_count": null,
   "id": "fe232a38",
   "metadata": {},
   "outputs": [],
   "source": [
    "data = data.astype('float64')"
   ]
  },
  {
   "cell_type": "code",
   "execution_count": null,
   "id": "fc7fdef7",
   "metadata": {},
   "outputs": [],
   "source": [
    "print(data)\n",
    "len(data)"
   ]
  },
  {
   "cell_type": "code",
   "execution_count": null,
   "id": "ff648943",
   "metadata": {},
   "outputs": [],
   "source": [
    "def value2(s2):\n",
    "    try:\n",
    "        return float(s2)\n",
    "    except ValueError:\n",
    "        return 0"
   ]
  },
  {
   "cell_type": "code",
   "execution_count": null,
   "id": "9bca8adc",
   "metadata": {},
   "outputs": [],
   "source": [
    "data2 = np.loadtxt('/Users/edm/Desktop/Gaia Data/EEM_dwarf_UBVIJHK_colors_Teff.txt',usecols=(30), comments='#',dtype='str',  converters={30: value2})\n"
   ]
  },
  {
   "cell_type": "code",
   "execution_count": null,
   "id": "0cdacc30",
   "metadata": {},
   "outputs": [],
   "source": [
    "data2 = data2.astype('float64')\n",
    "data21 = np.asarray(data2)\n",
    "data11 = np.asarray(data)\n",
    "new_data = data21[6 : 69]\n",
    "print(new_data)\n",
    "len(new_data)\n",
    "\n",
    "new_data2 = data11[24 : 87]\n",
    "print(new_data2)\n",
    "len(new_data2)"
   ]
  },
  {
   "cell_type": "code",
   "execution_count": null,
   "id": "e65d03c7",
   "metadata": {},
   "outputs": [],
   "source": [
    "#concatanating 1d arrays code does not iterate over float\n",
    "scatter = plt.scatter(new_data2,new_data)"
   ]
  },
  {
   "cell_type": "code",
   "execution_count": null,
   "id": "fbdc86f9",
   "metadata": {},
   "outputs": [],
   "source": [
    "def exponential(x, a, k, b):\n",
    "    return a*np.exp(x*k) + b"
   ]
  },
  {
   "cell_type": "code",
   "execution_count": null,
   "id": "de5e14f8",
   "metadata": {},
   "outputs": [],
   "source": [
    "popt_exponential, pcov_exponential = scipy.optimize.curve_fit(exponential, new_data2, new_data, p0=[1,-0.5, 1])"
   ]
  },
  {
   "cell_type": "code",
   "execution_count": null,
   "id": "ec7a119e",
   "metadata": {},
   "outputs": [],
   "source": [
    "perr_exponential = np.sqrt(np.diag(pcov_exponential))\n",
    "print(\"pre-exponential factor = %0.2f (+/-) %0.2f\" % (popt_exponential[0], perr_exponential[0]))\n",
    "print(\"rate constant = %0.2f (+/-) %0.2f\" % (popt_exponential[1], perr_exponential[1]))"
   ]
  },
  {
   "cell_type": "code",
   "execution_count": null,
   "id": "fd45e725",
   "metadata": {},
   "outputs": [],
   "source": [
    "import matplotlib\n",
    "import matplotlib.pyplot as plt\n",
    "import numpy as np\n",
    "import scipy as scipy\n",
    "from scipy import optimize\n",
    "\n",
    "from matplotlib import gridspec\n",
    "import matplotlib.ticker as ticker\n",
    "%matplotlib inline\n",
    "fig = plt.figure(figsize=(4,3))\n",
    "gs = gridspec.GridSpec(1,1)\n",
    "ax1 = fig.add_subplot(gs[0])\n",
    "\n",
    "ax1.plot(new_data2, new_data, \"ro\")\n",
    "ax1.plot(new_data2, exponential(new_data2, *popt_exponential), 'k--', \\\n",
    "         label=\"y= %0.2f$e^{%0.2fx}$ + %0.2f\" % (popt_exponential[0], popt_exponential[1], popt_exponential[2]))\n",
    "\n",
    "\n",
    "ax1.set_xlabel(\"x_array\",family=\"serif\",  fontsize=12)\n",
    "ax1.set_ylabel(\"y_array\",family=\"serif\",  fontsize=12)\n",
    "\n",
    "ax1.legend(loc='best')\n",
    "\n",
    "\n",
    "\n",
    "fig.tight_layout()\n",
    "fig.savefig(\"fittedExponential.png\", format=\"png\",dpi=1000)"
   ]
  },
  {
   "cell_type": "code",
   "execution_count": null,
   "id": "430e7328",
   "metadata": {},
   "outputs": [],
   "source": [
    "import math\n",
    "#y = 20.38*np.exp(-2.92*x) + .48\n",
    "#equation to approximate the mass\n",
    "\n",
    "plt.scatter(new_data2, 20.38*np.exp(-2.92*new_data2) + .48)\n",
    "scatter = plt.scatter(new_data2,new_data)"
   ]
  },
  {
   "cell_type": "code",
   "execution_count": null,
   "id": "988e5020",
   "metadata": {},
   "outputs": [],
   "source": [
    "star7"
   ]
  },
  {
   "cell_type": "code",
   "execution_count": null,
   "id": "22dc6e8e",
   "metadata": {},
   "outputs": [],
   "source": [
    "t = -c1*(1/plx)*(rv/vtot**2)\n",
    "d = 10**3*(1/plx)*(vtan/vtot)"
   ]
  },
  {
   "cell_type": "code",
   "execution_count": null,
   "id": "22c407db",
   "metadata": {},
   "outputs": [],
   "source": [
    "area = (Mass)/(d*vtot)\n",
    "plt.scatter(t/10**6, d, s = 1000*area, facecolor = 'none', edgecolor = 'black')\n",
    "\n",
    "xmin, xmax = plt.xlim(-15,15)\n",
    "ymin, ymax = plt.ylim(0,5)\n",
    "\n",
    "#plt.xlabel(\"t/Myr\")\n",
    "plt.ylabel(\"d/pc\")"
   ]
  },
  {
   "cell_type": "code",
   "execution_count": null,
   "id": "60bd7d37",
   "metadata": {},
   "outputs": [],
   "source": [
    "import matplotlib.pyplot as plt \n",
    "area = (Mass)/(d*vtot)\n",
    "plt.scatter(t/10**6, d, s = 1000*area, alpha = 1, edgecolor = 'none', facecolor = 'none', c = vtot, vmin=-100, vmax=100, cmap='seismic')\n",
    "cbartitle = plt.colorbar()\n",
    "cbartitle.set_label('total $velocity^{med}_{ph}$(km/s)')\n",
    "#plt.scatter(tph/10**3, dph, s = 500*area, alpha = .5, edgecolor = 'black', facecolor = 'black', marker = 'x')\n",
    "xmin, xmax = plt.xlim(-15,15)\n",
    "ymin, ymax = plt.ylim(0,5)\n",
    "plt.xlabel(\"perihelion time ($t^{med}_{ph}$ / Myr)\")\n",
    "plt.ylabel(\"perihelion distance ($d^{med}_{ph}$/pc)\")"
   ]
  },
  {
   "cell_type": "code",
   "execution_count": null,
   "id": "22424d3f",
   "metadata": {},
   "outputs": [],
   "source": []
  }
 ],
 "metadata": {
  "kernelspec": {
   "display_name": "Python 3",
   "language": "python",
   "name": "python3"
  },
  "language_info": {
   "codemirror_mode": {
    "name": "ipython",
    "version": 3
   },
   "file_extension": ".py",
   "mimetype": "text/x-python",
   "name": "python",
   "nbconvert_exporter": "python",
   "pygments_lexer": "ipython3",
   "version": "3.8.8"
  }
 },
 "nbformat": 4,
 "nbformat_minor": 5
}
