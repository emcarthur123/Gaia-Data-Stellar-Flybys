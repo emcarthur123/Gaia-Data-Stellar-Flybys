{
 "cells": [
  {
   "cell_type": "code",
   "execution_count": 5,
   "id": "b2845228",
   "metadata": {},
   "outputs": [
    {
     "ename": "VerifyError",
     "evalue": "Unparsable card (TCOMM118), fix it first with .verify('fix').",
     "output_type": "error",
     "traceback": [
      "\u001b[0;31m---------------------------------------------------------------------------\u001b[0m",
      "\u001b[0;31mVerifyError\u001b[0m                               Traceback (most recent call last)",
      "\u001b[0;32m<ipython-input-5-cd2402e72f7c>\u001b[0m in \u001b[0;36m<module>\u001b[0;34m\u001b[0m\n\u001b[0;32m----> 1\u001b[0;31m \u001b[0mSample\u001b[0m \u001b[0;34m=\u001b[0m \u001b[0mTable\u001b[0m\u001b[0;34m.\u001b[0m\u001b[0mread\u001b[0m\u001b[0;34m(\u001b[0m\u001b[0;34m\"/Users/edm/Desktop/100pc_rvnotnull.fits\"\u001b[0m\u001b[0;34m,\u001b[0m \u001b[0mformat\u001b[0m\u001b[0;34m=\u001b[0m\u001b[0;34m'fits'\u001b[0m\u001b[0;34m)\u001b[0m\u001b[0;34m\u001b[0m\u001b[0;34m\u001b[0m\u001b[0m\n\u001b[0m",
      "\u001b[0;32m/opt/anaconda3/lib/python3.8/site-packages/astropy/table/connect.py\u001b[0m in \u001b[0;36m__call__\u001b[0;34m(self, *args, **kwargs)\u001b[0m\n\u001b[1;32m     59\u001b[0m         \u001b[0mdescriptions\u001b[0m \u001b[0;34m=\u001b[0m \u001b[0mkwargs\u001b[0m\u001b[0;34m.\u001b[0m\u001b[0mpop\u001b[0m\u001b[0;34m(\u001b[0m\u001b[0;34m'descriptions'\u001b[0m\u001b[0;34m,\u001b[0m \u001b[0;32mNone\u001b[0m\u001b[0;34m)\u001b[0m\u001b[0;34m\u001b[0m\u001b[0;34m\u001b[0m\u001b[0m\n\u001b[1;32m     60\u001b[0m \u001b[0;34m\u001b[0m\u001b[0m\n\u001b[0;32m---> 61\u001b[0;31m         \u001b[0mout\u001b[0m \u001b[0;34m=\u001b[0m \u001b[0mregistry\u001b[0m\u001b[0;34m.\u001b[0m\u001b[0mread\u001b[0m\u001b[0;34m(\u001b[0m\u001b[0mcls\u001b[0m\u001b[0;34m,\u001b[0m \u001b[0;34m*\u001b[0m\u001b[0margs\u001b[0m\u001b[0;34m,\u001b[0m \u001b[0;34m**\u001b[0m\u001b[0mkwargs\u001b[0m\u001b[0;34m)\u001b[0m\u001b[0;34m\u001b[0m\u001b[0;34m\u001b[0m\u001b[0m\n\u001b[0m\u001b[1;32m     62\u001b[0m \u001b[0;34m\u001b[0m\u001b[0m\n\u001b[1;32m     63\u001b[0m         \u001b[0;31m# For some readers (e.g., ascii.ecsv), the returned `out` class is not\u001b[0m\u001b[0;34m\u001b[0m\u001b[0;34m\u001b[0m\u001b[0;34m\u001b[0m\u001b[0m\n",
      "\u001b[0;32m/opt/anaconda3/lib/python3.8/site-packages/astropy/io/registry.py\u001b[0m in \u001b[0;36mread\u001b[0;34m(cls, format, cache, *args, **kwargs)\u001b[0m\n\u001b[1;32m    518\u001b[0m \u001b[0;34m\u001b[0m\u001b[0m\n\u001b[1;32m    519\u001b[0m         \u001b[0mreader\u001b[0m \u001b[0;34m=\u001b[0m \u001b[0mget_reader\u001b[0m\u001b[0;34m(\u001b[0m\u001b[0mformat\u001b[0m\u001b[0;34m,\u001b[0m \u001b[0mcls\u001b[0m\u001b[0;34m)\u001b[0m\u001b[0;34m\u001b[0m\u001b[0;34m\u001b[0m\u001b[0m\n\u001b[0;32m--> 520\u001b[0;31m         \u001b[0mdata\u001b[0m \u001b[0;34m=\u001b[0m \u001b[0mreader\u001b[0m\u001b[0;34m(\u001b[0m\u001b[0;34m*\u001b[0m\u001b[0margs\u001b[0m\u001b[0;34m,\u001b[0m \u001b[0;34m**\u001b[0m\u001b[0mkwargs\u001b[0m\u001b[0;34m)\u001b[0m\u001b[0;34m\u001b[0m\u001b[0;34m\u001b[0m\u001b[0m\n\u001b[0m\u001b[1;32m    521\u001b[0m \u001b[0;34m\u001b[0m\u001b[0m\n\u001b[1;32m    522\u001b[0m         \u001b[0;32mif\u001b[0m \u001b[0;32mnot\u001b[0m \u001b[0misinstance\u001b[0m\u001b[0;34m(\u001b[0m\u001b[0mdata\u001b[0m\u001b[0;34m,\u001b[0m \u001b[0mcls\u001b[0m\u001b[0;34m)\u001b[0m\u001b[0;34m:\u001b[0m\u001b[0;34m\u001b[0m\u001b[0;34m\u001b[0m\u001b[0m\n",
      "\u001b[0;32m/opt/anaconda3/lib/python3.8/site-packages/astropy/io/fits/connect.py\u001b[0m in \u001b[0;36mread_table_fits\u001b[0;34m(input, hdu, astropy_native, memmap, character_as_bytes)\u001b[0m\n\u001b[1;32m    228\u001b[0m \u001b[0;34m\u001b[0m\u001b[0m\n\u001b[1;32m    229\u001b[0m         \u001b[0;32mtry\u001b[0m\u001b[0;34m:\u001b[0m\u001b[0;34m\u001b[0m\u001b[0;34m\u001b[0m\u001b[0m\n\u001b[0;32m--> 230\u001b[0;31m             return read_table_fits(hdulist, hdu=hdu,\n\u001b[0m\u001b[1;32m    231\u001b[0m                                    astropy_native=astropy_native)\n\u001b[1;32m    232\u001b[0m         \u001b[0;32mfinally\u001b[0m\u001b[0;34m:\u001b[0m\u001b[0;34m\u001b[0m\u001b[0;34m\u001b[0m\u001b[0m\n",
      "\u001b[0;32m/opt/anaconda3/lib/python3.8/site-packages/astropy/io/fits/connect.py\u001b[0m in \u001b[0;36mread_table_fits\u001b[0;34m(input, hdu, astropy_native, memmap, character_as_bytes)\u001b[0m\n\u001b[1;32m    276\u001b[0m         \u001b[0mhdr\u001b[0m \u001b[0;34m=\u001b[0m \u001b[0mfits_to_time\u001b[0m\u001b[0;34m(\u001b[0m\u001b[0mhdr\u001b[0m\u001b[0;34m,\u001b[0m \u001b[0mt\u001b[0m\u001b[0;34m)\u001b[0m\u001b[0;34m\u001b[0m\u001b[0;34m\u001b[0m\u001b[0m\n\u001b[1;32m    277\u001b[0m \u001b[0;34m\u001b[0m\u001b[0m\n\u001b[0;32m--> 278\u001b[0;31m     \u001b[0;32mfor\u001b[0m \u001b[0mkey\u001b[0m\u001b[0;34m,\u001b[0m \u001b[0mvalue\u001b[0m\u001b[0;34m,\u001b[0m \u001b[0mcomment\u001b[0m \u001b[0;32min\u001b[0m \u001b[0mhdr\u001b[0m\u001b[0;34m.\u001b[0m\u001b[0mcards\u001b[0m\u001b[0;34m:\u001b[0m\u001b[0;34m\u001b[0m\u001b[0;34m\u001b[0m\u001b[0m\n\u001b[0m\u001b[1;32m    279\u001b[0m \u001b[0;34m\u001b[0m\u001b[0m\n\u001b[1;32m    280\u001b[0m         \u001b[0;32mif\u001b[0m \u001b[0mkey\u001b[0m \u001b[0;32min\u001b[0m \u001b[0;34m[\u001b[0m\u001b[0;34m'COMMENT'\u001b[0m\u001b[0;34m,\u001b[0m \u001b[0;34m'HISTORY'\u001b[0m\u001b[0;34m]\u001b[0m\u001b[0;34m:\u001b[0m\u001b[0;34m\u001b[0m\u001b[0;34m\u001b[0m\u001b[0m\n",
      "\u001b[0;32m/opt/anaconda3/lib/python3.8/site-packages/astropy/io/fits/card.py\u001b[0m in \u001b[0;36m__getitem__\u001b[0;34m(self, index)\u001b[0m\n\u001b[1;32m    210\u001b[0m \u001b[0;34m\u001b[0m\u001b[0m\n\u001b[1;32m    211\u001b[0m     \u001b[0;32mdef\u001b[0m \u001b[0m__getitem__\u001b[0m\u001b[0;34m(\u001b[0m\u001b[0mself\u001b[0m\u001b[0;34m,\u001b[0m \u001b[0mindex\u001b[0m\u001b[0;34m)\u001b[0m\u001b[0;34m:\u001b[0m\u001b[0;34m\u001b[0m\u001b[0;34m\u001b[0m\u001b[0m\n\u001b[0;32m--> 212\u001b[0;31m         \u001b[0;32mreturn\u001b[0m \u001b[0;34m(\u001b[0m\u001b[0mself\u001b[0m\u001b[0;34m.\u001b[0m\u001b[0mkeyword\u001b[0m\u001b[0;34m,\u001b[0m \u001b[0mself\u001b[0m\u001b[0;34m.\u001b[0m\u001b[0mvalue\u001b[0m\u001b[0;34m,\u001b[0m \u001b[0mself\u001b[0m\u001b[0;34m.\u001b[0m\u001b[0mcomment\u001b[0m\u001b[0;34m)\u001b[0m\u001b[0;34m[\u001b[0m\u001b[0mindex\u001b[0m\u001b[0;34m]\u001b[0m\u001b[0;34m\u001b[0m\u001b[0;34m\u001b[0m\u001b[0m\n\u001b[0m\u001b[1;32m    213\u001b[0m \u001b[0;34m\u001b[0m\u001b[0m\n\u001b[1;32m    214\u001b[0m     \u001b[0;34m@\u001b[0m\u001b[0mproperty\u001b[0m\u001b[0;34m\u001b[0m\u001b[0;34m\u001b[0m\u001b[0m\n",
      "\u001b[0;32m/opt/anaconda3/lib/python3.8/site-packages/astropy/io/fits/card.py\u001b[0m in \u001b[0;36mvalue\u001b[0;34m(self)\u001b[0m\n\u001b[1;32m    284\u001b[0m             \u001b[0mvalue\u001b[0m \u001b[0;34m=\u001b[0m \u001b[0mself\u001b[0m\u001b[0;34m.\u001b[0m\u001b[0m_value\u001b[0m\u001b[0;34m\u001b[0m\u001b[0;34m\u001b[0m\u001b[0m\n\u001b[1;32m    285\u001b[0m         \u001b[0;32melif\u001b[0m \u001b[0mself\u001b[0m\u001b[0;34m.\u001b[0m\u001b[0m_valuestring\u001b[0m \u001b[0;32mis\u001b[0m \u001b[0;32mnot\u001b[0m \u001b[0;32mNone\u001b[0m \u001b[0;32mor\u001b[0m \u001b[0mself\u001b[0m\u001b[0;34m.\u001b[0m\u001b[0m_image\u001b[0m\u001b[0;34m:\u001b[0m\u001b[0;34m\u001b[0m\u001b[0;34m\u001b[0m\u001b[0m\n\u001b[0;32m--> 286\u001b[0;31m             \u001b[0mvalue\u001b[0m \u001b[0;34m=\u001b[0m \u001b[0mself\u001b[0m\u001b[0;34m.\u001b[0m\u001b[0m_value\u001b[0m \u001b[0;34m=\u001b[0m \u001b[0mself\u001b[0m\u001b[0;34m.\u001b[0m\u001b[0m_parse_value\u001b[0m\u001b[0;34m(\u001b[0m\u001b[0;34m)\u001b[0m\u001b[0;34m\u001b[0m\u001b[0;34m\u001b[0m\u001b[0m\n\u001b[0m\u001b[1;32m    287\u001b[0m         \u001b[0;32melse\u001b[0m\u001b[0;34m:\u001b[0m\u001b[0;34m\u001b[0m\u001b[0;34m\u001b[0m\u001b[0m\n\u001b[1;32m    288\u001b[0m             \u001b[0;32mif\u001b[0m \u001b[0mself\u001b[0m\u001b[0;34m.\u001b[0m\u001b[0m_keyword\u001b[0m \u001b[0;34m==\u001b[0m \u001b[0;34m''\u001b[0m\u001b[0;34m:\u001b[0m\u001b[0;34m\u001b[0m\u001b[0;34m\u001b[0m\u001b[0m\n",
      "\u001b[0;32m/opt/anaconda3/lib/python3.8/site-packages/astropy/io/fits/card.py\u001b[0m in \u001b[0;36m_parse_value\u001b[0;34m(self)\u001b[0m\n\u001b[1;32m    731\u001b[0m \u001b[0;34m\u001b[0m\u001b[0m\n\u001b[1;32m    732\u001b[0m         \u001b[0;32mif\u001b[0m \u001b[0mm\u001b[0m \u001b[0;32mis\u001b[0m \u001b[0;32mNone\u001b[0m\u001b[0;34m:\u001b[0m\u001b[0;34m\u001b[0m\u001b[0;34m\u001b[0m\u001b[0m\n\u001b[0;32m--> 733\u001b[0;31m             raise VerifyError(\"Unparsable card ({}), fix it first with \"\n\u001b[0m\u001b[1;32m    734\u001b[0m                               \".verify('fix').\".format(self.keyword))\n\u001b[1;32m    735\u001b[0m \u001b[0;34m\u001b[0m\u001b[0m\n",
      "\u001b[0;31mVerifyError\u001b[0m: Unparsable card (TCOMM118), fix it first with .verify('fix')."
     ]
    }
   ],
   "source": [
    " Sample = Table.read(\"/Users/edm/Desktop/100pc_rvnotnull.fits\", format='fits')"
   ]
  },
  {
   "cell_type": "code",
   "execution_count": 2,
   "id": "0a472246",
   "metadata": {},
   "outputs": [
    {
     "name": "stdout",
     "output_type": "stream",
     "text": [
      "Requirement already satisfied: astropy in /opt/anaconda3/lib/python3.8/site-packages (4.2.1)\n",
      "Requirement already satisfied: numpy>=1.17 in /opt/anaconda3/lib/python3.8/site-packages (from astropy) (1.20.1)\n",
      "Requirement already satisfied: pyerfa in /opt/anaconda3/lib/python3.8/site-packages (from astropy) (1.7.3)\n"
     ]
    }
   ],
   "source": [
    "import sys\n",
    "!{sys.executable} -m pip install astropy\n",
    "from astropy.table import Table\n",
    "import matplotlib.pyplot as plt\n",
    "import numpy as np\n",
    "import pandas as pd\n",
    "import scipy as scipy\n",
    "from scipy import optimize\n",
    "np.set_printoptions(threshold=np.inf)\n",
    "np.set_printoptions(precision = 40, suppress = True) #prevents scientific notation for 40 character numbers"
   ]
  },
  {
   "cell_type": "code",
   "execution_count": null,
   "id": "2d6fe5ee",
   "metadata": {},
   "outputs": [],
   "source": [
    "def value(s):\n",
    "    try:\n",
    "        return float(s)\n",
    "    except ValueError:\n",
    "        return 0"
   ]
  },
  {
   "cell_type": "code",
   "execution_count": null,
   "id": "6f2693b7",
   "metadata": {},
   "outputs": [],
   "source": [
    "data = np.loadtxt('/Users/edm/Desktop/Gaia Data/EEM_dwarf_UBVIJHK_colors_Teff.txt', usecols=(11), comments='#', dtype='str',  converters={11: value})\n",
    "#does not print with ... so hd to replace with 0's"
   ]
  },
  {
   "cell_type": "code",
   "execution_count": null,
   "id": "be6cfa51",
   "metadata": {},
   "outputs": [],
   "source": [
    "data = data.astype('float64')"
   ]
  },
  {
   "cell_type": "code",
   "execution_count": null,
   "id": "949d199a",
   "metadata": {},
   "outputs": [],
   "source": [
    "print(data)\n",
    "len(data)"
   ]
  },
  {
   "cell_type": "code",
   "execution_count": null,
   "id": "6dd7c31c",
   "metadata": {},
   "outputs": [],
   "source": [
    "def value2(s2):\n",
    "    try:\n",
    "        return float(s2)\n",
    "    except ValueError:\n",
    "        return 0"
   ]
  },
  {
   "cell_type": "code",
   "execution_count": null,
   "id": "699016f3",
   "metadata": {},
   "outputs": [],
   "source": [
    "data2 = np.loadtxt('/Users/edm/Desktop/Gaia Data/EEM_dwarf_UBVIJHK_colors_Teff.txt',usecols=(30), comments='#',dtype='str',  converters={30: value2})\n"
   ]
  },
  {
   "cell_type": "code",
   "execution_count": null,
   "id": "5a304750",
   "metadata": {},
   "outputs": [],
   "source": [
    "data2 = data2.astype('float64')\n",
    "data21 = np.asarray(data2)\n",
    "data11 = np.asarray(data)\n",
    "new_data = data21[6 : 69]\n",
    "print(new_data)\n",
    "len(new_data)\n",
    "\n",
    "new_data2 = data11[24 : 87]\n",
    "print(new_data2)\n",
    "len(new_data2)"
   ]
  },
  {
   "cell_type": "code",
   "execution_count": null,
   "id": "e57f35ae",
   "metadata": {},
   "outputs": [],
   "source": [
    "#concatanating 1d arrays code does not iterate over float\n",
    "scatter = plt.scatter(new_data2,new_data)"
   ]
  },
  {
   "cell_type": "code",
   "execution_count": null,
   "id": "cb30f43b",
   "metadata": {},
   "outputs": [],
   "source": [
    "def exponential(x, a, k, b):\n",
    "    return a*np.exp(x*k) + b"
   ]
  },
  {
   "cell_type": "code",
   "execution_count": null,
   "id": "191d7c1d",
   "metadata": {},
   "outputs": [],
   "source": [
    "popt_exponential, pcov_exponential = scipy.optimize.curve_fit(exponential, new_data2, new_data, p0=[1,-0.5, 1])"
   ]
  },
  {
   "cell_type": "code",
   "execution_count": null,
   "id": "1054d09a",
   "metadata": {},
   "outputs": [],
   "source": [
    "perr_exponential = np.sqrt(np.diag(pcov_exponential))\n",
    "print(\"pre-exponential factor = %0.2f (+/-) %0.2f\" % (popt_exponential[0], perr_exponential[0]))\n",
    "print(\"rate constant = %0.2f (+/-) %0.2f\" % (popt_exponential[1], perr_exponential[1]))"
   ]
  },
  {
   "cell_type": "code",
   "execution_count": null,
   "id": "7ab64f76",
   "metadata": {},
   "outputs": [],
   "source": [
    "import matplotlib\n",
    "import matplotlib.pyplot as plt\n",
    "import numpy as np\n",
    "import scipy as scipy\n",
    "from scipy import optimize\n",
    "\n",
    "from matplotlib import gridspec\n",
    "import matplotlib.ticker as ticker\n",
    "%matplotlib inline\n",
    "fig = plt.figure(figsize=(4,3))\n",
    "gs = gridspec.GridSpec(1,1)\n",
    "ax1 = fig.add_subplot(gs[0])\n",
    "\n",
    "ax1.plot(new_data2, new_data, \"ro\")\n",
    "ax1.plot(new_data2, exponential(new_data2, *popt_exponential), 'k--', \\\n",
    "         label=\"y= %0.2f$e^{%0.2fx}$ + %0.2f\" % (popt_exponential[0], popt_exponential[1], popt_exponential[2]))\n",
    "\n",
    "\n",
    "ax1.set_xlabel(\"x_array\",family=\"serif\",  fontsize=12)\n",
    "ax1.set_ylabel(\"y_array\",family=\"serif\",  fontsize=12)\n",
    "\n",
    "ax1.legend(loc='best')\n",
    "\n",
    "\n",
    "\n",
    "fig.tight_layout()\n",
    "fig.savefig(\"fittedExponential.png\", format=\"png\",dpi=1000)"
   ]
  },
  {
   "cell_type": "code",
   "execution_count": null,
   "id": "a1c0e71f",
   "metadata": {},
   "outputs": [],
   "source": [
    "import math\n",
    "#y = 20.38*np.exp(-2.92*x) + .48\n",
    "#equation to approximate the mass\n",
    "\n",
    "plt.scatter(new_data2, 20.38*np.exp(-2.92*new_data2) + .48)\n",
    "scatter = plt.scatter(new_data2,new_data)"
   ]
  },
  {
   "cell_type": "code",
   "execution_count": null,
   "id": "78c8a0fa",
   "metadata": {},
   "outputs": [],
   "source": [
    "star7"
   ]
  },
  {
   "cell_type": "code",
   "execution_count": null,
   "id": "07349676",
   "metadata": {},
   "outputs": [],
   "source": [
    "#radial velocity\n",
    "Rvel = np.asarray(star7[\"ADOPTEDRV\"])\n",
    "#print(Rvel)\n",
    "#median x velocity\n",
    "PMD = np.asarray(star7['PMDEC'])\n",
    "#print(PMD)\n",
    "#proper motion RA\n",
    "PMR = np.asarray(star7['PMRA'])\n",
    "pmtot = np.sqrt(PMR**2+PMD**2)\n",
    "#parallax\n",
    "plx = np.asarray(star7['plx'])\n",
    "#median distance\n",
    "Mass = np.asarray(star7[\"Mass\"])\n",
    "#print(Rp)\n",
    "Bp_Rp = np.asarray(star7['PHOT_BP_MEAN_MAG']) -  np.asarray(star7['PHOT_RP_MEAN_MAG'])\n",
    "#print(Bp)\n",
    "vtan = (4.74/plx)*pmtot\n",
    "vtot = (np.sqrt(vtan**2+rv**2))\n",
    "c1 = 0.9779*10**9\n",
    "c2 = 4.74047\n"
   ]
  },
  {
   "cell_type": "code",
   "execution_count": null,
   "id": "5a23522f",
   "metadata": {},
   "outputs": [],
   "source": [
    "t = -c1*(1/plx)*(rv/vtot**2)\n",
    "d = 10**3*(1/plx)*(vtan/vtot)"
   ]
  },
  {
   "cell_type": "code",
   "execution_count": null,
   "id": "a37f7ecd",
   "metadata": {},
   "outputs": [],
   "source": [
    "area = (Mass)/(d*vtot)\n",
    "plt.scatter(t/10**6, d, s = 1000*area, facecolor = 'none', edgecolor = 'black')\n",
    "\n",
    "xmin, xmax = plt.xlim(-15,15)\n",
    "ymin, ymax = plt.ylim(0,5)\n",
    "\n",
    "#plt.xlabel(\"t/Myr\")\n",
    "plt.ylabel(\"d/pc\")"
   ]
  },
  {
   "cell_type": "code",
   "execution_count": null,
   "id": "a401af16",
   "metadata": {},
   "outputs": [],
   "source": [
    "import matplotlib.pyplot as plt \n",
    "area = (Mass)/(d*vtot)\n",
    "plt.scatter(t/10**6, d, s = 1000*area, alpha = 1, edgecolor = 'none', facecolor = 'none', c = vtot, vmin=-100, vmax=100, cmap='seismic')\n",
    "cbartitle = plt.colorbar()\n",
    "cbartitle.set_label('total $velocity^{med}_{ph}$(km/s)')\n",
    "#plt.scatter(tph/10**3, dph, s = 500*area, alpha = .5, edgecolor = 'black', facecolor = 'black', marker = 'x')\n",
    "xmin, xmax = plt.xlim(-15,15)\n",
    "ymin, ymax = plt.ylim(0,5)\n",
    "plt.xlabel(\"perihelion time ($t^{med}_{ph}$ / Myr)\")\n",
    "plt.ylabel(\"perihelion distance ($d^{med}_{ph}$/pc)\")"
   ]
  },
  {
   "cell_type": "code",
   "execution_count": null,
   "id": "57f1ad06",
   "metadata": {},
   "outputs": [],
   "source": []
  }
 ],
 "metadata": {
  "kernelspec": {
   "display_name": "Python 3",
   "language": "python",
   "name": "python3"
  },
  "language_info": {
   "codemirror_mode": {
    "name": "ipython",
    "version": 3
   },
   "file_extension": ".py",
   "mimetype": "text/x-python",
   "name": "python",
   "nbconvert_exporter": "python",
   "pygments_lexer": "ipython3",
   "version": "3.8.8"
  }
 },
 "nbformat": 4,
 "nbformat_minor": 5
}
